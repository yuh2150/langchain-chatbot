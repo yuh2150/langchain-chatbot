{
 "cells": [
  {
   "cell_type": "code",
   "execution_count": 87,
   "metadata": {},
   "outputs": [],
   "source": [
    "import os\n",
    "from flask import Flask, request, jsonify\n",
    "from typing import Annotated, Literal , List\n",
    "from langchain_openai import ChatOpenAI\n",
    "from langchain.prompts import ChatPromptTemplate\n",
    "from langchain_core.output_parsers import StrOutputParser\n",
    "from pydantic import BaseModel, Field , field_validator, ValidationInfo\n",
    "from langchain_core.tools import tool\n",
    "from langgraph.prebuilt import create_react_agent\n",
    "from langgraph.checkpoint.memory import MemorySaver\n",
    "from typing_extensions import TypedDict\n",
    "\n",
    "from langgraph.graph import StateGraph, START, END\n",
    "from langgraph.graph.message import add_messages\n",
    "from langgraph.prebuilt import ToolNode, tools_condition\n",
    "from langgraph.types import Command, interrupt\n",
    "from langgraph.graph.message import AnyMessage\n",
    "from booking_agent.api.booking import BookingAPI\n",
    "from booking_agent.api.geoCoding import GeoCodingAPI\n",
    "from booking_agent.api.getKey import OAuthClient\n",
    "from booking_agent.api.getQuotes import QuotesAPI\n",
    "from booking_agent.api.is_Airport import IsAirport\n",
    "\n",
    "from langgraph.graph import StateGraph, MessagesState, START, END\n",
    "\n",
    "from quotes import Quote\n",
    "\n",
    "llm = ChatOpenAI(temperature=0.2, model=\"gpt-4o-mini\")\n",
    "jupiterAPI = os.getenv('JUPITER_API')\n",
    "quoteAPI = str(jupiterAPI) + \"/demand/v1/quotes\"\n",
    "bookingsAPI  = str(jupiterAPI) + '/demand/v1/bookings'\n",
    "\n",
    "class BookingCarDetails(BaseModel):\n",
    "    \"\"\"Details for the bookings car details\"\"\"\n",
    "    name: str = Field(\n",
    "        ...,\n",
    "        description=\"The name of the person booking the ride. Do not autofill if not provided\",\n",
    "    )\n",
    "    number_phone: str = Field(\n",
    "        ...,\n",
    "        description=\"The phone number of the user. Do not autofill if not provided\",\n",
    "    )\n",
    "    pick_up_location: str = Field(\n",
    "        ...,\n",
    "        description=\"The location where the user will be picked up. This can be a full address or a specific location name. Do not autofill if not provided\",\n",
    "    )\n",
    "    destination_location: str = Field(\n",
    "        ...,\n",
    "        description=\"The destination location for the ride. This can be a full address or a specific location name. Do not autofill if not provided\"\n",
    "    )\n",
    "    pick_up_time: str = Field(\n",
    "        ...,\n",
    "        description=\"The time the user intends to be picked up. No format keeps the text related to time. Do not autofill if not provided\"\n",
    "    )\n",
    "    \n",
    "    @field_validator('pick_up_location')\n",
    "    @classmethod\n",
    "    def validate_pickup(cls, value:str):\n",
    "        geoCodingAPI = GeoCodingAPI()\n",
    "        if value == '':\n",
    "            return ''\n",
    "        else :\n",
    "            geoCoding_pickup = geoCodingAPI.get_geocoding(value)\n",
    "            if geoCoding_pickup[\"status\"] == \"OK\" :\n",
    "                return geoCoding_pickup['results'][0]['formatted_address']\n",
    "            else:\n",
    "                raise ValueError(f\"Invalid pick-up location: {value}\")\n",
    "    @field_validator('destination_location')\n",
    "    @classmethod\n",
    "    def validate_destination(cls, value : str, info: ValidationInfo):\n",
    "        geoCodingAPI = GeoCodingAPI()\n",
    "        \n",
    "        # print (geoCoding_destination['results'][0]['formatted_address'])\n",
    "        if value == '':\n",
    "            return ''\n",
    "        else :\n",
    "            geoCoding_destination = geoCodingAPI.get_geocoding(value)\n",
    "            if geoCoding_destination[\"status\"] == \"OK\":\n",
    "                if geoCoding_destination['results'][0]['formatted_address'] == info.data['pick_up_location']:\n",
    "                    raise ValueError(f\"Invalid destination location: {value}\")\n",
    "                else:\n",
    "                    return geoCoding_destination['results'][0]['formatted_address']\n",
    "            else:\n",
    "            \n",
    "                raise ValueError(f\"Invalid destination location: {value}\")\n",
    "\n",
    "class State(TypedDict):\n",
    "    messages: Annotated[list[AnyMessage], add_messages]\n",
    "    quote_id: str\n",
    "    booking_info: BookingCarDetails \n",
    "    slot_empty: list\n",
    "    change_request : str\n",
    "def check_what_is_empty(user_personal_details):\n",
    "    ask_for = []\n",
    "    for field, value in user_personal_details.model_dump().items():\n",
    "        if value in [None, \"\", 0]:  \n",
    "            ask_for.append(field)\n",
    "    return ask_for\n",
    "\n",
    "\n",
    "def add_non_empty_details(current_details: BookingCarDetails, new_details: BookingCarDetails):\n",
    "    non_empty_details = {k: v for k, v in new_details.model_dump().items() if v not in [None, \"\"]}\n",
    "    updated_details = current_details.model_copy(update=non_empty_details)\n",
    "    return updated_details\n",
    "def update_details(current_details: BookingCarDetails, new_details: BookingCarDetails , field : str):\n",
    "    # non_empty_details = {k: v for k, v in new_details.model_dump().items() if v not in [None, \"\"]}\n",
    "    updated_details = current_details.model_copy(update=field)\n",
    "    return updated_details\n",
    "\n",
    "def ask_for_info(ask_list: list):\n",
    "    first_prompt = ChatPromptTemplate.from_template(\n",
    "        \"\"\"Ask one question at a time, even if you don't get all the info. Don't list the questions or greet the user. \n",
    "        ### ask_for list: {ask_for}\"\"\"\n",
    "    )\n",
    "\n",
    "    info_gathering_chain = first_prompt | llm | StrOutputParser()\n",
    "    ai_chat = info_gathering_chain.invoke({\"ask_for\": ask_list})\n",
    "    return ai_chat\n",
    "def filter_response(text_input, user_details : BookingCarDetails ):\n",
    "    chain = llm.with_structured_output(BookingCarDetails)\n",
    "    res = chain.invoke(text_input)\n",
    "    # add filtered info to the\n",
    "    user_details = add_non_empty_details(user_details,res)\n",
    "    ask_for = check_what_is_empty(user_details)\n",
    "    return user_details, ask_for\n",
    "def ask_confirm_info(booking_details: BookingCarDetails):\n",
    "    # booking_details.\n",
    "    message = (\n",
    "        f\"Please confirm your ride details:\\n\"\n",
    "        f\"- Pickup Location: {booking_details.pick_up_location}\\n\"\n",
    "        f\"- Destination: {booking_details.destination_location}\\n\"\n",
    "        f\"- Pickup Time: {booking_details.pick_up_time}\\n\"\n",
    "        f\"- Name: {booking_details.name}\\n\"\n",
    "        f\"- Contact Number: {booking_details.number_phone}\\n\"\n",
    "    )\n",
    "    print(message)\n",
    "# def call_model (state):\n",
    "#     messages = state[\"messages\"]\n",
    "#     response = llm.invoke(messages)\n",
    "#     # We return a list, because this will get added to the existing list\n",
    "#     return {\"messages\": [response]}\n",
    "@tool\n",
    "def get_booking_details(state : MessagesState):\n",
    "    \"\"\" Call function to get the details for a booking from user\"\"\"\n",
    "    # state = State(booking_info=BookingCarDetails(name=\"\", number_phone=\"\", pick_up_location=\"\", destination_location=\"\", pick_up_time=\"\"))\n",
    "    chain = llm.with_structured_output(BookingCarDetails)\n",
    "    response = chain.invoke(state[\"messages\"][-1].content)\n",
    "    booking_details = BookingCarDetails(name=\"\", number_phone=\"\", pick_up_location=\"\", destination_location=\"\", pick_up_time=\"\")\n",
    "    user_details = add_non_empty_details(booking_details, response)\n",
    "    ask_for = check_what_is_empty(user_details)\n",
    "    while ask_for:  \n",
    "        ai_response = ask_for_info(ask_for)\n",
    "        print(ai_response)\n",
    "        # print(ai_response)\n",
    "        text_input = interrupt(ai_response)\n",
    "        print(\"hi\" + text_input)\n",
    "        user_details, ask_for = filter_response(text_input, user_details)\n",
    "        return {\"human_input\": text_input}\n",
    "    \n",
    "    return user_details\n",
    "# @tool\n",
    "def get_quotes(state :State):\n",
    "    \"\"\"Call function to fetches quotes for car bookings based on the provided booking details.\"\"\"\n",
    "    quotesAPI = QuotesAPI(os.getenv(\"JUPITER_API\") + \"/demand/v1/quotes\")\n",
    "    geoCodingAPI = GeoCodingAPI()\n",
    "    # geoCoding_destination =\n",
    "    geoCoding_pickup =  geoCodingAPI.get_geocoding(state['booking_info'].pick_up_location)\n",
    "    geoCoding_destination = geoCodingAPI.get_geocoding(state['booking_info'].destination_location)\n",
    "    # input_datetime = datetime.fromisoformat(pick_up_time)\n",
    "    pickup_datetime = \"2025-02-10T19:24:10.000Z\"\n",
    "    \n",
    "    pickup_coords = { \"latitude\": float(geoCoding_pickup['results'][0]['geometry']['location']['lat']),\"longitude\": float(geoCoding_pickup['results'][0]['geometry']['location']['lng']),}\n",
    "    destination_coords = { \"latitude\": float(geoCoding_destination['results'][0]['geometry']['location']['lat']),\"longitude\": float(geoCoding_destination['results'][0]['geometry']['location']['lng']),}\n",
    "    quotes_data = quotesAPI.get_quotes(pickup_datetime, pickup_coords, destination_coords)\n",
    "    quotes = []\n",
    "    for item in quotes_data:\n",
    "        quote = Quote(\n",
    "        quote_id=item['quoteId'],\n",
    "        expires_at=item['expiresAt'],\n",
    "        vehicle_type=item['vehicleType'],\n",
    "        price_value=item['price']['value'],\n",
    "        price_currency=item['price']['currency'] if 'currency' in item['price'] and item['price']['currency'] is not None else 'CAD',\n",
    "        luggage=item['luggage'],\n",
    "        passengers=item['passengers'],\n",
    "        provider_name=item['provider']['name'],\n",
    "        provider_phone=item['provider']['phone']\n",
    "        )\n",
    "        quotes.append(quote)\n",
    "\n",
    "    for quote in quotes:\n",
    "        print({\n",
    "            \"title\": f\"{quote.vehicle_type} - {quote.price_value} {quote.price_currency}\",\n",
    "            \"payload\": f\"{quote.quote_id}\"\n",
    "        })\n",
    "    # print(quotes[0])\n",
    "    return Command(\n",
    "        update={\n",
    "            \"messages\": [\n",
    "                {\n",
    "                    \"role\": \"ai\",\n",
    "                    \"content\": \"chooese Quotes\",\n",
    "                }\n",
    "            ]\n",
    "        },\n",
    "        # goto=active_agent,\n",
    "    )\n",
    "@tool\n",
    "def change_info(fields : List[str], booking_details : BookingCarDetails):\n",
    "    \"\"\"Change the booking details field \"\"\"\n",
    "    for field in fields:\n",
    "        ai_response = ask_for_info([field])\n",
    "        print(ai_response)\n",
    "        text_input = input()\n",
    "        chain = llm.with_structured_output(BookingCarDetails)\n",
    "        response =chain.invoke(text_input)\n",
    "        user_details = add_non_empty_details(booking_details,response)\n",
    "    return user_details \n",
    "# @tool\n",
    "\n",
    "       \n",
    "# tools = [get_booking_details, get_quotes , change_info , accept_booking]  \n",
    "\n",
    "# memory = MemorySaver()\n",
    "# system_prompt = \"\"\"\n",
    "#         You are a very powerful assistant. \n",
    "#         If user express the intention to book a ride please guide the user through a booking process. \n",
    "#         Start by calling the function get_booking_details from the user's last message\n",
    "#         Once provided, ask user for confirmation. If they confirm, proceed to provide the price. \n",
    "#         If not, ask if they want to change any details. \n",
    "#         Allow them to modify specific fields they mention and repeat the confirmation process\n",
    "#     \"\"\"\n",
    "# agent_executor = create_react_agent(llm, tools = tools, state_modifier=system_prompt , checkpointer= memory)\n",
    "# inputs = {\"messages\": []}  \n",
    "# config = {\"configurable\": {\"thread_id\": \"1\"}}\n",
    "\n",
    "# # print(state[\"booking_info\"])\n",
    "# while True:\n",
    "#     user_input = input(\"You: \")\n",
    "#     # print(state[\"booking_info\"])\n",
    "#     inputs[\"messages\"].append((\"user\", user_input))\n",
    "#     for s in agent_executor.stream(inputs,config=config, stream_mode=\"values\"):\n",
    "#         message = s[\"messages\"][-1]\n",
    "#         if isinstance(message, tuple):\n",
    "#             print(f\"Assistant: {message[1]}\")\n",
    "#         else:\n",
    "#             message.pretty_print()\n",
    "\n",
    "# app = Flask(__name__)\n",
    "\n",
    "# # @app.route('/booking', methods=['POST'])\n",
    "# # def booking():\n",
    "    \n",
    "# #     user_input = request.json.get(\"user_input\", \"\")\n",
    "# #     user_id = request.json.get(\"user_id\", \"\")\n",
    "# #     # Prepare inputs for LangChain agent\n",
    "# #     inputs = {\"messages\": [(\"user\", user_input)]}\n",
    "# #     config = {\"configurable\": {\"thread_id\": user_id}}\n",
    "    \n",
    "# #     for s in agent_executor.stream(inputs, config=config, stream_mode=\"values\"):\n",
    "# #         message = s[\"messages\"][-1].content\n",
    "# #     return jsonify({\"assistant_response\": message})\n",
    "\n",
    "# # # Run the Flask app\n",
    "# # if __name__ == \"__main__\":\n",
    "# #     booking()"
   ]
  },
  {
   "cell_type": "code",
   "execution_count": 88,
   "metadata": {},
   "outputs": [],
   "source": [
    "from langchain_core.prompts import ChatPromptTemplate, MessagesPlaceholder\n",
    "\n",
    "prompt_template = ChatPromptTemplate.from_messages(\n",
    "    [\n",
    "        (\n",
    "            \"system\",\n",
    "            \"\"\"You are a helpful assistant for a car booking system. \n",
    "            Your job is to help users book a car. If you don't understand a customer's request, ask questions to clarify.\n",
    "            Make sure your answers are short but informative.\"\"\",\n",
    "        ),\n",
    "        MessagesPlaceholder(variable_name=\"messages\"),\n",
    "    ]\n",
    ")"
   ]
  },
  {
   "cell_type": "code",
   "execution_count": 89,
   "metadata": {},
   "outputs": [],
   "source": [
    "def call_model(state: State):\n",
    "    prompt = prompt_template.invoke(state)\n",
    "    response = llm.invoke(prompt)\n",
    "    return {\"messages\": response}"
   ]
  },
  {
   "cell_type": "code",
   "execution_count": 90,
   "metadata": {},
   "outputs": [],
   "source": [
    "def info_chain(state : State):\n",
    "    if \"booking_info\" in state:\n",
    "        booking_details = state[\"booking_info\"]\n",
    "    else:\n",
    "        booking_details = BookingCarDetails(name=\"\", number_phone=\"\", pick_up_location=\"\", destination_location=\"\", pick_up_time=\"\")\n",
    "    \n",
    "    chain = llm.with_structured_output(BookingCarDetails)\n",
    "    response = chain.invoke(state[\"messages\"][-1].content)\n",
    "    user_details = add_non_empty_details(booking_details, response)\n",
    "    ask_for = check_what_is_empty(user_details)\n",
    "    return Command(update={\"slot_empty\": ask_for , \"booking_info\": user_details})"
   ]
  },
  {
   "cell_type": "code",
   "execution_count": 91,
   "metadata": {},
   "outputs": [],
   "source": [
    "def human_node(\n",
    "    state: State, config\n",
    "):\n",
    "# -> Command[Literal[\"get_info\"]] :\n",
    "    \"\"\"A node for collecting user input.\"\"\"\n",
    "    \n",
    "    user_input = interrupt(value=\"Ready for user input.\")\n",
    "    # identify the last active agent\n",
    "    # (the last active node before returning to human)\n",
    "    # langgraph_triggers = config[\"metadata\"][\"langgraph_triggers\"]\n",
    "    # if len(langgraph_triggers) != 1:\n",
    "    #     raise AssertionError(\"Expected exactly 1 trigger in human node\")\n",
    "\n",
    "    # active_agent = langgraph_triggers[0].split(\":\")[1]\n",
    "    # print(\"Active agent\")\n",
    "    # print(active_agent)\n",
    "    return Command(\n",
    "        update={\n",
    "            \"messages\": [\n",
    "                {\n",
    "                    \"role\": \"human\",\n",
    "                    \"content\": user_input,\n",
    "                }\n",
    "            ]\n",
    "        },\n",
    "        goto=\"get_info\"\n",
    "        # goto=active_agent,\n",
    "    )"
   ]
  },
  {
   "cell_type": "code",
   "execution_count": 92,
   "metadata": {},
   "outputs": [],
   "source": [
    "def ask_info_empty(\n",
    "    state: State,\n",
    "):\n",
    "    first_prompt = ChatPromptTemplate.from_template(\n",
    "        \"\"\"Ask one question at a time, even if you don't get all the info. Don't list the questions or greet the user. \n",
    "        ### ask_for list: {ask_for}\"\"\"\n",
    "    )\n",
    "    info_gathering_chain = first_prompt | llm | StrOutputParser()\n",
    "    if state[\"slot_empty\"] : \n",
    "        ai_chat = info_gathering_chain.invoke({\"ask_for\": state[\"slot_empty\"]})\n",
    "        return Command(update= {\"messages\": [\n",
    "                    {\n",
    "                        \"role\": \"ai\",\n",
    "                        \"content\": ai_chat,\n",
    "                }\n",
    "            ]} , goto=\"human\")\n",
    "    else :\n",
    "        return END\n"
   ]
  },
  {
   "cell_type": "code",
   "execution_count": 93,
   "metadata": {},
   "outputs": [],
   "source": [
    "def get_state(state : State):\n",
    "    slot_empty = state[\"slot_empty\"]\n",
    "    if slot_empty == [] :\n",
    "        return \"ask_confirm\"\n",
    "    else : \n",
    "        return \"ask_info_empty\"\n",
    "    "
   ]
  },
  {
   "cell_type": "code",
   "execution_count": 94,
   "metadata": {},
   "outputs": [],
   "source": [
    "def ask_user_confirm(state : State):\n",
    "    \"\"\"Ask the user again to confirm the booking details. \"\"\"\n",
    "    message = (\n",
    "        f\"Please confirm your ride details:\\n\"\n",
    "        f\"- Pickup Location: {state[\"booking_info\"].pick_up_location}\\n\"\n",
    "        f\"- Destination: {state[\"booking_info\"].destination_location}\\n\"\n",
    "        f\"- Pickup Time: {state[\"booking_info\"].pick_up_time}\\n\"\n",
    "        f\"- Name: {state[\"booking_info\"].name}\\n\"\n",
    "        f\"- Contact Number: {state[\"booking_info\"].number_phone}\\n\"\n",
    "    )\n",
    "    return Command(update= {\"messages\": [\n",
    "                    {\n",
    "                        \"role\": \"ai\",\n",
    "                        \"content\": message,\n",
    "                }\n",
    "            ]} )"
   ]
  },
  {
   "cell_type": "code",
   "execution_count": 95,
   "metadata": {},
   "outputs": [],
   "source": [
    "class Router(TypedDict):\n",
    "    route: Literal[\"booking\", \"other\"]"
   ]
  },
  {
   "cell_type": "code",
   "execution_count": 96,
   "metadata": {},
   "outputs": [],
   "source": [
    "class RouterState(MessagesState):\n",
    "    route: Literal[\"booking\", \"other\"]"
   ]
  },
  {
   "cell_type": "code",
   "execution_count": 97,
   "metadata": {},
   "outputs": [],
   "source": [
    "from pydantic import BaseModel, Field\n",
    "\n",
    "class ConfirmDetails(BaseModel):\n",
    "    \"\"\"\n",
    "    Represents the user's confirmation intent and request details.\n",
    "    \"\"\"\n",
    "    confirm: str = Field(\n",
    "        ..., \n",
    "        description=\"User confirmation intent. 'True' if the user confirm booking, 'False' otherwise.\"\n",
    "    )\n",
    "    request: str = Field(\n",
    "        ..., \n",
    "        description=\"\"\"Return request related to name, pickup and destination location, pickup time, phone number ,flight code.\n",
    "        Returns 'None' if there is no request.Returns 'Cancel' if there is cancel.\"\"\"\n",
    "    )\n",
    "    # continue_booking: bool = Field(\n",
    "    #     # default= 'True',\n",
    "    #     description=\"True if the user wants to change info and continue booking, False if they want to cancel.\"\n",
    "    # )\n",
    "    \n"
   ]
  },
  {
   "cell_type": "code",
   "execution_count": 98,
   "metadata": {},
   "outputs": [],
   "source": [
    "router_model = llm.with_structured_output(Router)\n"
   ]
  },
  {
   "cell_type": "code",
   "execution_count": 99,
   "metadata": {},
   "outputs": [],
   "source": [
    "def router_node(state: State):\n",
    "    system_message = \"Classify the incoming query as either about booking or not.\"\n",
    "    messages = [{\"role\": \"system\", \"content\": system_message}] + state[\"messages\"]\n",
    "    route = router_model.invoke(messages)\n",
    "    return {\"route\": route[\"route\"]}\n",
    "\n"
   ]
  },
  {
   "cell_type": "code",
   "execution_count": 100,
   "metadata": {},
   "outputs": [],
   "source": [
    "def route_after_prediction(\n",
    "    state: RouterState,\n",
    ") -> Literal[\"booking_graph\", \"call_model\"]:\n",
    "    if state[\"route\"] == \"booking\":\n",
    "        return \"booking_graph\"\n",
    "    else:\n",
    "        return \"call_model\""
   ]
  },
  {
   "cell_type": "code",
   "execution_count": 101,
   "metadata": {},
   "outputs": [],
   "source": [
    "def get_confirm_state(state: State):\n",
    "    user_confirm = state[\"messages\"][-1].content\n",
    "    print(user_confirm)\n",
    "    chain_confirm = llm.with_structured_output(ConfirmDetails)\n",
    "    response = chain_confirm.invoke(user_confirm)\n",
    "    # print(response.confirm)\n",
    "    if (response.confirm == \"True\") :\n",
    "        return \"get_quotes_booking\"\n",
    "    else :\n",
    "        if(response.request == \"None\"):\n",
    "            # updates = [\"confirm_change\" ]\n",
    "            \n",
    "            return \"confirm_change\"\n",
    "            \n",
    "        elif(response.request == \"Cancel\"):\n",
    "            return \"cancel_book\"\n",
    "        else:\n",
    "            # updates = [Command(update={\"change_request\" : response.request}) , \"perform_request\"]\n",
    "            return \"perform_request\"\n",
    "\n",
    "            # print(response.request)\n",
    "    \n",
    "    # return Command(\n",
    "    #     update={\"messages\": [\n",
    "    #         {\n",
    "    #             \"role\": \"human\",\n",
    "    #             \"content\": user_confirm\n",
    "    #         }\n",
    "    #     ]},\n",
    "    #     goto=\"get_quotes_booking\"\n",
    "    # )\n"
   ]
  },
  {
   "cell_type": "code",
   "execution_count": null,
   "metadata": {},
   "outputs": [],
   "source": []
  },
  {
   "cell_type": "code",
   "execution_count": 102,
   "metadata": {},
   "outputs": [
    {
     "name": "stdout",
     "output_type": "stream",
     "text": [
      "confirm='False' request='Change name to Khoa and phone number to 0912345678.'\n"
     ]
    }
   ],
   "source": [
    "chain_confirm = llm.with_structured_output(ConfirmDetails)\n",
    "\n",
    "reponse = chain_confirm.invoke(\"no i want to change name to Khoa and phone number 0912345678\")\n",
    "print(reponse)"
   ]
  },
  {
   "cell_type": "code",
   "execution_count": 103,
   "metadata": {},
   "outputs": [],
   "source": [
    "def human_node_confirm(\n",
    "    state: State, config\n",
    "):\n",
    "    user_confirm = interrupt(value=\"Please confirm details booking.\")\n",
    "    return Command(\n",
    "        update={\n",
    "            \"messages\": [{\"role\": \"human\",\"content\": user_confirm}]\n",
    "        }\n",
    "        # goto=active_agent,\n",
    "    )"
   ]
  },
  {
   "cell_type": "code",
   "execution_count": 104,
   "metadata": {},
   "outputs": [],
   "source": [
    "def human_choose_quote(\n",
    "    state: State, config\n",
    "):\n",
    "    \"\"\"A node for collecting user confirm.\"\"\"\n",
    "    \n",
    "    user_confirm = interrupt(value=\"Please choose quote.\")\n",
    "    # print(user_confirm.get(\"messages\"))\n",
    "    command = [Command(\n",
    "        update={\n",
    "            \"messages\": [{\"role\": \"human\",\"content\": user_confirm,}]\n",
    "        }\n",
    "        # goto=active_agent,\n",
    "    ),Command(update={\"quote_id\": user_confirm}) ]\n",
    "    return command\n",
    "    "
   ]
  },
  {
   "cell_type": "code",
   "execution_count": 105,
   "metadata": {},
   "outputs": [],
   "source": [
    "def accept_booking(state :State ):\n",
    "    \"\"\"Call function to accept booking with quote_ID.\"\"\"\n",
    "    bookingAPI = BookingAPI(bookingsAPI)\n",
    "    # quote_id = tracker.get_slot(\"quoteId\")\n",
    "    person_name = state[\"booking_info\"].name\n",
    "    number_contact = state[\"booking_info\"].number_phone\n",
    "    \n",
    "    passenger_info = {\n",
    "        \"title\": \"Mr\",\n",
    "        \"phone\": number_contact,\n",
    "        \"firstName\": person_name,\n",
    "        \"lastName\": \"\"\n",
    "    }\n",
    "    print(state[\"quote_id\"])\n",
    "    response = bookingAPI.create_booking(\n",
    "        quote_id=state[\"quote_id\"],\n",
    "        passenger_info=passenger_info\n",
    "    )\n",
    "    print(response)\n",
    "    return response"
   ]
  },
  {
   "cell_type": "code",
   "execution_count": 106,
   "metadata": {},
   "outputs": [],
   "source": [
    "# acceptGraph =  StateGraph(State)\n",
    "# acceptGraph.add_node(\"ask_confirm\", ask_confirm)\n",
    "# acceptGraph.add_node(\"get_quotes_booking\", get_quotes)\n",
    "# acceptGraph.add_node(\"get_confirm\", get_confirm_state)\n",
    "# acceptGraph.add_node(\"human_confirm\", human_node_confirm)\n",
    "\n",
    "# acceptGraph.add_edge(START, \"human_confirm\")\n",
    "# # acceptGraph.add_edge(\"ask_confirm\", \"human_confirm\")\n",
    "# # acceptGraph.add_edge(\"ask_confirm\", \"get_confirm\")\n",
    "# acceptGraph.add_edge(\"human_confirm\", \"get_confirm\")\n",
    "# acceptGraph.add_edge(\"get_confirm\", \"get_quotes_booking\")\n",
    "# acceptGraph.add_edge(\"get_quotes_booking\",END)\n",
    "\n",
    "# acceptGraph = acceptGraph.compile()"
   ]
  },
  {
   "cell_type": "code",
   "execution_count": 107,
   "metadata": {},
   "outputs": [],
   "source": [
    "# builder = StateGraph(State)\n",
    "# # builder.add_node(\"call_model\", call_model)\n",
    "# builder.add_node(\"get_info\", info_chain)\n",
    "# builder.add_node(\"ask_info_empty\", ask_info_empty)\n",
    "# builder.add_node(\"human\", human_node)\n",
    "# builder.add_node(\"ask_confirm\", acceptGraph)\n",
    "\n",
    "# builder.add_edge(START, \"get_info\")\n",
    "\n",
    "# # builder.add_edge(\"call_model\", \"get_info\")\n",
    "\n",
    "# builder.add_conditional_edges(\"get_info\", get_state ,[\"ask_confirm\", \"ask_info_empty\",END])\n",
    "# builder.add_edge(\"ask_info_empty\", \"human\")\n",
    "\n",
    "# # builder.add_edge(\"call_model\", \"info\")\n",
    "# checkpointer = MemorySaver()\n",
    "# graph = builder.compile(checkpointer=checkpointer)\n",
    "# # graph = builder.compile()\n"
   ]
  },
  {
   "cell_type": "code",
   "execution_count": 108,
   "metadata": {},
   "outputs": [],
   "source": [
    "def cancel_booking (state : State):\n",
    "    return Command(\n",
    "        update={\n",
    "            \"messages\": [\n",
    "                {\n",
    "                    \"role\": \"ai\",\n",
    "                    \"content\": \"Your booking has been canceled.\",\n",
    "                }\n",
    "            ]\n",
    "        }\n",
    "    )"
   ]
  },
  {
   "cell_type": "code",
   "execution_count": 109,
   "metadata": {},
   "outputs": [],
   "source": [
    "def confirm_change(state :State):\n",
    "    return Command (\n",
    "        update= {\n",
    "            \"messages\": [\n",
    "                {\n",
    "                    \"role\": \"ai\",\n",
    "                    \"content\": \"Do you want change booking infomation?\",\n",
    "                }\n",
    "            ]\n",
    "        },\n",
    "        goto=\"human_request\"\n",
    "    ) \n",
    "    "
   ]
  },
  {
   "cell_type": "code",
   "execution_count": 110,
   "metadata": {},
   "outputs": [],
   "source": [
    "def get_change_state(state :State):\n",
    "    # [\"ask_request\", \"cancel_book\",\"perform_request\"]\n",
    "    \n",
    "    user_confirm = state[\"messages\"][-1].content\n",
    "    chain_confirm = llm.with_structured_output(ConfirmDetails)\n",
    "    response = chain_confirm.invoke(user_confirm)\n",
    "    print(response.confirm)\n",
    "    if (response.confirm == \"True\"):\n",
    "        print(response.confirm)\n",
    "        if (response.request == \"None\"):\n",
    "            return \"ask_request\"\n",
    "        else :\n",
    "            # updates = [Command(update={\"change_request\" : response.request}) , \"perform_request\"]\n",
    "            return \"perform_request\"\n",
    "    else :\n",
    "        return \"cancel_book\"\n",
    "        \n",
    "    \n",
    "    \n",
    "    \n",
    "    \n",
    "    \n"
   ]
  },
  {
   "cell_type": "code",
   "execution_count": 111,
   "metadata": {},
   "outputs": [],
   "source": [
    "def human_node_request(state :State, config):\n",
    "    \"\"\"A node for collecting user confirm.\"\"\"\n",
    "    user_confirm = interrupt(value=\"change details booking.\")\n",
    "    # print(type(user_confirm))\n",
    "    return Command(\n",
    "        update={\n",
    "            \"messages\": [{\"role\": \"human\",\"content\": user_confirm}]\n",
    "        }\n",
    "        # goto=active_agent,\n",
    "    )"
   ]
  },
  {
   "cell_type": "code",
   "execution_count": 112,
   "metadata": {},
   "outputs": [],
   "source": [
    "def ask_request(state :State):\n",
    "    \n",
    "    return Command(\n",
    "        update={\n",
    "            \"messages\": [\n",
    "                {\n",
    "                    \"role\": \"ai\",\n",
    "                    \"content\": \"What would you like to change?\",\n",
    "                }\n",
    "            ]\n",
    "        }\n",
    "    )"
   ]
  },
  {
   "cell_type": "code",
   "execution_count": 113,
   "metadata": {},
   "outputs": [],
   "source": [
    "def human_ans_change(state :State, config):\n",
    "    \"\"\"A node for collecting user confirm.\"\"\"\n",
    "    user_confirm = interrupt(value=\"Please answer.\")\n",
    "    chain_confirm = llm.with_structured_output(ConfirmDetails)\n",
    "    response = chain_confirm.invoke(user_confirm)\n",
    "    return Command(\n",
    "        update={\n",
    "            \"change_request\" : response.request,\n",
    "            \"messages\": [\n",
    "                {\n",
    "                    \"role\": \"human\",\n",
    "                    \"content\": user_confirm,\n",
    "                }\n",
    "            ]\n",
    "        }\n",
    "    )"
   ]
  },
  {
   "cell_type": "code",
   "execution_count": 114,
   "metadata": {},
   "outputs": [],
   "source": [
    "def perform_request(state :State , config) -> Command[Literal[\"ask_confirm\"]] :\n",
    "    chain = llm.with_structured_output(BookingCarDetails)\n",
    "    response =chain.invoke(state[\"messages\"][-1].content)\n",
    "    user_details = add_non_empty_details(state[\"booking_info\"],response)\n",
    "    \n",
    "    return Command(\n",
    "        update={\n",
    "            \"booking_info\" : user_details\n",
    "        },\n",
    "        goto=\"ask_confirm\",\n",
    "    ) "
   ]
  },
  {
   "cell_type": "code",
   "execution_count": 115,
   "metadata": {},
   "outputs": [],
   "source": [
    "builder = StateGraph(State)\n",
    "# builder.add_node(\"call_model\", call_model)\n",
    "builder.add_node(\"get_info\", info_chain)\n",
    "builder.add_node(\"ask_info_empty\", ask_info_empty)\n",
    "builder.add_node(\"human\", human_node)\n",
    "builder.add_node(\"human_confirm\", human_node_confirm)\n",
    "builder.add_node(\"ask_confirm\", ask_user_confirm)\n",
    "\n",
    "builder.add_node(\"cancel_book\",cancel_booking)\n",
    "\n",
    "builder.add_node(\"confirm_change\", confirm_change)\n",
    "\n",
    "builder.add_node(\"perform_request\", perform_request)\n",
    "\n",
    "builder.add_node(\"human_request\", human_node_request)\n",
    "builder.add_node(\"ask_request\", ask_request)\n",
    "builder.add_node(\"human_ans\", human_ans_change)\n",
    "\n",
    "\n",
    "builder.add_node(\"get_quotes_booking\", get_quotes)\n",
    "builder.add_node(\"human_choose_quote\", human_choose_quote)\n",
    "builder.add_node(\"accept_booking\", accept_booking) \n",
    "\n",
    "\n",
    "\n",
    "\n",
    "builder.add_edge(START, \"get_info\")\n",
    "# builder.add_edge(\"get_info\", \"ask_confirm\")\n",
    "builder.add_conditional_edges(\"get_info\", get_state ,[\"ask_confirm\", \"ask_info_empty\"])\n",
    "builder.add_edge(\"ask_info_empty\", \"human\")\n",
    "builder.add_edge(\"ask_confirm\", \"human_confirm\")\n",
    "builder.add_conditional_edges(\"human_confirm\", get_confirm_state,[\"get_quotes_booking\",\"cancel_book\", \"confirm_change\",\"perform_request\"])\n",
    "\n",
    "builder.add_edge(\"confirm_change\", \"human_request\")\n",
    "builder.add_conditional_edges(\"human_request\", get_change_state,[\"ask_request\", \"cancel_book\",\"perform_request\"])\n",
    "builder.add_edge(\"get_quotes_booking\", \"human_choose_quote\")\n",
    "builder.add_edge(\"human_choose_quote\", \"accept_booking\")\n",
    "\n",
    "builder.add_edge(\"ask_request\",\"human_ans\")\n",
    "builder.add_edge(\"human_ans\", \"perform_request\")\n",
    "builder.add_edge(\"accept_booking\", END)\n",
    "# builder.add_edge(\"call_model\", \"info\")\n",
    "# checkpointer = MemorySaver()\n",
    "# graph = builder.compile(checkpointer=checkpointer)\n",
    "subgraph = builder.compile()"
   ]
  },
  {
   "cell_type": "code",
   "execution_count": 116,
   "metadata": {},
   "outputs": [],
   "source": [
    "parent_graph = StateGraph(RouterState)\n",
    "parent_graph.add_node(router_node)\n",
    "parent_graph.add_node(\"call_model\", call_model)\n",
    "parent_graph.add_node(\"booking_graph\", subgraph)\n",
    "parent_graph.add_edge(START, \"router_node\")\n",
    "parent_graph.add_conditional_edges(\"router_node\", route_after_prediction)\n",
    "# parent_graph.add_edge(\"call_model\", END)\n",
    "# parent_graph.add_edge(\"booking_graph\", END)\n",
    "memory = MemorySaver()\n",
    "graph = parent_graph.compile(checkpointer=memory)"
   ]
  },
  {
   "cell_type": "code",
   "execution_count": 117,
   "metadata": {},
   "outputs": [
    {
     "data": {
      "image/png": "[encoded data removed]",
      "text/plain": [
       "<IPython.core.display.Image object>"
      ]
     },
     "metadata": {},
     "output_type": "display_data"
    }
   ],
   "source": [
    "from IPython.display import Image, display\n",
    "\n",
    "display(Image(graph.get_graph(xray=2).draw_mermaid_png()))"
   ]
  },
  {
   "cell_type": "code",
   "execution_count": 118,
   "metadata": {},
   "outputs": [
    {
     "ename": "SyntaxError",
     "evalue": "expected ':' (3440435761.py, line 1)",
     "output_type": "error",
     "traceback": [
      "\u001b[1;36m  Cell \u001b[1;32mIn[118], line 1\u001b[1;36m\u001b[0m\n\u001b[1;33m    try\u001b[0m\n\u001b[1;37m       ^\u001b[0m\n\u001b[1;31mSyntaxError\u001b[0m\u001b[1;31m:\u001b[0m expected ':'\n"
     ]
    }
   ],
   "source": [
    "try"
   ]
  },
  {
   "cell_type": "code",
   "execution_count": null,
   "metadata": {},
   "outputs": [
    {
     "name": "stdout",
     "output_type": "stream",
     "text": [
      "((), {'router_node': {'route': 'other'}})\n",
      "((), {'call_model': {'messages': AIMessage(content='Hello! How can I assist you with your car booking today?', additional_kwargs={'refusal': None}, response_metadata={'token_usage': {'completion_tokens': 14, 'prompt_tokens': 58, 'total_tokens': 72, 'completion_tokens_details': {'accepted_prediction_tokens': 0, 'audio_tokens': 0, 'reasoning_tokens': 0, 'rejected_prediction_tokens': 0}, 'prompt_tokens_details': {'audio_tokens': 0, 'cached_tokens': 0}}, 'model_name': 'gpt-4o-mini-2024-07-18', 'system_fingerprint': 'fp_72ed7ab54c', 'finish_reason': 'stop', 'logprobs': None}, id='run-c70030e6-f55e-4cfe-8859-bc89988fb6dc-0', usage_metadata={'input_tokens': 58, 'output_tokens': 14, 'total_tokens': 72, 'input_token_details': {'audio': 0, 'cache_read': 0}, 'output_token_details': {'audio': 0, 'reasoning': 0}})}})\n",
      "((), {'call_model': {'messages': AIMessage(content='Hello! How can I assist you with your car booking today?', additional_kwargs={'refusal': None}, response_metadata={'token_usage': {'completion_tokens': 14, 'prompt_tokens': 58, 'total_tokens': 72, 'completion_tokens_details': {'accepted_prediction_tokens': 0, 'audio_tokens': 0, 'reasoning_tokens': 0, 'rejected_prediction_tokens': 0}, 'prompt_tokens_details': {'audio_tokens': 0, 'cached_tokens': 0}}, 'model_name': 'gpt-4o-mini-2024-07-18', 'system_fingerprint': 'fp_72ed7ab54c', 'finish_reason': 'stop', 'logprobs': None}, id='run-c70030e6-f55e-4cfe-8859-bc89988fb6dc-0', usage_metadata={'input_tokens': 58, 'output_tokens': 14, 'total_tokens': 72, 'input_token_details': {'audio': 0, 'cache_read': 0}, 'output_token_details': {'audio': 0, 'reasoning': 0}})}})\n",
      "((), {'router_node': {'route': 'booking'}})\n",
      "(('booking_graph:69fcc6e8-08c7-c570-34e5-c42e68199857',), {'get_info': {'slot_empty': [], 'booking_info': BookingCarDetails(name='Huy', number_phone='0917181880', pick_up_location='460 Đ. Trần Đại Nghĩa, Hoà Hải, Điện Bàn, Quảng Nam 550000, Vietnam', destination_location='271 Đ. Nguyễn Văn Linh, Vĩnh Trung, Hải Châu, Đà Nẵng 550000, Vietnam', pick_up_time='9 tomorrow')}})\n",
      "(('booking_graph:69fcc6e8-08c7-c570-34e5-c42e68199857',), {'ask_confirm': {'messages': [{'role': 'ai', 'content': 'Please confirm your ride details:\\n- Pickup Location: 460 Đ. Trần Đại Nghĩa, Hoà Hải, Điện Bàn, Quảng Nam 550000, Vietnam\\n- Destination: 271 Đ. Nguyễn Văn Linh, Vĩnh Trung, Hải Châu, Đà Nẵng 550000, Vietnam\\n- Pickup Time: 9 tomorrow\\n- Name: Huy\\n- Contact Number: 0917181880\\n'}]}})\n",
      "((), {'__interrupt__': (Interrupt(value='Please confirm details booking.', resumable=True, ns=['booking_graph:69fcc6e8-08c7-c570-34e5-c42e68199857', 'human_confirm:2fe30fb0-7a9d-b1de-b949-1930d8450303'], when='during'),)})\n",
      "((), {'__interrupt__': (Interrupt(value='Please confirm details booking.', resumable=True, ns=['booking_graph:69fcc6e8-08c7-c570-34e5-c42e68199857', 'human_confirm:2fe30fb0-7a9d-b1de-b949-1930d8450303'], when='during'),)})\n",
      "no\n",
      "False\n",
      "(('booking_graph:69fcc6e8-08c7-c570-34e5-c42e68199857',), {'human_confirm': {'messages': [{'role': 'human', 'content': 'no'}]}})\n",
      "4564\n",
      "(('booking_graph:69fcc6e8-08c7-c570-34e5-c42e68199857',), {'confirm_change': {'messages': [{'role': 'ai', 'content': 'Do you want change booking infomation?'}]}})\n",
      "((), {'__interrupt__': (Interrupt(value='change details booking.', resumable=True, ns=['booking_graph:69fcc6e8-08c7-c570-34e5-c42e68199857', 'human_request:0a3c32cf-4a3e-dcf9-9d57-6635bfa6bbb6'], when='during'),)})\n",
      "((), {'__interrupt__': (Interrupt(value='change details booking.', resumable=True, ns=['booking_graph:69fcc6e8-08c7-c570-34e5-c42e68199857', 'human_request:0a3c32cf-4a3e-dcf9-9d57-6635bfa6bbb6'], when='during'),)})\n",
      "4564\n",
      "(('booking_graph:69fcc6e8-08c7-c570-34e5-c42e68199857',), {'human_request': {'messages': [{'role': 'human', 'content': 'yes i want to change name to Khoa'}]}})\n",
      "(('booking_graph:69fcc6e8-08c7-c570-34e5-c42e68199857',), {'perform_request': {'booking_info': BookingCarDetails(name='Khoa', number_phone='0917181880', pick_up_location='460 Đ. Trần Đại Nghĩa, Hoà Hải, Điện Bàn, Quảng Nam 550000, Vietnam', destination_location='271 Đ. Nguyễn Văn Linh, Vĩnh Trung, Hải Châu, Đà Nẵng 550000, Vietnam', pick_up_time='9 tomorrow')}})\n",
      "(('booking_graph:69fcc6e8-08c7-c570-34e5-c42e68199857',), {'ask_confirm': {'messages': [{'role': 'ai', 'content': 'Please confirm your ride details:\\n- Pickup Location: 460 Đ. Trần Đại Nghĩa, Hoà Hải, Điện Bàn, Quảng Nam 550000, Vietnam\\n- Destination: 271 Đ. Nguyễn Văn Linh, Vĩnh Trung, Hải Châu, Đà Nẵng 550000, Vietnam\\n- Pickup Time: 9 tomorrow\\n- Name: Khoa\\n- Contact Number: 0917181880\\n'}]}})\n",
      "((), {'__interrupt__': (Interrupt(value='Please confirm details booking.', resumable=True, ns=['booking_graph:69fcc6e8-08c7-c570-34e5-c42e68199857', 'human_confirm:40c271a5-7b4d-1e5c-4931-6d5cb6310d12'], when='during'),)})\n",
      "((), {'__interrupt__': (Interrupt(value='Please confirm details booking.', resumable=True, ns=['booking_graph:69fcc6e8-08c7-c570-34e5-c42e68199857', 'human_confirm:40c271a5-7b4d-1e5c-4931-6d5cb6310d12'], when='during'),)})\n",
      "ok\n",
      "True\n",
      "(('booking_graph:69fcc6e8-08c7-c570-34e5-c42e68199857',), {'human_confirm': {'messages': [{'role': 'human', 'content': 'ok'}]}})\n",
      "{'title': 'Cargo +2 (20m3) - 0 CAD', 'payload': 'df6b627d-0188-4615-b212-9afbab8eda4c'}\n",
      "{'title': 'Honda SH 1356 - 0 CAD', 'payload': '03e4c9f6-0efa-49f0-98a7-843bcbf2a0e0'}\n",
      "{'title': 'Electric- كهرباء - 0 CAD', 'payload': 'de87b638-7a12-447c-9afd-5720a8ec2f9a'}\n",
      "{'title': 'Sans véhicule - 28.06 CAD', 'payload': 'b7c0ab9f-447f-406a-9ae0-cd28b83023f9'}\n",
      "{'title': 'MOTE - 0 CAD', 'payload': '3840640d-dd09-4261-b944-b471e4ac0ade'}\n",
      "{'title': 'NewRegular - 0 CAD', 'payload': '63084e8c-4872-4f9e-8ebc-df9a5ab52f19'}\n",
      "{'title': 'Hoppa car type - 0 CAD', 'payload': '1b4ca7f7-c7c4-46ab-af44-ece6fb4994e5'}\n",
      "(('booking_graph:69fcc6e8-08c7-c570-34e5-c42e68199857',), {'get_quotes_booking': {'messages': [{'role': 'ai', 'content': 'chooese Quotes'}]}})\n",
      "((), {'__interrupt__': (Interrupt(value='Please choose quote.', resumable=True, ns=['booking_graph:69fcc6e8-08c7-c570-34e5-c42e68199857', 'human_choose_quote:75930f12-02a9-756a-cc8c-55d522f843e6'], when='during'),)})\n",
      "((), {'__interrupt__': (Interrupt(value='Please choose quote.', resumable=True, ns=['booking_graph:69fcc6e8-08c7-c570-34e5-c42e68199857', 'human_choose_quote:75930f12-02a9-756a-cc8c-55d522f843e6'], when='during'),)})\n",
      "123(('booking_graph:69fcc6e8-08c7-c570-34e5-c42e68199857',), {'human_choose_quote': {'messages': [{'role': 'human', 'content': '123'}], 'quote_id': '123'}})\n",
      "\n",
      "{'error': 400, 'status': '{\"message\":\"Quote not found\",\"code\":\"NOT_FOUND\",\"statusCode\":400,\"errorCode\":\"NOT_FOUND\",\"data\":{\"statusCode\":400},\"traceId\":\"f187e5e5-4e2b-4929-9b0e-2d6d7cf1142d\"}'}\n",
      "(('booking_graph:69fcc6e8-08c7-c570-34e5-c42e68199857',), {'accept_booking': None})\n",
      "((), {'booking_graph': {'messages': [HumanMessage(content='hi', additional_kwargs={}, response_metadata={}, id='602b1e81-96f4-4c26-ad10-b1c97e643f6f'), AIMessage(content='Hello! How can I assist you with your car booking today?', additional_kwargs={'refusal': None}, response_metadata={'token_usage': {'completion_tokens': 14, 'prompt_tokens': 58, 'total_tokens': 72, 'completion_tokens_details': {'accepted_prediction_tokens': 0, 'audio_tokens': 0, 'reasoning_tokens': 0, 'rejected_prediction_tokens': 0}, 'prompt_tokens_details': {'audio_tokens': 0, 'cached_tokens': 0}}, 'model_name': 'gpt-4o-mini-2024-07-18', 'system_fingerprint': 'fp_72ed7ab54c', 'finish_reason': 'stop', 'logprobs': None}, id='run-c70030e6-f55e-4cfe-8859-bc89988fb6dc-0', usage_metadata={'input_tokens': 58, 'output_tokens': 14, 'total_tokens': 72, 'input_token_details': {'audio': 0, 'cache_read': 0}, 'output_token_details': {'audio': 0, 'reasoning': 0}}), HumanMessage(content='i want to book a car to 271 Nguyen Van Linh, Da Nang from 460 Tran Dai Nghia, Da Nang at 9 tomorrow, my name is Huy and call me 0917181880', additional_kwargs={}, response_metadata={}, id='f56f68f0-13db-4be4-8ab1-74fc1005b921'), AIMessage(content='Please confirm your ride details:\\n- Pickup Location: 460 Đ. Trần Đại Nghĩa, Hoà Hải, Điện Bàn, Quảng Nam 550000, Vietnam\\n- Destination: 271 Đ. Nguyễn Văn Linh, Vĩnh Trung, Hải Châu, Đà Nẵng 550000, Vietnam\\n- Pickup Time: 9 tomorrow\\n- Name: Huy\\n- Contact Number: 0917181880\\n', additional_kwargs={}, response_metadata={}, id='107c00b2-16e4-4233-b84c-3394610bf73d'), HumanMessage(content='no', additional_kwargs={}, response_metadata={}, id='5e84ab5e-3468-46b4-b0ce-13fd78f8b29d'), AIMessage(content='Do you want change booking infomation?', additional_kwargs={}, response_metadata={}, id='d2eca3ab-0b8e-478c-9352-c21e2c4f7362'), HumanMessage(content='yes i want to change name to Khoa', additional_kwargs={}, response_metadata={}, id='cceea202-ee1d-416e-b02f-a880414271d8'), AIMessage(content='Please confirm your ride details:\\n- Pickup Location: 460 Đ. Trần Đại Nghĩa, Hoà Hải, Điện Bàn, Quảng Nam 550000, Vietnam\\n- Destination: 271 Đ. Nguyễn Văn Linh, Vĩnh Trung, Hải Châu, Đà Nẵng 550000, Vietnam\\n- Pickup Time: 9 tomorrow\\n- Name: Khoa\\n- Contact Number: 0917181880\\n', additional_kwargs={}, response_metadata={}, id='75fe5d6b-918f-4a50-b020-d646ab486122'), HumanMessage(content='ok', additional_kwargs={}, response_metadata={}, id='de607ae1-5f22-4246-b2db-11c767ae9a6f'), AIMessage(content='chooese Quotes', additional_kwargs={}, response_metadata={}, id='00d567a0-e54e-4512-ae06-9ffcd9a9b6b6'), HumanMessage(content='123', additional_kwargs={}, response_metadata={}, id='dda4a632-1432-464a-adc6-12bc8eeda504')], 'quote_id': '123', 'booking_info': BookingCarDetails(name='Khoa', number_phone='0917181880', pick_up_location='460 Đ. Trần Đại Nghĩa, Hoà Hải, Điện Bàn, Quảng Nam 550000, Vietnam', destination_location='271 Đ. Nguyễn Văn Linh, Vĩnh Trung, Hải Châu, Đà Nẵng 550000, Vietnam', pick_up_time='9 tomorrow'), 'slot_empty': []}})\n",
      "((), {'booking_graph': {'messages': [HumanMessage(content='hi', additional_kwargs={}, response_metadata={}, id='602b1e81-96f4-4c26-ad10-b1c97e643f6f'), AIMessage(content='Hello! How can I assist you with your car booking today?', additional_kwargs={'refusal': None}, response_metadata={'token_usage': {'completion_tokens': 14, 'prompt_tokens': 58, 'total_tokens': 72, 'completion_tokens_details': {'accepted_prediction_tokens': 0, 'audio_tokens': 0, 'reasoning_tokens': 0, 'rejected_prediction_tokens': 0}, 'prompt_tokens_details': {'audio_tokens': 0, 'cached_tokens': 0}}, 'model_name': 'gpt-4o-mini-2024-07-18', 'system_fingerprint': 'fp_72ed7ab54c', 'finish_reason': 'stop', 'logprobs': None}, id='run-c70030e6-f55e-4cfe-8859-bc89988fb6dc-0', usage_metadata={'input_tokens': 58, 'output_tokens': 14, 'total_tokens': 72, 'input_token_details': {'audio': 0, 'cache_read': 0}, 'output_token_details': {'audio': 0, 'reasoning': 0}}), HumanMessage(content='i want to book a car to 271 Nguyen Van Linh, Da Nang from 460 Tran Dai Nghia, Da Nang at 9 tomorrow, my name is Huy and call me 0917181880', additional_kwargs={}, response_metadata={}, id='f56f68f0-13db-4be4-8ab1-74fc1005b921'), AIMessage(content='Please confirm your ride details:\\n- Pickup Location: 460 Đ. Trần Đại Nghĩa, Hoà Hải, Điện Bàn, Quảng Nam 550000, Vietnam\\n- Destination: 271 Đ. Nguyễn Văn Linh, Vĩnh Trung, Hải Châu, Đà Nẵng 550000, Vietnam\\n- Pickup Time: 9 tomorrow\\n- Name: Huy\\n- Contact Number: 0917181880\\n', additional_kwargs={}, response_metadata={}, id='107c00b2-16e4-4233-b84c-3394610bf73d'), HumanMessage(content='no', additional_kwargs={}, response_metadata={}, id='5e84ab5e-3468-46b4-b0ce-13fd78f8b29d'), AIMessage(content='Do you want change booking infomation?', additional_kwargs={}, response_metadata={}, id='d2eca3ab-0b8e-478c-9352-c21e2c4f7362'), HumanMessage(content='yes i want to change name to Khoa', additional_kwargs={}, response_metadata={}, id='cceea202-ee1d-416e-b02f-a880414271d8'), AIMessage(content='Please confirm your ride details:\\n- Pickup Location: 460 Đ. Trần Đại Nghĩa, Hoà Hải, Điện Bàn, Quảng Nam 550000, Vietnam\\n- Destination: 271 Đ. Nguyễn Văn Linh, Vĩnh Trung, Hải Châu, Đà Nẵng 550000, Vietnam\\n- Pickup Time: 9 tomorrow\\n- Name: Khoa\\n- Contact Number: 0917181880\\n', additional_kwargs={}, response_metadata={}, id='75fe5d6b-918f-4a50-b020-d646ab486122'), HumanMessage(content='ok', additional_kwargs={}, response_metadata={}, id='de607ae1-5f22-4246-b2db-11c767ae9a6f'), AIMessage(content='chooese Quotes', additional_kwargs={}, response_metadata={}, id='00d567a0-e54e-4512-ae06-9ffcd9a9b6b6'), HumanMessage(content='123', additional_kwargs={}, response_metadata={}, id='dda4a632-1432-464a-adc6-12bc8eeda504')], 'quote_id': '123', 'booking_info': BookingCarDetails(name='Khoa', number_phone='0917181880', pick_up_location='460 Đ. Trần Đại Nghĩa, Hoà Hải, Điện Bàn, Quảng Nam 550000, Vietnam', destination_location='271 Đ. Nguyễn Văn Linh, Vĩnh Trung, Hải Châu, Đà Nẵng 550000, Vietnam', pick_up_time='9 tomorrow'), 'slot_empty': []}})\n",
      "Đã thoát chatbot.\n"
     ]
    }
   ],
   "source": [
    "import uuid\n",
    "from langchain_core.messages import AIMessage, HumanMessage, ToolMessage\n",
    "\n",
    "config = {\"configurable\": {\"thread_id\": str(uuid.uuid4())}}\n",
    "\n",
    "while True:\n",
    "    user = input(\"Bạn: \")\n",
    "    if user.lower() == \"q\":\n",
    "        print(\"Đã thoát chatbot.\")\n",
    "        break\n",
    "    human_command = {\"messages\": user} \n",
    "    while True:  \n",
    "        last_output = None  \n",
    "        for output in graph.stream(human_command, config=config, stream_mode=\"updates\", subgraphs=True):\n",
    "            print(output)  \n",
    "            last_output = output  \n",
    "        if isinstance(last_output, tuple) and isinstance(last_output[1], dict) and \"__interrupt__\" in last_output[1]:\n",
    "            user = input(\"Tiếp tục: \")  \n",
    "            human_command = Command(resume=user)\n",
    "        else:\n",
    "            break \n"
   ]
  },
  {
   "cell_type": "code",
   "execution_count": null,
   "metadata": {},
   "outputs": [],
   "source": []
  },
  {
   "cell_type": "code",
   "execution_count": null,
   "metadata": {},
   "outputs": [
    {
     "name": "stdout",
     "output_type": "stream",
     "text": [
      "{'router_node': {'route': 'other'}}\n",
      "{'call_model': {'messages': AIMessage(content='Hello! How can I assist you with your car booking today?', additional_kwargs={'refusal': None}, response_metadata={'token_usage': {'completion_tokens': 14, 'prompt_tokens': 63, 'total_tokens': 77, 'completion_tokens_details': {'accepted_prediction_tokens': 0, 'audio_tokens': 0, 'reasoning_tokens': 0, 'rejected_prediction_tokens': 0}, 'prompt_tokens_details': {'audio_tokens': 0, 'cached_tokens': 0}}, 'model_name': 'gpt-4o-mini-2024-07-18', 'system_fingerprint': 'fp_72ed7ab54c', 'finish_reason': 'stop', 'logprobs': None}, id='run-5a006f52-c973-48cc-88df-436fc9274a44-0', usage_metadata={'input_tokens': 63, 'output_tokens': 14, 'total_tokens': 77, 'input_token_details': {'audio': 0, 'cache_read': 0}, 'output_token_details': {'audio': 0, 'reasoning': 0}})}}\n"
     ]
    }
   ],
   "source": [
    "import uuid\n",
    "from langchain_core.messages import AIMessage, HumanMessage, ToolMessage\n",
    "config = {\"configurable\": {\"thread_id\": str(uuid.uuid4())}}\n",
    "user = \"hi\"\n",
    "human_command = Command(update ={\"messages\":\"hi\" })\n",
    "for output in graph.stream(\n",
    "        human_command, config=config, stream_mode=\"updates\"\n",
    "    ):  \n",
    "        message = output\n",
    "        print(message)"
   ]
  },
  {
   "cell_type": "code",
   "execution_count": null,
   "metadata": {},
   "outputs": [
    {
     "name": "stdout",
     "output_type": "stream",
     "text": [
      "((), {'router_node': {'route': 'booking'}})\n",
      "(('booking_graph:d6c66283-7541-612c-6c6d-00e7740fd21d',), {'get_info': {'slot_empty': ['name', 'number_phone', 'pick_up_location', 'destination_location', 'pick_up_time'], 'booking_info': BookingCarDetails(name='', number_phone='', pick_up_location='', destination_location='', pick_up_time='')}})\n",
      "(('booking_graph:d6c66283-7541-612c-6c6d-00e7740fd21d',), {'ask_info_empty': {'messages': [{'role': 'ai', 'content': 'What is your name?'}]}})\n",
      "((), {'__interrupt__': (Interrupt(value='Ready for user input.', resumable=True, ns=['booking_graph:d6c66283-7541-612c-6c6d-00e7740fd21d', 'human:dbe45b1c-2b17-4fb3-d90e-bd670f5cf63a'], when='during'),)})\n"
     ]
    }
   ],
   "source": [
    "import uuid\n",
    "from langchain_core.messages import AIMessage, HumanMessage, ToolMessage\n",
    "config = {\"configurable\": {\"thread_id\": str(uuid.uuid4())}}\n",
    "user = \"i want to book a car\"\n",
    "for output in graph.stream(\n",
    "        {\"messages\": user}, config=config, stream_mode=\"updates\", subgraphs=True\n",
    "    ):  \n",
    "        message = output\n",
    "        print(message)"
   ]
  },
  {
   "cell_type": "code",
   "execution_count": null,
   "metadata": {},
   "outputs": [
    {
     "name": "stdout",
     "output_type": "stream",
     "text": [
      "{'router_node': {'route': 'other'}}\n",
      "{'call_model': {'messages': AIMessage(content='Hello! How can I assist you with your car booking today?', additional_kwargs={'refusal': None}, response_metadata={'token_usage': {'completion_tokens': 14, 'prompt_tokens': 58, 'total_tokens': 72, 'completion_tokens_details': {'accepted_prediction_tokens': 0, 'audio_tokens': 0, 'reasoning_tokens': 0, 'rejected_prediction_tokens': 0}, 'prompt_tokens_details': {'audio_tokens': 0, 'cached_tokens': 0}}, 'model_name': 'gpt-4o-mini-2024-07-18', 'system_fingerprint': 'fp_72ed7ab54c', 'finish_reason': 'stop', 'logprobs': None}, id='run-e016afad-8e4b-4eda-99e7-44bfcbc7deca-0', usage_metadata={'input_tokens': 58, 'output_tokens': 14, 'total_tokens': 72, 'input_token_details': {'audio': 0, 'cache_read': 0}, 'output_token_details': {'audio': 0, 'reasoning': 0}})}}\n"
     ]
    }
   ],
   "source": [
    "import uuid\n",
    "from langchain_core.messages import AIMessage, HumanMessage, ToolMessage\n",
    "config = {\"configurable\": {\"thread_id\": str(uuid.uuid4())}}\n",
    "user = \"hi\"\n",
    "for output in graph.stream(\n",
    "        {\"messages\": user}, config=config, stream_mode=\"updates\"\n",
    "    ):  \n",
    "        message = output\n",
    "        print(message)"
   ]
  },
  {
   "cell_type": "code",
   "execution_count": 119,
   "metadata": {},
   "outputs": [
    {
     "name": "stdout",
     "output_type": "stream",
     "text": [
      "((), {'router_node': {'route': 'booking'}})\n",
      "(('booking_graph:e9d12e92-b7c0-1526-0c71-38e5fdb6a211',), {'get_info': {'slot_empty': [], 'booking_info': BookingCarDetails(name='Huy', number_phone='0917181880', pick_up_location='460 Đ. Trần Đại Nghĩa, Hoà Hải, Điện Bàn, Quảng Nam 550000, Vietnam', destination_location='271 Đ. Nguyễn Văn Linh, Vĩnh Trung, Hải Châu, Đà Nẵng 550000, Vietnam', pick_up_time='9 tomorrow')}})\n",
      "(('booking_graph:e9d12e92-b7c0-1526-0c71-38e5fdb6a211',), {'ask_confirm': {'messages': [{'role': 'ai', 'content': 'Please confirm your ride details:\\n- Pickup Location: 460 Đ. Trần Đại Nghĩa, Hoà Hải, Điện Bàn, Quảng Nam 550000, Vietnam\\n- Destination: 271 Đ. Nguyễn Văn Linh, Vĩnh Trung, Hải Châu, Đà Nẵng 550000, Vietnam\\n- Pickup Time: 9 tomorrow\\n- Name: Huy\\n- Contact Number: 0917181880\\n'}]}})\n",
      "((), {'__interrupt__': (Interrupt(value='Please confirm details booking.', resumable=True, ns=['booking_graph:e9d12e92-b7c0-1526-0c71-38e5fdb6a211', 'human_confirm:70c156cc-8206-d1f3-abc2-9f8cccc28c67'], when='during'),)})\n"
     ]
    }
   ],
   "source": [
    "import uuid\n",
    "from langchain_core.messages import AIMessage, HumanMessage, ToolMessage\n",
    "config = {\"configurable\": {\"thread_id\": str(uuid.uuid4())}}\n",
    "user = \"i want to book a car to 271 Nguyen Van Linh, Da Nang from 460 Tran Dai Nghia, Da Nang at 9 tomorrow, my name is Huy and call me 0917181880 \"\n",
    "for output in graph.stream(\n",
    "        {\"messages\": user}, config=config, stream_mode=\"updates\", subgraphs=True\n",
    "    ):  \n",
    "        message = output\n",
    "        print(message)\n",
    "        # if isinstance(message, tuple):\n",
    "        #     print(f\"Assistant: {message[1]}\")"
   ]
  },
  {
   "cell_type": "code",
   "execution_count": 120,
   "metadata": {},
   "outputs": [
    {
     "name": "stdout",
     "output_type": "stream",
     "text": [
      "no \n",
      "(('booking_graph:e9d12e92-b7c0-1526-0c71-38e5fdb6a211',), {'human_confirm': {'messages': [{'role': 'human', 'content': 'no '}]}})\n",
      "(('booking_graph:e9d12e92-b7c0-1526-0c71-38e5fdb6a211',), {'confirm_change': {'messages': [{'role': 'ai', 'content': 'Do you want change booking infomation?'}]}})\n",
      "((), {'__interrupt__': (Interrupt(value='change details booking.', resumable=True, ns=['booking_graph:e9d12e92-b7c0-1526-0c71-38e5fdb6a211', 'human_request:c20d1b59-188d-b0fb-d80f-4f517a1cf266'], when='during'),)})\n"
     ]
    }
   ],
   "source": [
    "human_command = Command(resume =\"no \" )\n",
    "for output in graph.stream(\n",
    "        human_command, config=config, stream_mode=\"updates\", subgraphs=True\n",
    "    ):  \n",
    "        message = output\n",
    "        print(message)"
   ]
  },
  {
   "cell_type": "code",
   "execution_count": 121,
   "metadata": {},
   "outputs": [
    {
     "name": "stdout",
     "output_type": "stream",
     "text": [
      "True\n",
      "True\n",
      "(('booking_graph:e9d12e92-b7c0-1526-0c71-38e5fdb6a211',), {'human_request': {'messages': [{'role': 'human', 'content': 'yes'}]}})\n",
      "(('booking_graph:e9d12e92-b7c0-1526-0c71-38e5fdb6a211',), {'ask_request': {'messages': [{'role': 'ai', 'content': 'What would you like to change?'}]}})\n",
      "((), {'__interrupt__': (Interrupt(value='Please answer.', resumable=True, ns=['booking_graph:e9d12e92-b7c0-1526-0c71-38e5fdb6a211', 'human_ans:8a651b79-9b26-20a5-2696-8b808db11501'], when='during'),)})\n"
     ]
    }
   ],
   "source": [
    "human_command = Command(resume = \"yes\" )\n",
    "for output in graph.stream(\n",
    "        human_command, config=config, stream_mode=\"updates\", subgraphs=True\n",
    "    ):  \n",
    "        message = output\n",
    "        print(message)"
   ]
  },
  {
   "cell_type": "code",
   "execution_count": 122,
   "metadata": {},
   "outputs": [
    {
     "name": "stdout",
     "output_type": "stream",
     "text": [
      "(('booking_graph:e9d12e92-b7c0-1526-0c71-38e5fdb6a211',), {'human_ans': {'change_request': 'Change Name', 'messages': [{'role': 'human', 'content': 'change Name'}]}})\n",
      "(('booking_graph:e9d12e92-b7c0-1526-0c71-38e5fdb6a211',), {'perform_request': {'booking_info': BookingCarDetails(name='John Doe', number_phone='123-456-7890', pick_up_location='123 Main St, Springfield, MA 01105, USA', destination_location='456 Elm St, West Springfield, MA 01089, USA', pick_up_time='3:00 PM')}})\n",
      "(('booking_graph:e9d12e92-b7c0-1526-0c71-38e5fdb6a211',), {'ask_confirm': {'messages': [{'role': 'ai', 'content': 'Please confirm your ride details:\\n- Pickup Location: 123 Main St, Springfield, MA 01105, USA\\n- Destination: 456 Elm St, West Springfield, MA 01089, USA\\n- Pickup Time: 3:00 PM\\n- Name: John Doe\\n- Contact Number: 123-456-7890\\n'}]}})\n",
      "((), {'__interrupt__': (Interrupt(value='Please confirm details booking.', resumable=True, ns=['booking_graph:e9d12e92-b7c0-1526-0c71-38e5fdb6a211', 'human_confirm:14c08b74-ea84-8973-29c0-f2b4f057c0be'], when='during'),)})\n"
     ]
    }
   ],
   "source": [
    "human_command = Command(resume = \"change Name\" )\n",
    "for output in graph.stream(\n",
    "        human_command, config=config, stream_mode=\"updates\", subgraphs=True\n",
    "    ):  \n",
    "        message = output\n",
    "        print(message)\n",
    "        \n",
    "\n"
   ]
  },
  {
   "cell_type": "code",
   "execution_count": null,
   "metadata": {},
   "outputs": [
    {
     "name": "stdout",
     "output_type": "stream",
     "text": [
      "4564\n",
      "(('booking_graph:2ece3ed3-792c-01ad-3c35-85af13dc09cc',), {'human_request': {'messages': [{'role': 'human', 'content': 'yes i want to change name to Khoa'}]}})\n",
      "(('booking_graph:2ece3ed3-792c-01ad-3c35-85af13dc09cc',), {'perform_request': {'booking_info': BookingCarDetails(name='Khoa', number_phone='0917181880', pick_up_location='460 Đ. Trần Đại Nghĩa, Hoà Hải, Điện Bàn, Quảng Nam 550000, Vietnam', destination_location='271 Đ. Nguyễn Văn Linh, Vĩnh Trung, Hải Châu, Đà Nẵng 550000, Vietnam', pick_up_time='9 tomorrow')}})\n",
      "(('booking_graph:2ece3ed3-792c-01ad-3c35-85af13dc09cc',), {'ask_confirm': {'messages': [{'role': 'ai', 'content': 'Please confirm your ride details:\\n- Pickup Location: 460 Đ. Trần Đại Nghĩa, Hoà Hải, Điện Bàn, Quảng Nam 550000, Vietnam\\n- Destination: 271 Đ. Nguyễn Văn Linh, Vĩnh Trung, Hải Châu, Đà Nẵng 550000, Vietnam\\n- Pickup Time: 9 tomorrow\\n- Name: Khoa\\n- Contact Number: 0917181880\\n'}]}})\n",
      "((), {'__interrupt__': (Interrupt(value='Please confirm details booking.', resumable=True, ns=['booking_graph:2ece3ed3-792c-01ad-3c35-85af13dc09cc', 'human_confirm:439ca939-06c7-281f-a661-ea9d19d65d45'], when='during'),)})\n"
     ]
    }
   ],
   "source": [
    "human_command = Command(resume= \"yes i want to change name to Khoa\")\n",
    "for output in graph.stream(\n",
    "        human_command, config , stream_mode= \"updates\", subgraphs=True\n",
    "    ):  \n",
    "        message = output\n",
    "        print(message)"
   ]
  },
  {
   "cell_type": "code",
   "execution_count": null,
   "metadata": {},
   "outputs": [
    {
     "ename": "AttributeError",
     "evalue": "'str' object has no attribute 'messages'",
     "output_type": "error",
     "traceback": [
      "\u001b[1;31m---------------------------------------------------------------------------\u001b[0m",
      "\u001b[1;31mAttributeError\u001b[0m                            Traceback (most recent call last)",
      "Cell \u001b[1;32mIn[41], line 4\u001b[0m\n\u001b[0;32m      1\u001b[0m human_command \u001b[38;5;241m=\u001b[39m Command(resume \u001b[38;5;241m=\u001b[39m\u001b[38;5;124m\"\u001b[39m\u001b[38;5;124mok\u001b[39m\u001b[38;5;124m\"\u001b[39m )\n\u001b[0;32m      3\u001b[0m events \u001b[38;5;241m=\u001b[39m graph\u001b[38;5;241m.\u001b[39mstream(human_command,config, stream_mode\u001b[38;5;241m=\u001b[39m\u001b[38;5;124m\"\u001b[39m\u001b[38;5;124mupdates\u001b[39m\u001b[38;5;124m\"\u001b[39m, subgraphs\u001b[38;5;241m=\u001b[39m\u001b[38;5;28;01mTrue\u001b[39;00m)\n\u001b[1;32m----> 4\u001b[0m \u001b[38;5;28;43;01mfor\u001b[39;49;00m\u001b[43m \u001b[49m\u001b[43mevent\u001b[49m\u001b[43m \u001b[49m\u001b[38;5;129;43;01min\u001b[39;49;00m\u001b[43m \u001b[49m\u001b[43mevents\u001b[49m\u001b[43m:\u001b[49m\n\u001b[0;32m      5\u001b[0m \u001b[43m        \u001b[49m\u001b[38;5;28;43mprint\u001b[39;49m\u001b[43m(\u001b[49m\u001b[43mevent\u001b[49m\u001b[43m)\u001b[49m\n",
      "File \u001b[1;32mc:\\Users\\OS\\anaconda3\\envs\\env_langchain\\Lib\\site-packages\\langgraph\\pregel\\__init__.py:1660\u001b[0m, in \u001b[0;36mPregel.stream\u001b[1;34m(self, input, config, stream_mode, output_keys, interrupt_before, interrupt_after, debug, subgraphs)\u001b[0m\n\u001b[0;32m   1654\u001b[0m     \u001b[38;5;66;03m# Similarly to Bulk Synchronous Parallel / Pregel model\u001b[39;00m\n\u001b[0;32m   1655\u001b[0m     \u001b[38;5;66;03m# computation proceeds in steps, while there are channel updates\u001b[39;00m\n\u001b[0;32m   1656\u001b[0m     \u001b[38;5;66;03m# channel updates from step N are only visible in step N+1\u001b[39;00m\n\u001b[0;32m   1657\u001b[0m     \u001b[38;5;66;03m# channels are guaranteed to be immutable for the duration of the step,\u001b[39;00m\n\u001b[0;32m   1658\u001b[0m     \u001b[38;5;66;03m# with channel updates applied only at the transition between steps\u001b[39;00m\n\u001b[0;32m   1659\u001b[0m     \u001b[38;5;28;01mwhile\u001b[39;00m loop\u001b[38;5;241m.\u001b[39mtick(input_keys\u001b[38;5;241m=\u001b[39m\u001b[38;5;28mself\u001b[39m\u001b[38;5;241m.\u001b[39minput_channels):\n\u001b[1;32m-> 1660\u001b[0m \u001b[43m        \u001b[49m\u001b[38;5;28;43;01mfor\u001b[39;49;00m\u001b[43m \u001b[49m\u001b[43m_\u001b[49m\u001b[43m \u001b[49m\u001b[38;5;129;43;01min\u001b[39;49;00m\u001b[43m \u001b[49m\u001b[43mrunner\u001b[49m\u001b[38;5;241;43m.\u001b[39;49m\u001b[43mtick\u001b[49m\u001b[43m(\u001b[49m\n\u001b[0;32m   1661\u001b[0m \u001b[43m            \u001b[49m\u001b[43mloop\u001b[49m\u001b[38;5;241;43m.\u001b[39;49m\u001b[43mtasks\u001b[49m\u001b[38;5;241;43m.\u001b[39;49m\u001b[43mvalues\u001b[49m\u001b[43m(\u001b[49m\u001b[43m)\u001b[49m\u001b[43m,\u001b[49m\n\u001b[0;32m   1662\u001b[0m \u001b[43m            \u001b[49m\u001b[43mtimeout\u001b[49m\u001b[38;5;241;43m=\u001b[39;49m\u001b[38;5;28;43mself\u001b[39;49m\u001b[38;5;241;43m.\u001b[39;49m\u001b[43mstep_timeout\u001b[49m\u001b[43m,\u001b[49m\n\u001b[0;32m   1663\u001b[0m \u001b[43m            \u001b[49m\u001b[43mretry_policy\u001b[49m\u001b[38;5;241;43m=\u001b[39;49m\u001b[38;5;28;43mself\u001b[39;49m\u001b[38;5;241;43m.\u001b[39;49m\u001b[43mretry_policy\u001b[49m\u001b[43m,\u001b[49m\n\u001b[0;32m   1664\u001b[0m \u001b[43m            \u001b[49m\u001b[43mget_waiter\u001b[49m\u001b[38;5;241;43m=\u001b[39;49m\u001b[43mget_waiter\u001b[49m\u001b[43m,\u001b[49m\n\u001b[0;32m   1665\u001b[0m \u001b[43m        \u001b[49m\u001b[43m)\u001b[49m\u001b[43m:\u001b[49m\n\u001b[0;32m   1666\u001b[0m \u001b[43m            \u001b[49m\u001b[38;5;66;43;03m# emit output\u001b[39;49;00m\n\u001b[0;32m   1667\u001b[0m \u001b[43m            \u001b[49m\u001b[38;5;28;43;01myield from\u001b[39;49;00m\u001b[43m \u001b[49m\u001b[43moutput\u001b[49m\u001b[43m(\u001b[49m\u001b[43m)\u001b[49m\n\u001b[0;32m   1668\u001b[0m \u001b[38;5;66;03m# emit output\u001b[39;00m\n",
      "File \u001b[1;32mc:\\Users\\OS\\anaconda3\\envs\\env_langchain\\Lib\\site-packages\\langgraph\\pregel\\runner.py:239\u001b[0m, in \u001b[0;36mPregelRunner.tick\u001b[1;34m(self, tasks, reraise, timeout, retry_policy, get_waiter)\u001b[0m\n\u001b[0;32m    237\u001b[0m time\u001b[38;5;241m.\u001b[39msleep(\u001b[38;5;241m0\u001b[39m)\n\u001b[0;32m    238\u001b[0m \u001b[38;5;66;03m# panic on failure or timeout\u001b[39;00m\n\u001b[1;32m--> 239\u001b[0m \u001b[43m_panic_or_proceed\u001b[49m\u001b[43m(\u001b[49m\n\u001b[0;32m    240\u001b[0m \u001b[43m    \u001b[49m\u001b[43mdone_futures\u001b[49m\u001b[38;5;241;43m.\u001b[39;49m\u001b[43munion\u001b[49m\u001b[43m(\u001b[49m\u001b[43mf\u001b[49m\u001b[43m \u001b[49m\u001b[38;5;28;43;01mfor\u001b[39;49;00m\u001b[43m \u001b[49m\u001b[43mf\u001b[49m\u001b[43m,\u001b[49m\u001b[43m \u001b[49m\u001b[43mt\u001b[49m\u001b[43m \u001b[49m\u001b[38;5;129;43;01min\u001b[39;49;00m\u001b[43m \u001b[49m\u001b[43mfutures\u001b[49m\u001b[38;5;241;43m.\u001b[39;49m\u001b[43mitems\u001b[49m\u001b[43m(\u001b[49m\u001b[43m)\u001b[49m\u001b[43m \u001b[49m\u001b[38;5;28;43;01mif\u001b[39;49;00m\u001b[43m \u001b[49m\u001b[43mt\u001b[49m\u001b[43m \u001b[49m\u001b[38;5;129;43;01mis\u001b[39;49;00m\u001b[43m \u001b[49m\u001b[38;5;129;43;01mnot\u001b[39;49;00m\u001b[43m \u001b[49m\u001b[38;5;28;43;01mNone\u001b[39;49;00m\u001b[43m)\u001b[49m\u001b[43m,\u001b[49m\n\u001b[0;32m    241\u001b[0m \u001b[43m    \u001b[49m\u001b[43mpanic\u001b[49m\u001b[38;5;241;43m=\u001b[39;49m\u001b[43mreraise\u001b[49m\u001b[43m,\u001b[49m\n\u001b[0;32m    242\u001b[0m \u001b[43m\u001b[49m\u001b[43m)\u001b[49m\n",
      "File \u001b[1;32mc:\\Users\\OS\\anaconda3\\envs\\env_langchain\\Lib\\site-packages\\langgraph\\pregel\\runner.py:539\u001b[0m, in \u001b[0;36m_panic_or_proceed\u001b[1;34m(futs, timeout_exc_cls, panic)\u001b[0m\n\u001b[0;32m    537\u001b[0m         \u001b[38;5;66;03m# raise the exception\u001b[39;00m\n\u001b[0;32m    538\u001b[0m         \u001b[38;5;28;01mif\u001b[39;00m panic:\n\u001b[1;32m--> 539\u001b[0m             \u001b[38;5;28;01mraise\u001b[39;00m exc\n\u001b[0;32m    540\u001b[0m \u001b[38;5;28;01mif\u001b[39;00m inflight:\n\u001b[0;32m    541\u001b[0m     \u001b[38;5;66;03m# if we got here means we timed out\u001b[39;00m\n\u001b[0;32m    542\u001b[0m     \u001b[38;5;28;01mwhile\u001b[39;00m inflight:\n\u001b[0;32m    543\u001b[0m         \u001b[38;5;66;03m# cancel all pending tasks\u001b[39;00m\n",
      "File \u001b[1;32mc:\\Users\\OS\\anaconda3\\envs\\env_langchain\\Lib\\site-packages\\langgraph\\pregel\\executor.py:76\u001b[0m, in \u001b[0;36mBackgroundExecutor.done\u001b[1;34m(self, task)\u001b[0m\n\u001b[0;32m     74\u001b[0m \u001b[38;5;28;01mdef\u001b[39;00m \u001b[38;5;21mdone\u001b[39m(\u001b[38;5;28mself\u001b[39m, task: concurrent\u001b[38;5;241m.\u001b[39mfutures\u001b[38;5;241m.\u001b[39mFuture) \u001b[38;5;241m-\u001b[39m\u001b[38;5;241m>\u001b[39m \u001b[38;5;28;01mNone\u001b[39;00m:\n\u001b[0;32m     75\u001b[0m     \u001b[38;5;28;01mtry\u001b[39;00m:\n\u001b[1;32m---> 76\u001b[0m         \u001b[43mtask\u001b[49m\u001b[38;5;241;43m.\u001b[39;49m\u001b[43mresult\u001b[49m\u001b[43m(\u001b[49m\u001b[43m)\u001b[49m\n\u001b[0;32m     77\u001b[0m     \u001b[38;5;28;01mexcept\u001b[39;00m GraphBubbleUp:\n\u001b[0;32m     78\u001b[0m         \u001b[38;5;66;03m# This exception is an interruption signal, not an error\u001b[39;00m\n\u001b[0;32m     79\u001b[0m         \u001b[38;5;66;03m# so we don't want to re-raise it on exit\u001b[39;00m\n\u001b[0;32m     80\u001b[0m         \u001b[38;5;28mself\u001b[39m\u001b[38;5;241m.\u001b[39mtasks\u001b[38;5;241m.\u001b[39mpop(task)\n",
      "File \u001b[1;32mc:\\Users\\OS\\anaconda3\\envs\\env_langchain\\Lib\\concurrent\\futures\\_base.py:449\u001b[0m, in \u001b[0;36mFuture.result\u001b[1;34m(self, timeout)\u001b[0m\n\u001b[0;32m    447\u001b[0m     \u001b[38;5;28;01mraise\u001b[39;00m CancelledError()\n\u001b[0;32m    448\u001b[0m \u001b[38;5;28;01melif\u001b[39;00m \u001b[38;5;28mself\u001b[39m\u001b[38;5;241m.\u001b[39m_state \u001b[38;5;241m==\u001b[39m FINISHED:\n\u001b[1;32m--> 449\u001b[0m     \u001b[38;5;28;01mreturn\u001b[39;00m \u001b[38;5;28;43mself\u001b[39;49m\u001b[38;5;241;43m.\u001b[39;49m\u001b[43m__get_result\u001b[49m\u001b[43m(\u001b[49m\u001b[43m)\u001b[49m\n\u001b[0;32m    451\u001b[0m \u001b[38;5;28mself\u001b[39m\u001b[38;5;241m.\u001b[39m_condition\u001b[38;5;241m.\u001b[39mwait(timeout)\n\u001b[0;32m    453\u001b[0m \u001b[38;5;28;01mif\u001b[39;00m \u001b[38;5;28mself\u001b[39m\u001b[38;5;241m.\u001b[39m_state \u001b[38;5;129;01min\u001b[39;00m [CANCELLED, CANCELLED_AND_NOTIFIED]:\n",
      "File \u001b[1;32mc:\\Users\\OS\\anaconda3\\envs\\env_langchain\\Lib\\concurrent\\futures\\_base.py:401\u001b[0m, in \u001b[0;36mFuture.__get_result\u001b[1;34m(self)\u001b[0m\n\u001b[0;32m    399\u001b[0m \u001b[38;5;28;01mif\u001b[39;00m \u001b[38;5;28mself\u001b[39m\u001b[38;5;241m.\u001b[39m_exception:\n\u001b[0;32m    400\u001b[0m     \u001b[38;5;28;01mtry\u001b[39;00m:\n\u001b[1;32m--> 401\u001b[0m         \u001b[38;5;28;01mraise\u001b[39;00m \u001b[38;5;28mself\u001b[39m\u001b[38;5;241m.\u001b[39m_exception\n\u001b[0;32m    402\u001b[0m     \u001b[38;5;28;01mfinally\u001b[39;00m:\n\u001b[0;32m    403\u001b[0m         \u001b[38;5;66;03m# Break a reference cycle with the exception in self._exception\u001b[39;00m\n\u001b[0;32m    404\u001b[0m         \u001b[38;5;28mself\u001b[39m \u001b[38;5;241m=\u001b[39m \u001b[38;5;28;01mNone\u001b[39;00m\n",
      "File \u001b[1;32mc:\\Users\\OS\\anaconda3\\envs\\env_langchain\\Lib\\concurrent\\futures\\thread.py:59\u001b[0m, in \u001b[0;36m_WorkItem.run\u001b[1;34m(self)\u001b[0m\n\u001b[0;32m     56\u001b[0m     \u001b[38;5;28;01mreturn\u001b[39;00m\n\u001b[0;32m     58\u001b[0m \u001b[38;5;28;01mtry\u001b[39;00m:\n\u001b[1;32m---> 59\u001b[0m     result \u001b[38;5;241m=\u001b[39m \u001b[38;5;28;43mself\u001b[39;49m\u001b[38;5;241;43m.\u001b[39;49m\u001b[43mfn\u001b[49m\u001b[43m(\u001b[49m\u001b[38;5;241;43m*\u001b[39;49m\u001b[38;5;28;43mself\u001b[39;49m\u001b[38;5;241;43m.\u001b[39;49m\u001b[43margs\u001b[49m\u001b[43m,\u001b[49m\u001b[43m \u001b[49m\u001b[38;5;241;43m*\u001b[39;49m\u001b[38;5;241;43m*\u001b[39;49m\u001b[38;5;28;43mself\u001b[39;49m\u001b[38;5;241;43m.\u001b[39;49m\u001b[43mkwargs\u001b[49m\u001b[43m)\u001b[49m\n\u001b[0;32m     60\u001b[0m \u001b[38;5;28;01mexcept\u001b[39;00m \u001b[38;5;167;01mBaseException\u001b[39;00m \u001b[38;5;28;01mas\u001b[39;00m exc:\n\u001b[0;32m     61\u001b[0m     \u001b[38;5;28mself\u001b[39m\u001b[38;5;241m.\u001b[39mfuture\u001b[38;5;241m.\u001b[39mset_exception(exc)\n",
      "File \u001b[1;32mc:\\Users\\OS\\anaconda3\\envs\\env_langchain\\Lib\\site-packages\\langgraph\\pregel\\retry.py:40\u001b[0m, in \u001b[0;36mrun_with_retry\u001b[1;34m(task, retry_policy, configurable)\u001b[0m\n\u001b[0;32m     38\u001b[0m     task\u001b[38;5;241m.\u001b[39mwrites\u001b[38;5;241m.\u001b[39mclear()\n\u001b[0;32m     39\u001b[0m     \u001b[38;5;66;03m# run the task\u001b[39;00m\n\u001b[1;32m---> 40\u001b[0m     \u001b[38;5;28;01mreturn\u001b[39;00m \u001b[43mtask\u001b[49m\u001b[38;5;241;43m.\u001b[39;49m\u001b[43mproc\u001b[49m\u001b[38;5;241;43m.\u001b[39;49m\u001b[43minvoke\u001b[49m\u001b[43m(\u001b[49m\u001b[43mtask\u001b[49m\u001b[38;5;241;43m.\u001b[39;49m\u001b[43minput\u001b[49m\u001b[43m,\u001b[49m\u001b[43m \u001b[49m\u001b[43mconfig\u001b[49m\u001b[43m)\u001b[49m\n\u001b[0;32m     41\u001b[0m \u001b[38;5;28;01mexcept\u001b[39;00m ParentCommand \u001b[38;5;28;01mas\u001b[39;00m exc:\n\u001b[0;32m     42\u001b[0m     ns: \u001b[38;5;28mstr\u001b[39m \u001b[38;5;241m=\u001b[39m config[CONF][CONFIG_KEY_CHECKPOINT_NS]\n",
      "File \u001b[1;32mc:\\Users\\OS\\anaconda3\\envs\\env_langchain\\Lib\\site-packages\\langgraph\\utils\\runnable.py:408\u001b[0m, in \u001b[0;36mRunnableSeq.invoke\u001b[1;34m(self, input, config, **kwargs)\u001b[0m\n\u001b[0;32m    404\u001b[0m config \u001b[38;5;241m=\u001b[39m patch_config(\n\u001b[0;32m    405\u001b[0m     config, callbacks\u001b[38;5;241m=\u001b[39mrun_manager\u001b[38;5;241m.\u001b[39mget_child(\u001b[38;5;124mf\u001b[39m\u001b[38;5;124m\"\u001b[39m\u001b[38;5;124mseq:step:\u001b[39m\u001b[38;5;132;01m{\u001b[39;00mi\u001b[38;5;241m+\u001b[39m\u001b[38;5;241m1\u001b[39m\u001b[38;5;132;01m}\u001b[39;00m\u001b[38;5;124m\"\u001b[39m)\n\u001b[0;32m    406\u001b[0m )\n\u001b[0;32m    407\u001b[0m \u001b[38;5;28;01mif\u001b[39;00m i \u001b[38;5;241m==\u001b[39m \u001b[38;5;241m0\u001b[39m:\n\u001b[1;32m--> 408\u001b[0m     \u001b[38;5;28minput\u001b[39m \u001b[38;5;241m=\u001b[39m \u001b[43mstep\u001b[49m\u001b[38;5;241;43m.\u001b[39;49m\u001b[43minvoke\u001b[49m\u001b[43m(\u001b[49m\u001b[38;5;28;43minput\u001b[39;49m\u001b[43m,\u001b[49m\u001b[43m \u001b[49m\u001b[43mconfig\u001b[49m\u001b[43m,\u001b[49m\u001b[43m \u001b[49m\u001b[38;5;241;43m*\u001b[39;49m\u001b[38;5;241;43m*\u001b[39;49m\u001b[43mkwargs\u001b[49m\u001b[43m)\u001b[49m\n\u001b[0;32m    409\u001b[0m \u001b[38;5;28;01melse\u001b[39;00m:\n\u001b[0;32m    410\u001b[0m     \u001b[38;5;28minput\u001b[39m \u001b[38;5;241m=\u001b[39m step\u001b[38;5;241m.\u001b[39minvoke(\u001b[38;5;28minput\u001b[39m, config)\n",
      "File \u001b[1;32mc:\\Users\\OS\\anaconda3\\envs\\env_langchain\\Lib\\site-packages\\langgraph\\pregel\\__init__.py:1940\u001b[0m, in \u001b[0;36mPregel.invoke\u001b[1;34m(self, input, config, stream_mode, output_keys, interrupt_before, interrupt_after, debug, **kwargs)\u001b[0m\n\u001b[0;32m   1938\u001b[0m \u001b[38;5;28;01melse\u001b[39;00m:\n\u001b[0;32m   1939\u001b[0m     chunks \u001b[38;5;241m=\u001b[39m []\n\u001b[1;32m-> 1940\u001b[0m \u001b[43m\u001b[49m\u001b[38;5;28;43;01mfor\u001b[39;49;00m\u001b[43m \u001b[49m\u001b[43mchunk\u001b[49m\u001b[43m \u001b[49m\u001b[38;5;129;43;01min\u001b[39;49;00m\u001b[43m \u001b[49m\u001b[38;5;28;43mself\u001b[39;49m\u001b[38;5;241;43m.\u001b[39;49m\u001b[43mstream\u001b[49m\u001b[43m(\u001b[49m\n\u001b[0;32m   1941\u001b[0m \u001b[43m    \u001b[49m\u001b[38;5;28;43minput\u001b[39;49m\u001b[43m,\u001b[49m\n\u001b[0;32m   1942\u001b[0m \u001b[43m    \u001b[49m\u001b[43mconfig\u001b[49m\u001b[43m,\u001b[49m\n\u001b[0;32m   1943\u001b[0m \u001b[43m    \u001b[49m\u001b[43mstream_mode\u001b[49m\u001b[38;5;241;43m=\u001b[39;49m\u001b[43mstream_mode\u001b[49m\u001b[43m,\u001b[49m\n\u001b[0;32m   1944\u001b[0m \u001b[43m    \u001b[49m\u001b[43moutput_keys\u001b[49m\u001b[38;5;241;43m=\u001b[39;49m\u001b[43moutput_keys\u001b[49m\u001b[43m,\u001b[49m\n\u001b[0;32m   1945\u001b[0m \u001b[43m    \u001b[49m\u001b[43minterrupt_before\u001b[49m\u001b[38;5;241;43m=\u001b[39;49m\u001b[43minterrupt_before\u001b[49m\u001b[43m,\u001b[49m\n\u001b[0;32m   1946\u001b[0m \u001b[43m    \u001b[49m\u001b[43minterrupt_after\u001b[49m\u001b[38;5;241;43m=\u001b[39;49m\u001b[43minterrupt_after\u001b[49m\u001b[43m,\u001b[49m\n\u001b[0;32m   1947\u001b[0m \u001b[43m    \u001b[49m\u001b[43mdebug\u001b[49m\u001b[38;5;241;43m=\u001b[39;49m\u001b[43mdebug\u001b[49m\u001b[43m,\u001b[49m\n\u001b[0;32m   1948\u001b[0m \u001b[43m    \u001b[49m\u001b[38;5;241;43m*\u001b[39;49m\u001b[38;5;241;43m*\u001b[39;49m\u001b[43mkwargs\u001b[49m\u001b[43m,\u001b[49m\n\u001b[0;32m   1949\u001b[0m \u001b[43m\u001b[49m\u001b[43m)\u001b[49m\u001b[43m:\u001b[49m\n\u001b[0;32m   1950\u001b[0m \u001b[43m    \u001b[49m\u001b[38;5;28;43;01mif\u001b[39;49;00m\u001b[43m \u001b[49m\u001b[43mstream_mode\u001b[49m\u001b[43m \u001b[49m\u001b[38;5;241;43m==\u001b[39;49m\u001b[43m \u001b[49m\u001b[38;5;124;43m\"\u001b[39;49m\u001b[38;5;124;43mvalues\u001b[39;49m\u001b[38;5;124;43m\"\u001b[39;49m\u001b[43m:\u001b[49m\n\u001b[0;32m   1951\u001b[0m \u001b[43m        \u001b[49m\u001b[43mlatest\u001b[49m\u001b[43m \u001b[49m\u001b[38;5;241;43m=\u001b[39;49m\u001b[43m \u001b[49m\u001b[43mchunk\u001b[49m\n",
      "File \u001b[1;32mc:\\Users\\OS\\anaconda3\\envs\\env_langchain\\Lib\\site-packages\\langgraph\\pregel\\__init__.py:1660\u001b[0m, in \u001b[0;36mPregel.stream\u001b[1;34m(self, input, config, stream_mode, output_keys, interrupt_before, interrupt_after, debug, subgraphs)\u001b[0m\n\u001b[0;32m   1654\u001b[0m     \u001b[38;5;66;03m# Similarly to Bulk Synchronous Parallel / Pregel model\u001b[39;00m\n\u001b[0;32m   1655\u001b[0m     \u001b[38;5;66;03m# computation proceeds in steps, while there are channel updates\u001b[39;00m\n\u001b[0;32m   1656\u001b[0m     \u001b[38;5;66;03m# channel updates from step N are only visible in step N+1\u001b[39;00m\n\u001b[0;32m   1657\u001b[0m     \u001b[38;5;66;03m# channels are guaranteed to be immutable for the duration of the step,\u001b[39;00m\n\u001b[0;32m   1658\u001b[0m     \u001b[38;5;66;03m# with channel updates applied only at the transition between steps\u001b[39;00m\n\u001b[0;32m   1659\u001b[0m     \u001b[38;5;28;01mwhile\u001b[39;00m loop\u001b[38;5;241m.\u001b[39mtick(input_keys\u001b[38;5;241m=\u001b[39m\u001b[38;5;28mself\u001b[39m\u001b[38;5;241m.\u001b[39minput_channels):\n\u001b[1;32m-> 1660\u001b[0m \u001b[43m        \u001b[49m\u001b[38;5;28;43;01mfor\u001b[39;49;00m\u001b[43m \u001b[49m\u001b[43m_\u001b[49m\u001b[43m \u001b[49m\u001b[38;5;129;43;01min\u001b[39;49;00m\u001b[43m \u001b[49m\u001b[43mrunner\u001b[49m\u001b[38;5;241;43m.\u001b[39;49m\u001b[43mtick\u001b[49m\u001b[43m(\u001b[49m\n\u001b[0;32m   1661\u001b[0m \u001b[43m            \u001b[49m\u001b[43mloop\u001b[49m\u001b[38;5;241;43m.\u001b[39;49m\u001b[43mtasks\u001b[49m\u001b[38;5;241;43m.\u001b[39;49m\u001b[43mvalues\u001b[49m\u001b[43m(\u001b[49m\u001b[43m)\u001b[49m\u001b[43m,\u001b[49m\n\u001b[0;32m   1662\u001b[0m \u001b[43m            \u001b[49m\u001b[43mtimeout\u001b[49m\u001b[38;5;241;43m=\u001b[39;49m\u001b[38;5;28;43mself\u001b[39;49m\u001b[38;5;241;43m.\u001b[39;49m\u001b[43mstep_timeout\u001b[49m\u001b[43m,\u001b[49m\n\u001b[0;32m   1663\u001b[0m \u001b[43m            \u001b[49m\u001b[43mretry_policy\u001b[49m\u001b[38;5;241;43m=\u001b[39;49m\u001b[38;5;28;43mself\u001b[39;49m\u001b[38;5;241;43m.\u001b[39;49m\u001b[43mretry_policy\u001b[49m\u001b[43m,\u001b[49m\n\u001b[0;32m   1664\u001b[0m \u001b[43m            \u001b[49m\u001b[43mget_waiter\u001b[49m\u001b[38;5;241;43m=\u001b[39;49m\u001b[43mget_waiter\u001b[49m\u001b[43m,\u001b[49m\n\u001b[0;32m   1665\u001b[0m \u001b[43m        \u001b[49m\u001b[43m)\u001b[49m\u001b[43m:\u001b[49m\n\u001b[0;32m   1666\u001b[0m \u001b[43m            \u001b[49m\u001b[38;5;66;43;03m# emit output\u001b[39;49;00m\n\u001b[0;32m   1667\u001b[0m \u001b[43m            \u001b[49m\u001b[38;5;28;43;01myield from\u001b[39;49;00m\u001b[43m \u001b[49m\u001b[43moutput\u001b[49m\u001b[43m(\u001b[49m\u001b[43m)\u001b[49m\n\u001b[0;32m   1668\u001b[0m \u001b[38;5;66;03m# emit output\u001b[39;00m\n",
      "File \u001b[1;32mc:\\Users\\OS\\anaconda3\\envs\\env_langchain\\Lib\\site-packages\\langgraph\\pregel\\runner.py:167\u001b[0m, in \u001b[0;36mPregelRunner.tick\u001b[1;34m(self, tasks, reraise, timeout, retry_policy, get_waiter)\u001b[0m\n\u001b[0;32m    165\u001b[0m t \u001b[38;5;241m=\u001b[39m tasks[\u001b[38;5;241m0\u001b[39m]\n\u001b[0;32m    166\u001b[0m \u001b[38;5;28;01mtry\u001b[39;00m:\n\u001b[1;32m--> 167\u001b[0m     \u001b[43mrun_with_retry\u001b[49m\u001b[43m(\u001b[49m\n\u001b[0;32m    168\u001b[0m \u001b[43m        \u001b[49m\u001b[43mt\u001b[49m\u001b[43m,\u001b[49m\n\u001b[0;32m    169\u001b[0m \u001b[43m        \u001b[49m\u001b[43mretry_policy\u001b[49m\u001b[43m,\u001b[49m\n\u001b[0;32m    170\u001b[0m \u001b[43m        \u001b[49m\u001b[43mconfigurable\u001b[49m\u001b[38;5;241;43m=\u001b[39;49m\u001b[43m{\u001b[49m\n\u001b[0;32m    171\u001b[0m \u001b[43m            \u001b[49m\u001b[43mCONFIG_KEY_SEND\u001b[49m\u001b[43m:\u001b[49m\u001b[43m \u001b[49m\u001b[43mpartial\u001b[49m\u001b[43m(\u001b[49m\u001b[43mwriter\u001b[49m\u001b[43m,\u001b[49m\u001b[43m \u001b[49m\u001b[43mt\u001b[49m\u001b[43m)\u001b[49m\u001b[43m,\u001b[49m\n\u001b[0;32m    172\u001b[0m \u001b[43m            \u001b[49m\u001b[43mCONFIG_KEY_CALL\u001b[49m\u001b[43m:\u001b[49m\u001b[43m \u001b[49m\u001b[43mpartial\u001b[49m\u001b[43m(\u001b[49m\u001b[43mcall\u001b[49m\u001b[43m,\u001b[49m\u001b[43m \u001b[49m\u001b[43mt\u001b[49m\u001b[43m)\u001b[49m\u001b[43m,\u001b[49m\n\u001b[0;32m    173\u001b[0m \u001b[43m        \u001b[49m\u001b[43m}\u001b[49m\u001b[43m,\u001b[49m\n\u001b[0;32m    174\u001b[0m \u001b[43m    \u001b[49m\u001b[43m)\u001b[49m\n\u001b[0;32m    175\u001b[0m     \u001b[38;5;28mself\u001b[39m\u001b[38;5;241m.\u001b[39mcommit(t, \u001b[38;5;28;01mNone\u001b[39;00m)\n\u001b[0;32m    176\u001b[0m \u001b[38;5;28;01mexcept\u001b[39;00m \u001b[38;5;167;01mException\u001b[39;00m \u001b[38;5;28;01mas\u001b[39;00m exc:\n",
      "File \u001b[1;32mc:\\Users\\OS\\anaconda3\\envs\\env_langchain\\Lib\\site-packages\\langgraph\\pregel\\retry.py:40\u001b[0m, in \u001b[0;36mrun_with_retry\u001b[1;34m(task, retry_policy, configurable)\u001b[0m\n\u001b[0;32m     38\u001b[0m     task\u001b[38;5;241m.\u001b[39mwrites\u001b[38;5;241m.\u001b[39mclear()\n\u001b[0;32m     39\u001b[0m     \u001b[38;5;66;03m# run the task\u001b[39;00m\n\u001b[1;32m---> 40\u001b[0m     \u001b[38;5;28;01mreturn\u001b[39;00m \u001b[43mtask\u001b[49m\u001b[38;5;241;43m.\u001b[39;49m\u001b[43mproc\u001b[49m\u001b[38;5;241;43m.\u001b[39;49m\u001b[43minvoke\u001b[49m\u001b[43m(\u001b[49m\u001b[43mtask\u001b[49m\u001b[38;5;241;43m.\u001b[39;49m\u001b[43minput\u001b[49m\u001b[43m,\u001b[49m\u001b[43m \u001b[49m\u001b[43mconfig\u001b[49m\u001b[43m)\u001b[49m\n\u001b[0;32m     41\u001b[0m \u001b[38;5;28;01mexcept\u001b[39;00m ParentCommand \u001b[38;5;28;01mas\u001b[39;00m exc:\n\u001b[0;32m     42\u001b[0m     ns: \u001b[38;5;28mstr\u001b[39m \u001b[38;5;241m=\u001b[39m config[CONF][CONFIG_KEY_CHECKPOINT_NS]\n",
      "File \u001b[1;32mc:\\Users\\OS\\anaconda3\\envs\\env_langchain\\Lib\\site-packages\\langgraph\\utils\\runnable.py:408\u001b[0m, in \u001b[0;36mRunnableSeq.invoke\u001b[1;34m(self, input, config, **kwargs)\u001b[0m\n\u001b[0;32m    404\u001b[0m config \u001b[38;5;241m=\u001b[39m patch_config(\n\u001b[0;32m    405\u001b[0m     config, callbacks\u001b[38;5;241m=\u001b[39mrun_manager\u001b[38;5;241m.\u001b[39mget_child(\u001b[38;5;124mf\u001b[39m\u001b[38;5;124m\"\u001b[39m\u001b[38;5;124mseq:step:\u001b[39m\u001b[38;5;132;01m{\u001b[39;00mi\u001b[38;5;241m+\u001b[39m\u001b[38;5;241m1\u001b[39m\u001b[38;5;132;01m}\u001b[39;00m\u001b[38;5;124m\"\u001b[39m)\n\u001b[0;32m    406\u001b[0m )\n\u001b[0;32m    407\u001b[0m \u001b[38;5;28;01mif\u001b[39;00m i \u001b[38;5;241m==\u001b[39m \u001b[38;5;241m0\u001b[39m:\n\u001b[1;32m--> 408\u001b[0m     \u001b[38;5;28minput\u001b[39m \u001b[38;5;241m=\u001b[39m \u001b[43mstep\u001b[49m\u001b[38;5;241;43m.\u001b[39;49m\u001b[43minvoke\u001b[49m\u001b[43m(\u001b[49m\u001b[38;5;28;43minput\u001b[39;49m\u001b[43m,\u001b[49m\u001b[43m \u001b[49m\u001b[43mconfig\u001b[49m\u001b[43m,\u001b[49m\u001b[43m \u001b[49m\u001b[38;5;241;43m*\u001b[39;49m\u001b[38;5;241;43m*\u001b[39;49m\u001b[43mkwargs\u001b[49m\u001b[43m)\u001b[49m\n\u001b[0;32m    409\u001b[0m \u001b[38;5;28;01melse\u001b[39;00m:\n\u001b[0;32m    410\u001b[0m     \u001b[38;5;28minput\u001b[39m \u001b[38;5;241m=\u001b[39m step\u001b[38;5;241m.\u001b[39minvoke(\u001b[38;5;28minput\u001b[39m, config)\n",
      "File \u001b[1;32mc:\\Users\\OS\\anaconda3\\envs\\env_langchain\\Lib\\site-packages\\langgraph\\utils\\runnable.py:184\u001b[0m, in \u001b[0;36mRunnableCallable.invoke\u001b[1;34m(self, input, config, **kwargs)\u001b[0m\n\u001b[0;32m    182\u001b[0m \u001b[38;5;28;01melse\u001b[39;00m:\n\u001b[0;32m    183\u001b[0m     context\u001b[38;5;241m.\u001b[39mrun(_set_config_context, config)\n\u001b[1;32m--> 184\u001b[0m     ret \u001b[38;5;241m=\u001b[39m \u001b[43mcontext\u001b[49m\u001b[38;5;241;43m.\u001b[39;49m\u001b[43mrun\u001b[49m\u001b[43m(\u001b[49m\u001b[38;5;28;43mself\u001b[39;49m\u001b[38;5;241;43m.\u001b[39;49m\u001b[43mfunc\u001b[49m\u001b[43m,\u001b[49m\u001b[43m \u001b[49m\u001b[38;5;28;43minput\u001b[39;49m\u001b[43m,\u001b[49m\u001b[43m \u001b[49m\u001b[38;5;241;43m*\u001b[39;49m\u001b[38;5;241;43m*\u001b[39;49m\u001b[43mkwargs\u001b[49m\u001b[43m)\u001b[49m\n\u001b[0;32m    185\u001b[0m \u001b[38;5;28;01mif\u001b[39;00m \u001b[38;5;28misinstance\u001b[39m(ret, Runnable) \u001b[38;5;129;01mand\u001b[39;00m \u001b[38;5;28mself\u001b[39m\u001b[38;5;241m.\u001b[39mrecurse:\n\u001b[0;32m    186\u001b[0m     \u001b[38;5;28;01mreturn\u001b[39;00m ret\u001b[38;5;241m.\u001b[39minvoke(\u001b[38;5;28minput\u001b[39m, config)\n",
      "Cell \u001b[1;32mIn[27], line 5\u001b[0m, in \u001b[0;36mhuman_ans_change\u001b[1;34m(state, config)\u001b[0m\n\u001b[0;32m      3\u001b[0m user_confirm \u001b[38;5;241m=\u001b[39m interrupt(value\u001b[38;5;241m=\u001b[39m\u001b[38;5;124m\"\u001b[39m\u001b[38;5;124mPlease answer.\u001b[39m\u001b[38;5;124m\"\u001b[39m)\n\u001b[0;32m      4\u001b[0m chain_confirm \u001b[38;5;241m=\u001b[39m llm\u001b[38;5;241m.\u001b[39mwith_structured_output(ConfirmDetails)\n\u001b[1;32m----> 5\u001b[0m response \u001b[38;5;241m=\u001b[39m chain_confirm\u001b[38;5;241m.\u001b[39minvoke(\u001b[43muser_confirm\u001b[49m\u001b[38;5;241;43m.\u001b[39;49m\u001b[43mmessages\u001b[49m)\n\u001b[0;32m      6\u001b[0m \u001b[38;5;28;01mreturn\u001b[39;00m Command(update\u001b[38;5;241m=\u001b[39m{\u001b[38;5;124m\"\u001b[39m\u001b[38;5;124mchange_request\u001b[39m\u001b[38;5;124m\"\u001b[39m : response\u001b[38;5;241m.\u001b[39mrequest})\n",
      "\u001b[1;31mAttributeError\u001b[0m: 'str' object has no attribute 'messages'",
      "\u001b[0mDuring task with name 'human_ans' and id '1bd93d18-d61b-c22c-27bd-6a1b4302f76b'",
      "\u001b[0mDuring task with name 'booking_graph' and id 'bea3bb54-0d7c-f35e-c53b-ae330bc8c5c3'"
     ]
    }
   ],
   "source": [
    "\n",
    "human_command = Command(resume =\"ok\" )\n",
    "\n",
    "events = graph.stream(human_command,config, stream_mode=\"updates\", subgraphs=True)\n",
    "for event in events:\n",
    "        print(event)"
   ]
  },
  {
   "cell_type": "code",
   "execution_count": null,
   "metadata": {},
   "outputs": [
    {
     "name": "stdout",
     "output_type": "stream",
     "text": [
      "8d07c3f5-9086-429f-90a9-0f76b06f27f1\n",
      "(('booking_graph:cbe011ac-e6eb-376a-fdbd-649ec76c7681',), {'human_choose_quote': {'messages': [{'role': 'human', 'content': '8d07c3f5-9086-429f-90a9-0f76b06f27f1'}], 'quote_id': '8d07c3f5-9086-429f-90a9-0f76b06f27f1'}})\n",
      "{'error': 400, 'status': '{\"message\":\"The phone number is not valid according to the E.164 format.\",\"code\":\"VALIDATION_ERROR\",\"statusCode\":400,\"errorCode\":\"VALIDATION_ERROR\",\"data\":{\"statusCode\":400},\"traceId\":\"76148f27-e1d0-438d-86ab-f16ba898322b\"}'}\n",
      "(('booking_graph:cbe011ac-e6eb-376a-fdbd-649ec76c7681',), {'accept_booking': None})\n",
      "((), {'booking_graph': {'messages': [HumanMessage(content='i want to book a car to 271 Nguyen Van Linh, Da Nang from 460 Tran Dai Nghia, Da Nang at 9 tomorrow, my name is Huy ', additional_kwargs={}, response_metadata={}, id='b9ad91d0-6a5f-4ee6-90eb-f86c8e831092'), AIMessage(content='What is your phone number?', additional_kwargs={}, response_metadata={}, id='09811c06-3df7-4c1d-87f3-4b269478a508'), HumanMessage(content='0917181880', additional_kwargs={}, response_metadata={}, id='0ee033c9-f46c-4946-80f9-5de43ce1ada9'), AIMessage(content='Please confirm your ride details:\\n- Pickup Location: 460 Đ. Trần Đại Nghĩa, Hoà Hải, Điện Bàn, Quảng Nam 550000, Vietnam\\n- Destination: 271 Đ. Nguyễn Văn Linh, Vĩnh Trung, Hải Châu, Đà Nẵng 550000, Vietnam\\n- Pickup Time: 9 tomorrow\\n- Name: Huy\\n- Contact Number: 0917181880\\n', additional_kwargs={}, response_metadata={}, id='cf93c8f2-3fd8-4502-948c-a9ee750ccdde'), HumanMessage(content='ok', additional_kwargs={}, response_metadata={}, id='70848f39-60bf-4d03-b033-c63dbc0d3c07'), AIMessage(content='chooese Quotes', additional_kwargs={}, response_metadata={}, id='55e89635-1af1-4fe3-82dd-bdf40a6588da'), HumanMessage(content='8d07c3f5-9086-429f-90a9-0f76b06f27f1', additional_kwargs={}, response_metadata={}, id='dad9764b-2a58-4fc0-9d03-4647c23d789c')], 'quote_id': '8d07c3f5-9086-429f-90a9-0f76b06f27f1', 'booking_info': BookingCarDetails(name='Huy', number_phone='0917181880', pick_up_location='460 Đ. Trần Đại Nghĩa, Hoà Hải, Điện Bàn, Quảng Nam 550000, Vietnam', destination_location='271 Đ. Nguyễn Văn Linh, Vĩnh Trung, Hải Châu, Đà Nẵng 550000, Vietnam', pick_up_time='9 tomorrow'), 'slot_empty': []}})\n"
     ]
    }
   ],
   "source": [
    "\n",
    "human_command = Command(resume=\"8d07c3f5-9086-429f-90a9-0f76b06f27f1\")\n",
    "for output in graph.stream(\n",
    "        human_command, config , stream_mode= \"updates\", subgraphs=True\n",
    "    ):  \n",
    "        print(output)"
   ]
  },
  {
   "cell_type": "code",
   "execution_count": null,
   "metadata": {},
   "outputs": [
    {
     "name": "stdout",
     "output_type": "stream",
     "text": [
      "User (q/Q to quit): q\n",
      "AI: Byebye\n"
     ]
    }
   ],
   "source": [
    "import uuid\n",
    "from langchain_core.messages import AIMessage, HumanMessage, ToolMessage\n",
    "config = {\"configurable\": {\"thread_id\": str(uuid.uuid4())}}\n",
    "while True:\n",
    "    user = input(\"User (q/Q to quit): \")\n",
    "    print(f\"User (q/Q to quit): {user}\")\n",
    "    if user in {\"q\", \"Q\"}:\n",
    "        print(\"AI: Byebye\")\n",
    "        break\n",
    "    output = None\n",
    "    for output in graph.stream(\n",
    "        {\"messages\": user}, config=config, stream_mode=\"updates\"\n",
    "    ):  \n",
    "        print(output)\n",
    "        # last_message = next(iter(output.values()))[\"messages\"][-1]\n",
    "        # last_message.pretty_print()"
   ]
  },
  {
   "cell_type": "code",
   "execution_count": null,
   "metadata": {},
   "outputs": [
    {
     "ename": "SyntaxError",
     "evalue": "leading zeros in decimal integer literals are not permitted; use an 0o prefix for octal integers (3553203731.py, line 1)",
     "output_type": "error",
     "traceback": [
      "\u001b[1;36m  Cell \u001b[1;32mIn[129], line 1\u001b[1;36m\u001b[0m\n\u001b[1;33m    i want to book a car to 271 Nguyen Van Linh, Da Nang from 460 Tran Dai Nghia, Da Nang at 9 tomorrow, my name is Huy call me 0917181880\u001b[0m\n\u001b[1;37m                                                                                                                                ^\u001b[0m\n\u001b[1;31mSyntaxError\u001b[0m\u001b[1;31m:\u001b[0m leading zeros in decimal integer literals are not permitted; use an 0o prefix for octal integers\n"
     ]
    }
   ],
   "source": [
    "i want to book a car to 271 Nguyen Van Linh, Da Nang from 460 Tran Dai Nghia, Da Nang at 9 tomorrow, my name is Huy call me 0917181880"
   ]
  },
  {
   "cell_type": "code",
   "execution_count": null,
   "metadata": {},
   "outputs": [
    {
     "name": "stdout",
     "output_type": "stream",
     "text": [
      "\n",
      "--- Conversation Turn 1 ---\n",
      "\n",
      "User: {'messages': [{'role': 'user', 'content': 'I want to book a car from 271 Nguyen Van Linh to 466 NGuyen van linh da nang at now'}]}\n",
      "\n",
      "call_model: To book a car from 271 Nguyen Van Linh to 466 Nguyen Van Linh in Da Nang, you can use a ride-hailing app like Grab, Gojek, or a local taxi service. Here’s how you can do it:\n",
      "\n",
      "1. **Open the App**: Launch your preferred ride-hailing app on your smartphone.\n",
      "2. **Set Pickup Location**: Enter \"271 Nguyen Van Linh\" as your pickup location.\n",
      "3. **Set Drop-off Location**: Enter \"466 Nguyen Van Linh\" as your destination.\n",
      "4. **Choose Vehicle Type**: Select the type of vehicle you want (standard, premium, etc.).\n",
      "5. **Confirm Booking**: Review the fare estimate and confirm your booking.\n",
      "6. **Wait for Driver**: Once booked, wait for the driver to arrive at your location.\n",
      "\n",
      "If you prefer to call a local taxi service, you can find their contact number online or through a local directory. Make sure to provide them with the pickup and drop-off addresses clearly.\n",
      "\n",
      "Safe travels!\n",
      "\n",
      "--- Conversation Turn 2 ---\n",
      "\n",
      "User: Command(resume='name Huy.')\n",
      "\n",
      "\n",
      "--- Conversation Turn 3 ---\n",
      "\n",
      "User: Command(resume='0917181880')\n",
      "\n"
     ]
    }
   ],
   "source": [
    "# import uuid\n",
    "\n",
    "# thread_config = {\"configurable\": {\"thread_id\": uuid.uuid4()}}\n",
    "\n",
    "# inputs = [\n",
    "#     # 1st round of conversation,\n",
    "#     {\n",
    "#         \"messages\": [\n",
    "#             {\"role\": \"user\", \"content\": \"I want to book a car from 271 Nguyen Van Linh to 466 NGuyen van linh da nang at now\"}\n",
    "#         ]\n",
    "#     },\n",
    "#     # Since we're using `interrupt`, we'll need to resume using the Command primitive.\n",
    "#     # 2nd round of conversation,\n",
    "#     Command(\n",
    "#         resume=\"name Huy.\"\n",
    "#     ),\n",
    "#     # 3rd round of conversation,\n",
    "#     Command(\n",
    "#         resume=\"0917181880\"\n",
    "#     ),\n",
    "# ]\n",
    "\n",
    "# for idx, user_input in enumerate(inputs):\n",
    "#     print()\n",
    "#     print(f\"--- Conversation Turn {idx + 1} ---\")\n",
    "#     print()\n",
    "#     print(f\"User: {user_input}\")\n",
    "#     print()\n",
    "#     for update in graph.stream(\n",
    "#         user_input,\n",
    "#         config=thread_config,\n",
    "#         stream_mode=\"updates\",\n",
    "#     ):\n",
    "#         for node_id, value in update.items():\n",
    "#             if isinstance(value, dict) and value.get(\"messages\", []):\n",
    "#                 last_message = value[\"messages\"][-1]\n",
    "#                 if isinstance(last_message, dict) or last_message.type != \"ai\":\n",
    "#                     continue\n",
    "#                 print(f\"{node_id}: {last_message.content}\")"
   ]
  },
  {
   "cell_type": "code",
   "execution_count": null,
   "metadata": {},
   "outputs": [
    {
     "data": {
      "image/png": "[encoded data removed]",
      "text/plain": [
       "<IPython.core.display.Image object>"
      ]
     },
     "metadata": {},
     "output_type": "display_data"
    }
   ],
   "source": []
  }
 ],
 "metadata": {
  "kernelspec": {
   "display_name": "env_langchain",
   "language": "python",
   "name": "python3"
  },
  "language_info": {
   "codemirror_mode": {
    "name": "ipython",
    "version": 3
   },
   "file_extension": ".py",
   "mimetype": "text/x-python",
   "name": "python",
   "nbconvert_exporter": "python",
   "pygments_lexer": "ipython3",
   "version": "3.12.8"
  }
 },
 "nbformat": 4,
 "nbformat_minor": 2
}
