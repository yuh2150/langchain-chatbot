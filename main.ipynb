{
 "cells": [
  {
   "cell_type": "code",
   "execution_count": 163,
   "metadata": {},
   "outputs": [],
   "source": [
    "import os\n",
    "from flask import Flask, request, jsonify\n",
    "from typing import Annotated, Literal , List, Optional ,Any\n",
    "from langchain_openai import ChatOpenAI\n",
    "from langchain.prompts import ChatPromptTemplate\n",
    "from langchain_core.output_parsers import StrOutputParser\n",
    "from pydantic import BaseModel, Field , field_validator, ValidationInfo, model_validator\n",
    "from langchain_core.tools import tool\n",
    "from langgraph.prebuilt import create_react_agent\n",
    "from langgraph.checkpoint.memory import MemorySaver\n",
    "from typing_extensions import TypedDict\n",
    "\n",
    "from langgraph.graph import StateGraph, START, END\n",
    "from langgraph.graph.message import add_messages\n",
    "from langgraph.prebuilt import ToolNode, tools_condition\n",
    "from langgraph.types import Command, interrupt\n",
    "from langgraph.graph.message import AnyMessage\n",
    "from booking_agent.api.booking import BookingAPI\n",
    "from booking_agent.api.geoCoding import GeoCodingAPI\n",
    "from booking_agent.api.getKey import OAuthClient\n",
    "from booking_agent.api.getQuotes import QuotesAPI\n",
    "from booking_agent.api.is_Airport import IsAirport\n",
    "\n",
    "from langgraph.graph import StateGraph, MessagesState, START, END\n",
    "import requests\n",
    "from datetime import datetime\n",
    "from dateutil import tz\n",
    "from quotes import Quote\n",
    "def getData_for_duckling(text, dims):\n",
    "    url = 'http://localhost:8000/parse'\n",
    "    data = {\n",
    "        'locale': 'en_US',\n",
    "        'text': text,\n",
    "        'dims': dims,\n",
    "        'tz': \"Asia/Ho_Chi_Minh\"\n",
    "    }\n",
    "    response = requests.post(url, data=data)\n",
    "    if response.status_code == 200:\n",
    "        json_response = response.json()\n",
    "        # value = json_response[0]['value']['value']\n",
    "        return json_response\n",
    "    else:\n",
    "        return f\"Error: {response.status_code}\"\n",
    "llm = ChatOpenAI(temperature=0.2, model=\"gpt-4o-mini\")\n",
    "jupiterAPI = os.getenv('JUPITER_API')\n",
    "quoteAPI = str(jupiterAPI) + \"/demand/v1/quotes\"\n",
    "bookingsAPI  = str(jupiterAPI) + '/demand/v1/bookings'\n",
    "\n",
    "class BookingCarDetails(BaseModel):\n",
    "    \"\"\"Details for the bookings car details\"\"\"\n",
    "    name: str = Field(\n",
    "        ...,\n",
    "        description=\"The name of the person booking the ride. Do not autofill if not provided\",\n",
    "    )\n",
    "    number_phone: str = Field(\n",
    "        ...,\n",
    "        description=\"The phone number of the user. Do not autofill if not provided\",\n",
    "    )\n",
    "    pick_up_location: str = Field(\n",
    "        ...,\n",
    "        description=\"The location where the user will be picked up. This can be a full address or a specific location name. Do not autofill if not provided\",\n",
    "    )\n",
    "    destination_location: str = Field(\n",
    "        ...,\n",
    "        description=\"The destination location for the ride. This can be a full address or a specific location name. Do not autofill if not provided\"\n",
    "    )\n",
    "    pick_up_time: str = Field(\n",
    "        ...,\n",
    "        description=\"The time the user intends to be picked up. No format keeps the text related to time. Do not autofill if not provided\"\n",
    "    )\n",
    "    flight_code: str = Field(\n",
    "        # default= 'None',\n",
    "        ...,\n",
    "        description=\"Flight numbers, consisting of letters and numbers, usually start with the airline code (e.g. VN123, SQ318).\"\n",
    "    )\n",
    "    \n",
    "    @field_validator('pick_up_location')\n",
    "    def validate_pickup(cls, value:str):\n",
    "        geoCodingAPI = GeoCodingAPI()\n",
    "        if value == '':\n",
    "            return ''\n",
    "        else :\n",
    "            geoCoding_pickup = geoCodingAPI.get_geocoding(value)\n",
    "            if geoCoding_pickup[\"status\"] == \"OK\" :\n",
    "                return geoCoding_pickup['results'][0]['formatted_address']\n",
    "            else:\n",
    "                raise ValueError(f\"Invalid pick-up location: {value}\")\n",
    "            \n",
    "\n",
    "    @field_validator('pick_up_time')\n",
    "    def validate_pick_up_time(cls, value : str)-> str:\n",
    "        dimensions = [\"time\"]\n",
    "        if value == '':\n",
    "            return ''\n",
    "            \n",
    "        else:\n",
    "            data = getData_for_duckling(value,dimensions)\n",
    "            if data and isinstance(data, list) and 'value' in data[0] and 'value' in data[0]['value']:\n",
    "                return data[0]['value']['value']\n",
    "            else:\n",
    "                raise ValueError(\"Invalid time format\") \n",
    "    @field_validator('destination_location' )\n",
    "    def validate_destination(cls, value : str, info: ValidationInfo)-> str:\n",
    "        geoCodingAPI = GeoCodingAPI()\n",
    "        # print (geoCoding_destination['results'][0]['formatted_address'])\n",
    "        if value == '':\n",
    "            return ''\n",
    "        else :\n",
    "            geoCoding_destination = geoCodingAPI.get_geocoding(value)\n",
    "            if geoCoding_destination[\"status\"] == \"OK\":\n",
    "                if geoCoding_destination['results'][0]['formatted_address'] == info.data['pick_up_location']:\n",
    "                    raise ValueError(f\"Invalid destination location: {value}\")\n",
    "                else:\n",
    "                    return geoCoding_destination['results'][0]['formatted_address']\n",
    "            else:\n",
    "            \n",
    "                raise ValueError(f\"Invalid destination location: {value}\")\n",
    "    @model_validator(mode=\"after\")\n",
    "    def set_flight_code_if_airport(self)-> str:\n",
    "        geoCodingAPI = GeoCodingAPI()\n",
    "        API_Airport = IsAirport(base_url=jupiterAPI + '/v2/distance/airport')\n",
    "\n",
    "        if self.pick_up_location:\n",
    "            geoCoding_pickup = geoCodingAPI.get_geocoding(self.pick_up_location)\n",
    "            if geoCoding_pickup[\"status\"] == \"OK\":\n",
    "                pick_up_lat = geoCoding_pickup['results'][0]['geometry']['location']['lat']\n",
    "                pick_up_lng = geoCoding_pickup['results'][0]['geometry']['location']['lng']\n",
    "                \n",
    "                is_Airport = API_Airport.is_Airport(pick_up_lat, pick_up_lng)\n",
    "                print(is_Airport)\n",
    "                if is_Airport[0] == False:  # Nếu là sân bay\n",
    "                    self.flight_code = 'No request'\n",
    "                else :\n",
    "                    self.flight_code = 'request'\n",
    "        return self\n",
    "llm = ChatOpenAI(temperature=0, model=\"gpt-4o-mini\")\n",
    "\n",
    "class State(TypedDict):\n",
    "    messages: Annotated[list[AnyMessage], add_messages]\n",
    "    quote_id: str\n",
    "    booking_info: BookingCarDetails \n",
    "    slot_empty: list\n",
    "    change_request : List\n",
    "    handle_request : str\n",
    "def check_what_is_empty(user_personal_details):\n",
    "    ask_for = []\n",
    "    for field, value in user_personal_details.model_dump().items():\n",
    "        if value in [None, \"\", 0,\"request\"]:  \n",
    "            ask_for.append(field)\n",
    "    return ask_for\n",
    "\n",
    "\n",
    "def add_non_empty_details(current_details: BookingCarDetails, new_details: BookingCarDetails):\n",
    "    non_empty_details = {k: v for k, v in new_details.model_dump().items() if v not in [None, \"\"]}\n",
    "    updated_details = current_details.model_copy(update=non_empty_details)\n",
    "    return updated_details\n",
    "def update_details(current_details: BookingCarDetails, new_details: BookingCarDetails , field : str):\n",
    "    # non_empty_details = {k: v for k, v in new_details.model_dump().items() if v not in [None, \"\"]}\n",
    "    updated_details = current_details.model_copy(update=field)\n",
    "    return updated_details\n",
    "\n",
    "def ask_for_info(ask_list: list):\n",
    "    first_prompt = ChatPromptTemplate.from_template(\n",
    "        \"\"\"Ask one question at a time, even if you don't get all the info. Don't list the questions or greet the user. \n",
    "        ### ask_for list: {ask_for}\"\"\"\n",
    "    )\n",
    "\n",
    "    info_gathering_chain = first_prompt | llm | StrOutputParser()\n",
    "    ai_chat = info_gathering_chain.invoke({\"ask_for\": ask_list})\n",
    "    return ai_chat\n",
    "def filter_response(text_input, user_details : BookingCarDetails ):\n",
    "    chain = llm.with_structured_output(BookingCarDetails)\n",
    "    res = chain.invoke(text_input)\n",
    "    # add filtered info to the\n",
    "    user_details = add_non_empty_details(user_details,res)\n",
    "    ask_for = check_what_is_empty(user_details)\n",
    "    return user_details, ask_for\n",
    "def ask_confirm_info(booking_details: BookingCarDetails):\n",
    "    # booking_details.\n",
    "    message = (\n",
    "        f\"Please confirm your ride details:\\n\"\n",
    "        f\"- Pickup Location: {booking_details.pick_up_location}\\n\"\n",
    "        f\"- Destination: {booking_details.destination_location}\\n\"\n",
    "        f\"- Pickup Time: {booking_details.pick_up_time}\\n\"\n",
    "        f\"- Name: {booking_details.name}\\n\"\n",
    "        f\"- Contact Number: {booking_details.number_phone}\\n\"\n",
    "    )\n",
    "    print(message)\n",
    "# def call_model (state):\n",
    "#     messages = state[\"messages\"]\n",
    "#     response = llm.invoke(messages)\n",
    "#     # We return a list, because this will get added to the existing list\n",
    "#     return {\"messages\": [response]}\n",
    "@tool\n",
    "def get_booking_details(state : MessagesState):\n",
    "    \"\"\" Call function to get the details for a booking from user\"\"\"\n",
    "    # state = State(booking_info=BookingCarDetails(name=\"\", number_phone=\"\", pick_up_location=\"\", destination_location=\"\", pick_up_time=\"\"))\n",
    "    chain = llm.with_structured_output(BookingCarDetails)\n",
    "    response = chain.invoke(state[\"messages\"][-1].content)\n",
    "    booking_details = BookingCarDetails(name=\"\", number_phone=\"\", pick_up_location=\"\", destination_location=\"\", pick_up_time=\"\")\n",
    "    user_details = add_non_empty_details(booking_details, response)\n",
    "    ask_for = check_what_is_empty(user_details)\n",
    "    while ask_for:  \n",
    "        ai_response = ask_for_info(ask_for)\n",
    "        print(ai_response)\n",
    "        # print(ai_response)\n",
    "        text_input = interrupt(ai_response)\n",
    "        print(\"hi\" + text_input)\n",
    "        user_details, ask_for = filter_response(text_input, user_details)\n",
    "        return {\"human_input\": text_input}\n",
    "    \n",
    "    return user_details\n",
    "# @tool\n",
    "def get_quotes(state :State):\n",
    "    \"\"\"Call function to fetches quotes for car bookings based on the provided booking details.\"\"\"\n",
    "    quotesAPI = QuotesAPI(os.getenv(\"JUPITER_API\") + \"/demand/v1/quotes\")\n",
    "    geoCodingAPI = GeoCodingAPI()\n",
    "    # geoCoding_destination =\n",
    "    geoCoding_pickup =  geoCodingAPI.get_geocoding(state['booking_info'].pick_up_location)\n",
    "    geoCoding_destination = geoCodingAPI.get_geocoding(state['booking_info'].destination_location)\n",
    "    \n",
    "    dt_local = datetime.fromisoformat(state['booking_info'].pick_up_time)\n",
    "    dt_utc = dt_local.astimezone(tz.UTC)\n",
    "    pickup_datetime = dt_utc.strftime(\"%Y-%m-%dT%H:%M:%SZ\")\n",
    "    \n",
    "    pickup_coords = { \"latitude\": float(geoCoding_pickup['results'][0]['geometry']['location']['lat']),\"longitude\": float(geoCoding_pickup['results'][0]['geometry']['location']['lng']),}\n",
    "    destination_coords = { \"latitude\": float(geoCoding_destination['results'][0]['geometry']['location']['lat']),\"longitude\": float(geoCoding_destination['results'][0]['geometry']['location']['lng']),}\n",
    "    quotes_data = quotesAPI.get_quotes(pickup_datetime, pickup_coords, destination_coords)\n",
    "    quotes = []\n",
    "    for item in quotes_data:\n",
    "        quote = Quote(\n",
    "        quote_id=item['quoteId'],\n",
    "        expires_at=item['expiresAt'],\n",
    "        vehicle_type=item['vehicleType'],\n",
    "        price_value=item['price']['value'],\n",
    "        price_currency=item['price']['currency'] if 'currency' in item['price'] and item['price']['currency'] is not None else 'CAD',\n",
    "        luggage=item['luggage'],\n",
    "        passengers=item['passengers'],\n",
    "        provider_name=item['provider']['name'],\n",
    "        provider_phone=item['provider']['phone']\n",
    "        )\n",
    "        quotes.append(quote)\n",
    "\n",
    "    for quote in quotes:\n",
    "        print({\n",
    "            \"title\": f\"{quote.vehicle_type} - {quote.price_value} {quote.price_currency}\",\n",
    "            \"payload\": f\"{quote.quote_id}\"\n",
    "        })\n",
    "    # print(quotes[0])\n",
    "    return Command(\n",
    "        update={\n",
    "            \"messages\": [\n",
    "                {\n",
    "                    \"role\": \"ai\",\n",
    "                    \"content\": \"chooese Quotes\",\n",
    "                }\n",
    "            ]\n",
    "        },\n",
    "        # goto=active_agent,\n",
    "    )\n",
    "@tool\n",
    "def change_info(fields : List[str], booking_details : BookingCarDetails):\n",
    "    \"\"\"Change the booking details field \"\"\"\n",
    "    for field in fields:\n",
    "        ai_response = ask_for_info([field])\n",
    "        print(ai_response)\n",
    "        text_input = input()\n",
    "        chain = llm.with_structured_output(BookingCarDetails)\n",
    "        response =chain.invoke(text_input)\n",
    "        user_details = add_non_empty_details(booking_details,response)\n",
    "    return user_details \n"
   ]
  },
  {
   "cell_type": "code",
   "execution_count": 164,
   "metadata": {},
   "outputs": [],
   "source": [
    "from langchain_core.prompts import ChatPromptTemplate, MessagesPlaceholder\n",
    "\n",
    "prompt_template = ChatPromptTemplate.from_messages(\n",
    "    [\n",
    "        (\n",
    "            \"system\",\n",
    "            \"\"\"You are a helpful assistant for a car booking system. \n",
    "            Your job is to help users book a car. If you don't understand a customer's request, ask questions to clarify.\n",
    "            Make sure your answers are short but informative.\"\"\",\n",
    "        ),\n",
    "        MessagesPlaceholder(variable_name=\"messages\"),\n",
    "    ]\n",
    ")"
   ]
  },
  {
   "cell_type": "code",
   "execution_count": 165,
   "metadata": {},
   "outputs": [],
   "source": [
    "def call_model(state: State):\n",
    "    prompt = prompt_template.invoke(state)\n",
    "    response = llm.invoke(prompt)\n",
    "    return {\"messages\": response}"
   ]
  },
  {
   "cell_type": "code",
   "execution_count": 166,
   "metadata": {},
   "outputs": [],
   "source": [
    "def info_chain(state : State):\n",
    "    if \"booking_info\" in state:\n",
    "        booking_details = state[\"booking_info\"]\n",
    "    else:\n",
    "        booking_details = BookingCarDetails(name=\"\", number_phone=\"\", pick_up_location=\"\", destination_location=\"\", pick_up_time=\"\", flight_code=\"\")\n",
    "    \n",
    "    if \"ask_for\" in state:\n",
    "        ask_for = state[\"ask_for\"]\n",
    "        messages = f\"{ask_for[0]} : {state[\"messages\"][-1].content}\"\n",
    "    else:\n",
    "        messages = state[\"messages\"][-1].content\n",
    "    chain = llm.with_structured_output(BookingCarDetails)\n",
    "    response = chain.invoke(messages)\n",
    "    user_details = add_non_empty_details(booking_details, response)\n",
    "    ask_for = check_what_is_empty(user_details)\n",
    "    return Command(update={\"slot_empty\": ask_for , \"booking_info\": user_details})"
   ]
  },
  {
   "cell_type": "code",
   "execution_count": 167,
   "metadata": {},
   "outputs": [],
   "source": [
    "# def perform_request(state :State , config) -> Command[Literal[\"ask_confirm\"]] :\n",
    "#     chain = llm.with_structured_output(BookingCarDetails)\n",
    "#     response =chain.invoke(state[\"messages\"][-1].content)\n",
    "#     user_details = add_non_empty_details(state[\"booking_info\"],response)\n",
    "    \n",
    "#     return Command(\n",
    "#         update={\n",
    "#             \"booking_info\" : user_details\n",
    "#         },\n",
    "#         goto=\"ask_confirm\",\n",
    "#     ) "
   ]
  },
  {
   "cell_type": "code",
   "execution_count": 168,
   "metadata": {},
   "outputs": [],
   "source": [
    "def human_node(\n",
    "    state: State, config\n",
    "):\n",
    "# -> Command[Literal[\"get_info\"]] :\n",
    "    \"\"\"A node for collecting user input.\"\"\"\n",
    "    \n",
    "    user_input = interrupt(value=\"Ready for user input.\")\n",
    "    # identify the last active agent\n",
    "    # (the last active node before returning to human)\n",
    "    # langgraph_triggers = config[\"metadata\"][\"langgraph_triggers\"]\n",
    "    # if len(langgraph_triggers) != 1:\n",
    "    #     raise AssertionError(\"Expected exactly 1 trigger in human node\")\n",
    "\n",
    "    # active_agent = langgraph_triggers[0].split(\":\")[1]\n",
    "    # print(\"Active agent\")\n",
    "    # print(active_agent)\n",
    "    return Command(\n",
    "        update={\n",
    "            \"messages\": [\n",
    "                {\n",
    "                    \"role\": \"human\",\n",
    "                    \"content\": user_input,\n",
    "                }\n",
    "            ]\n",
    "        },\n",
    "        goto=\"get_info\"\n",
    "        # goto=active_agent,\n",
    "    )"
   ]
  },
  {
   "cell_type": "code",
   "execution_count": 169,
   "metadata": {},
   "outputs": [],
   "source": [
    "def ask_info_empty(\n",
    "    state: State,\n",
    "):\n",
    "    first_prompt = ChatPromptTemplate.from_template(\n",
    "        \"\"\"Ask one question at a time, even if you don't get all the info. Don't list the questions or greet the user. \n",
    "        ### ask_for list: {ask_for}\"\"\"\n",
    "    )\n",
    "    info_gathering_chain = first_prompt | llm | StrOutputParser()\n",
    "    if state[\"slot_empty\"] : \n",
    "        ai_chat = info_gathering_chain.invoke({\"ask_for\": state[\"slot_empty\"]})\n",
    "        return Command(update= {\"messages\": [\n",
    "                    {\n",
    "                        \"role\": \"ai\",\n",
    "                        \"content\": ai_chat,\n",
    "                }\n",
    "            ]} , goto=\"human\")\n",
    "    else :\n",
    "        return END\n"
   ]
  },
  {
   "cell_type": "code",
   "execution_count": 170,
   "metadata": {},
   "outputs": [],
   "source": [
    "def get_state(state : State):\n",
    "    slot_empty = state[\"slot_empty\"]\n",
    "    if slot_empty == [] :\n",
    "        return \"ask_confirm\"\n",
    "    else : \n",
    "        return \"ask_info_empty\"\n",
    "    "
   ]
  },
  {
   "cell_type": "code",
   "execution_count": 171,
   "metadata": {},
   "outputs": [],
   "source": [
    "def ask_user_confirm(state : State):\n",
    "        \"\"\"Ask the user again to confirm the booking details. \"\"\"\n",
    "        message = (\n",
    "            f\"Please confirm your ride details:\\n\"\n",
    "            f\"- Pickup Location: {state[\"booking_info\"].pick_up_location}\\n\"\n",
    "            f\"- Destination: {state[\"booking_info\"].destination_location}\\n\"\n",
    "            f\"- Pickup Time: {state[\"booking_info\"].pick_up_time}\\n\"\n",
    "            f\"- Name: {state[\"booking_info\"].name}\\n\"\n",
    "            f\"- Contact Number: {state[\"booking_info\"].number_phone}\\n\"\n",
    "        )\n",
    "        if state[\"booking_info\"].flight_code != 'No request':\n",
    "                message += f\"- Flight Code: {state['booking_info'].flight_code}\\n\"\n",
    "        return Command(update= {\"messages\": [\n",
    "                        {\n",
    "                            \"role\": \"ai\",\n",
    "                            \"content\": message,\n",
    "                    }\n",
    "                ]} )"
   ]
  },
  {
   "cell_type": "code",
   "execution_count": 172,
   "metadata": {},
   "outputs": [],
   "source": [
    "class Router(TypedDict):\n",
    "    route: Literal[\"booking\", \"other\"]"
   ]
  },
  {
   "cell_type": "code",
   "execution_count": 173,
   "metadata": {},
   "outputs": [],
   "source": [
    "class RouterState(MessagesState):\n",
    "    route: Literal[\"booking\", \"other\"]"
   ]
  },
  {
   "cell_type": "code",
   "execution_count": 174,
   "metadata": {},
   "outputs": [],
   "source": [
    "from pydantic import BaseModel, Field\n",
    "\n",
    "class ConfirmDetails(BaseModel):\n",
    "    \"\"\"\n",
    "    Represents the user's confirmation intent and request details.\n",
    "    \"\"\"\n",
    "    confirm: str = Field(\n",
    "        ..., \n",
    "        description=\"User confirmation intent. 'True' if the user confirm booking, 'False' otherwise or want to change information.\"\n",
    "    )\n",
    "    request: str = Field(\n",
    "        ..., \n",
    "        description=\"\"\"Return request related to name, pickup and destination location, pickup time, phone number ,flight code.\n",
    "        Returns 'None' if there is no request.Returns 'Cancel' if there is cancel.\"\"\"\n",
    "    )\n",
    "    # continue_booking: bool = Field(\n",
    "    #     # default= 'True',\n",
    "    #     description=\"True if the user wants to change info and continue booking, False if they want to cancel.\"\n",
    "    # )\n",
    "    \n"
   ]
  },
  {
   "cell_type": "code",
   "execution_count": 175,
   "metadata": {},
   "outputs": [],
   "source": [
    "router_model = llm.with_structured_output(Router)\n"
   ]
  },
  {
   "cell_type": "code",
   "execution_count": 176,
   "metadata": {},
   "outputs": [],
   "source": [
    "def router_node(state: State):\n",
    "    system_message = \"Classify the incoming query as either about booking or not.\"\n",
    "    messages = [{\"role\": \"system\", \"content\": system_message}] + state[\"messages\"]\n",
    "    route = router_model.invoke(messages)\n",
    "    return {\"route\": route[\"route\"]}\n",
    "\n"
   ]
  },
  {
   "cell_type": "code",
   "execution_count": 177,
   "metadata": {},
   "outputs": [],
   "source": [
    "def route_after_prediction(\n",
    "    state: RouterState,\n",
    ") -> Literal[\"booking_graph\", \"call_model\"]:\n",
    "    if state[\"route\"] == \"booking\":\n",
    "        return \"booking_graph\"\n",
    "    else:\n",
    "        return \"call_model\""
   ]
  },
  {
   "cell_type": "code",
   "execution_count": 178,
   "metadata": {},
   "outputs": [],
   "source": [
    "def get_confirm_state(state: State):\n",
    "    user_confirm = state[\"messages\"][-1].content\n",
    "    chain_confirm = llm.with_structured_output(ConfirmDetails)\n",
    "    response = chain_confirm.invoke(user_confirm)\n",
    "    # print(response.confirm)\n",
    "    if (response.confirm == \"True\") :\n",
    "        return \"get_quotes_booking\"\n",
    "    else :\n",
    "        if(response.request == \"None\"):\n",
    "            # updates = [\"confirm_change\" ]\n",
    "            \n",
    "            return \"confirm_change\"\n",
    "            \n",
    "        elif(response.request == \"Cancel\"):\n",
    "            return \"cancel_book\"\n",
    "        else:\n",
    "            # updates = [Command(update={\"change_request\" : response.request}) , \"perform_request\"]\n",
    "            return \"perform_request\"\n",
    "\n",
    "            # print(response.request)\n",
    "    \n",
    "    # return Command(\n",
    "    #     update={\"messages\": [\n",
    "    #         {\n",
    "    #             \"role\": \"human\",\n",
    "    #             \"content\": user_confirm\n",
    "    #         }\n",
    "    #     ]},\n",
    "    #     goto=\"get_quotes_booking\"\n",
    "    # )\n"
   ]
  },
  {
   "cell_type": "code",
   "execution_count": null,
   "metadata": {},
   "outputs": [],
   "source": []
  },
  {
   "cell_type": "code",
   "execution_count": 179,
   "metadata": {},
   "outputs": [
    {
     "name": "stdout",
     "output_type": "stream",
     "text": [
      "confirm='False' request='Change name to Khoa and phone number to 0912345678.'\n"
     ]
    }
   ],
   "source": [
    "chain_confirm = llm.with_structured_output(ConfirmDetails)\n",
    "\n",
    "reponse = chain_confirm.invoke(\" i want to change name to Khoa and phone number 0912345678\")\n",
    "print(reponse)"
   ]
  },
  {
   "cell_type": "code",
   "execution_count": 180,
   "metadata": {},
   "outputs": [],
   "source": [
    "def human_node_confirm(\n",
    "    state: State, config\n",
    "):\n",
    "    user_confirm = interrupt(value=\"Please confirm details booking.\")\n",
    "    return Command(\n",
    "        update={\n",
    "            \"messages\": [{\"role\": \"human\",\"content\": user_confirm}]\n",
    "        }\n",
    "        # goto=active_agent,\n",
    "    )"
   ]
  },
  {
   "cell_type": "code",
   "execution_count": 181,
   "metadata": {},
   "outputs": [],
   "source": [
    "def human_choose_quote(\n",
    "    state: State, config\n",
    "):\n",
    "    \"\"\"A node for collecting user confirm.\"\"\"\n",
    "    \n",
    "    user_confirm = interrupt(value=\"Please choose quote.\")\n",
    "    # print(user_confirm.get(\"messages\"))\n",
    "    command = [Command(\n",
    "        update={\n",
    "            \"messages\": [{\"role\": \"human\",\"content\": user_confirm,}]\n",
    "        }\n",
    "        # goto=active_agent,\n",
    "    ),Command(update={\"quote_id\": user_confirm}) ]\n",
    "    return command\n",
    "    "
   ]
  },
  {
   "cell_type": "code",
   "execution_count": 182,
   "metadata": {},
   "outputs": [],
   "source": [
    "def accept_booking(state :State ):\n",
    "    \"\"\"Call function to accept booking with quote_ID.\"\"\"\n",
    "    bookingAPI = BookingAPI(bookingsAPI)\n",
    "    # quote_id = tracker.get_slot(\"quoteId\")\n",
    "    person_name = state[\"booking_info\"].name\n",
    "    number_contact = state[\"booking_info\"].number_phone\n",
    "    \n",
    "    passenger_info = {\n",
    "        \"title\": \"Mr\",\n",
    "        \"phone\": number_contact,\n",
    "        \"firstName\": person_name,\n",
    "        \"lastName\": \"\"\n",
    "    }\n",
    "    response = bookingAPI.create_booking(\n",
    "        quote_id=state[\"quote_id\"],\n",
    "        passenger_info=passenger_info\n",
    "    )\n",
    "    return response"
   ]
  },
  {
   "cell_type": "code",
   "execution_count": 183,
   "metadata": {},
   "outputs": [],
   "source": [
    "# acceptGraph =  StateGraph(State)\n",
    "# acceptGraph.add_node(\"ask_confirm\", ask_confirm)\n",
    "# acceptGraph.add_node(\"get_quotes_booking\", get_quotes)\n",
    "# acceptGraph.add_node(\"get_confirm\", get_confirm_state)\n",
    "# acceptGraph.add_node(\"human_confirm\", human_node_confirm)\n",
    "\n",
    "# acceptGraph.add_edge(START, \"human_confirm\")\n",
    "# # acceptGraph.add_edge(\"ask_confirm\", \"human_confirm\")\n",
    "# # acceptGraph.add_edge(\"ask_confirm\", \"get_confirm\")\n",
    "# acceptGraph.add_edge(\"human_confirm\", \"get_confirm\")\n",
    "# acceptGraph.add_edge(\"get_confirm\", \"get_quotes_booking\")\n",
    "# acceptGraph.add_edge(\"get_quotes_booking\",END)\n",
    "\n",
    "# acceptGraph = acceptGraph.compile()"
   ]
  },
  {
   "cell_type": "code",
   "execution_count": 184,
   "metadata": {},
   "outputs": [],
   "source": [
    "# builder = StateGraph(State)\n",
    "# # builder.add_node(\"call_model\", call_model)\n",
    "# builder.add_node(\"get_info\", info_chain)\n",
    "# builder.add_node(\"ask_info_empty\", ask_info_empty)\n",
    "# builder.add_node(\"human\", human_node)\n",
    "# builder.add_node(\"ask_confirm\", acceptGraph)\n",
    "\n",
    "# builder.add_edge(START, \"get_info\")\n",
    "\n",
    "# # builder.add_edge(\"call_model\", \"get_info\")\n",
    "\n",
    "# builder.add_conditional_edges(\"get_info\", get_state ,[\"ask_confirm\", \"ask_info_empty\",END])\n",
    "# builder.add_edge(\"ask_info_empty\", \"human\")\n",
    "\n",
    "# # builder.add_edge(\"call_model\", \"info\")\n",
    "# checkpointer = MemorySaver()\n",
    "# graph = builder.compile(checkpointer=checkpointer)\n",
    "# # graph = builder.compile()\n"
   ]
  },
  {
   "cell_type": "code",
   "execution_count": 185,
   "metadata": {},
   "outputs": [],
   "source": [
    "def cancel_booking (state : State):\n",
    "    return Command(\n",
    "        update={\n",
    "            \"messages\": [\n",
    "                {\n",
    "                    \"role\": \"ai\",\n",
    "                    \"content\": \"Your booking has been canceled.\",\n",
    "                }\n",
    "            ]\n",
    "        }\n",
    "    )"
   ]
  },
  {
   "cell_type": "code",
   "execution_count": 186,
   "metadata": {},
   "outputs": [],
   "source": [
    "def confirm_change(state :State):\n",
    "    return Command (\n",
    "        update= {\n",
    "            \"messages\": [\n",
    "                {\n",
    "                    \"role\": \"ai\",\n",
    "                    \"content\": \"Do you want change booking infomation?\",\n",
    "                }\n",
    "            ]\n",
    "        },\n",
    "        goto=\"human_request\"\n",
    "    ) \n",
    "    "
   ]
  },
  {
   "cell_type": "code",
   "execution_count": 187,
   "metadata": {},
   "outputs": [],
   "source": [
    "def get_change_state(state :State):\n",
    "    # [\"ask_request\", \"cancel_book\",\"perform_request\"]\n",
    "    \n",
    "    user_confirm = state[\"messages\"][-1].content\n",
    "    chain_confirm = llm.with_structured_output(ConfirmDetails)\n",
    "    response = chain_confirm.invoke(user_confirm)\n",
    "\n",
    "    if (response.confirm == \"True\"):\n",
    "    \n",
    "        if (response.request == \"None\"):\n",
    "            return \"ask_request\"\n",
    "        else :\n",
    "            # updates = [Command(update={\"change_request\" : response.request}) , \"perform_request\"]\n",
    "            return \"perform_request\"\n",
    "    else :\n",
    "        return \"cancel_book\"\n",
    "        \n",
    "    \n",
    "    \n",
    "    \n",
    "    \n",
    "    \n"
   ]
  },
  {
   "cell_type": "code",
   "execution_count": 188,
   "metadata": {},
   "outputs": [],
   "source": [
    "def human_node_request(state :State, config):\n",
    "    \"\"\"A node for collecting user confirm.\"\"\"\n",
    "    user_confirm = interrupt(value=\"change details booking.\")\n",
    "    # print(type(user_confirm))\n",
    "    return Command(\n",
    "        update={\n",
    "            \"messages\": [{\"role\": \"human\",\"content\": user_confirm}]\n",
    "        }\n",
    "        # goto=active_agent,\n",
    "    )"
   ]
  },
  {
   "cell_type": "code",
   "execution_count": 189,
   "metadata": {},
   "outputs": [],
   "source": [
    "def ask_request(state :State):\n",
    "    \n",
    "    return Command(\n",
    "        update={\n",
    "            \"messages\": [\n",
    "                {\n",
    "                    \"role\": \"ai\",\n",
    "                    \"content\": \"What would you like to change?\",\n",
    "                }\n",
    "            ]\n",
    "        }\n",
    "    )"
   ]
  },
  {
   "cell_type": "code",
   "execution_count": 190,
   "metadata": {},
   "outputs": [],
   "source": [
    "class FieldChange(BaseModel):\n",
    "    field_name: str = Field(\n",
    "        ..., description= \"The name of the field to be changed. Must be one of: 'name', 'number_phone', 'pick_up_location', 'destination_location', 'pick_up_time', 'flight_code'.\"\n",
    "    )\n",
    "    new_value: Optional[str] = Field(None, description=\"The new value of the field,return 'None' if unspecified.\")\n",
    "\n",
    "class ChangeRequest(BaseModel):\n",
    "    changes: List[FieldChange] = Field(..., description=\"A list of requested changes, each containing a field name and its new value.\")\n"
   ]
  },
  {
   "cell_type": "code",
   "execution_count": 191,
   "metadata": {},
   "outputs": [],
   "source": [
    "def human_ans_request(state :State, config):\n",
    "    \"\"\"A node for collecting user confirm.\"\"\"\n",
    "    user_confirm = interrupt(value=\"Please answer.\")\n",
    "    chain_confirm = llm.with_structured_output(ChangeRequest)\n",
    "    response = chain_confirm.invoke(user_confirm)\n",
    "    return Command(\n",
    "        update={\n",
    "            \"change_request\" : response.changes,\n",
    "            \"messages\": [\n",
    "                {\n",
    "                    \"role\": \"human\",\n",
    "                    \"content\": user_confirm,\n",
    "                }\n",
    "            ]\n",
    "        }\n",
    "    )"
   ]
  },
  {
   "cell_type": "code",
   "execution_count": 192,
   "metadata": {},
   "outputs": [],
   "source": [
    "def perform_request(state :State , config) -> Command[Literal[\"get_info\", \"ask_change\"]] :\n",
    "    new_details = state[\"booking_info\"]\n",
    "    changes = []\n",
    "    processed_fields = []\n",
    "    if \"change_request\" in state:\n",
    "        changes = state[\"change_request\"]\n",
    "    else :\n",
    "        chain_confirm = llm.with_structured_output(ChangeRequest)\n",
    "        response =chain_confirm.invoke(state[\"messages\"][-1].content)\n",
    "        changes = response.changes\n",
    "    for change in changes:\n",
    "            if change.field_name not in [None, \"None\"] and change.field_name in [\"name\", \"number_phone\", \"pick_up_location\", \"destination_location\", \"pick_up_time\", \"flight_code\"]:\n",
    "                if change.new_value not in [None,\"None\"] :\n",
    "                    temp_data = {\n",
    "                        \"name\": \"\",\n",
    "                        \"number_phone\": \"\",\n",
    "                        \"pick_up_location\": \"\",\n",
    "                        \"destination_location\": \"\",\n",
    "                        \"pick_up_time\": \"\",\n",
    "                        \"flight_code\": \"\"\n",
    "                    }\n",
    "                    temp_data.update({change.field_name: change.new_value})  # Chỉ cập nhật field cần thay đổi\n",
    "                    temp_detail = BookingCarDetails(**temp_data)\n",
    "                    new_details = add_non_empty_details(new_details,temp_detail)\n",
    "                    # setattr(new_details, change.field_name, change.new_value)\n",
    "                    processed_fields.append(change)\n",
    "    changes = [change for change in changes if change not in processed_fields]\n",
    "    \n",
    "    if changes : \n",
    "        return Command(\n",
    "            update={\n",
    "                \"handle_request\" : changes[0].field_name,\n",
    "                \"change_request\" : changes,\n",
    "                \"booking_info\" : new_details\n",
    "            },\n",
    "            goto=\"ask_change\",\n",
    "        )\n",
    "\n",
    "    else : \n",
    "        return Command(\n",
    "            update={\n",
    "                \"change_request\" : changes,\n",
    "                \"booking_info\" : new_details\n",
    "            },\n",
    "            goto=\"get_info\",\n",
    "        ) \n",
    "                # else:\n",
    "                #     field_name_mapping = {\n",
    "                #         \"name\": \"name\",\n",
    "                #         \"number_phone\": \"number phone\",\n",
    "                #         \"pick_up_location\": \"pick up location\",\n",
    "                #         \"destination_location\": \"destination location\",\n",
    "                #         \"pick_up_time\": \"pick up time\",\n",
    "                #         \"flight_code\": \"flight code\",\n",
    "                #     }\n",
    "                #     field = field_name_mapping.get(change.field_name)\n",
    "                #     return Command(\n",
    "                #             update={\n",
    "                #                 \"messages\": [\n",
    "                #                     {\n",
    "                #                         \"role\": \"ai\",\n",
    "                #                         \"content\": f\"What would you like to change the {field} to?\",\n",
    "                #                     }\n",
    "                #                 ],\n",
    "                #                 \"change_request\" : changes,\n",
    "                #             },\n",
    "                #             goto=\"human_ans_change\",\n",
    "                #         ) "
   ]
  },
  {
   "cell_type": "code",
   "execution_count": 193,
   "metadata": {},
   "outputs": [],
   "source": [
    "def system_ask_change(state :State, config):\n",
    "    handle_request = state[\"handle_request\"]\n",
    "    field_name_mapping = {\n",
    "        \"name\": \"name\",\n",
    "        \"number_phone\": \"number phone\",\n",
    "        \"pick_up_location\": \"pick up location\",\n",
    "        \"destination_location\": \"destination location\",\n",
    "        \"pick_up_time\": \"pick up time\",\n",
    "        \"flight_code\": \"flight code\",\n",
    "    }\n",
    "    field = field_name_mapping.get(handle_request)\n",
    "    # state[\"change_request\"]\n",
    "    return Command(\n",
    "            update={\n",
    "                \"messages\": [\n",
    "                    {\n",
    "                        \"role\": \"ai\",\n",
    "                        \"content\": f\"What would you like to change the {field} to?\",\n",
    "                    }\n",
    "                ],\n",
    "            },\n",
    "            goto=\"human_ans_change\",\n",
    "        ) "
   ]
  },
  {
   "cell_type": "code",
   "execution_count": 194,
   "metadata": {},
   "outputs": [],
   "source": [
    "def human_node_ans_change(state :State, config) -> Command[Literal[\"get_info\", \"ask_change\"]]:\n",
    "    \"\"\"A node for collecting user confirm.\"\"\"\n",
    "    new_details = state[\"booking_info\"]\n",
    "    user_confirm = interrupt(value=\"Please answer.\")\n",
    "    chain = llm.with_structured_output(BookingCarDetails)\n",
    "    messages = f\"{state[\"handle_request\"]} : {user_confirm}\"\n",
    "    res = chain.invoke(messages)\n",
    "    new_details = add_non_empty_details(new_details,res)\n",
    "    changes = state[\"change_request\"]\n",
    "    changes = [change for change in changes if change.field_name != state[\"handle_request\"] ]\n",
    "    if changes : \n",
    "        return Command(\n",
    "            update={\n",
    "                \"handle_request\" : changes[0].field_name,\n",
    "                \"change_request\" : changes,\n",
    "                \"booking_info\" : new_details\n",
    "            },\n",
    "            goto=\"ask_change\",\n",
    "        )\n",
    "    else :  \n",
    "        return Command(\n",
    "            update={\n",
    "                \"booking_info\" : new_details\n",
    "            },\n",
    "            goto=\"get_info\",\n",
    "        )"
   ]
  },
  {
   "cell_type": "code",
   "execution_count": 195,
   "metadata": {},
   "outputs": [],
   "source": [
    "builder = StateGraph(State)\n",
    "# builder.add_node(\"call_model\", call_model)\n",
    "builder.add_node(\"get_info\", info_chain)\n",
    "builder.add_node(\"ask_info_empty\", ask_info_empty)\n",
    "builder.add_node(\"human\", human_node)\n",
    "builder.add_node(\"human_confirm\", human_node_confirm)\n",
    "builder.add_node(\"ask_confirm\", ask_user_confirm)\n",
    "\n",
    "builder.add_node(\"cancel_book\",cancel_booking)\n",
    "\n",
    "builder.add_node(\"confirm_change\", confirm_change)\n",
    "\n",
    "builder.add_node(\"perform_request\", perform_request)\n",
    "\n",
    "builder.add_node(\"human_request\", human_node_request)\n",
    "builder.add_node(\"ask_request\", ask_request)\n",
    "builder.add_node(\"human_ans\", human_ans_request)\n",
    "builder.add_node(\"ask_change\", system_ask_change)\n",
    "\n",
    "builder.add_node(\"human_ans_change\", human_node_ans_change)\n",
    "\n",
    "\n",
    "builder.add_node(\"get_quotes_booking\", get_quotes)\n",
    "builder.add_node(\"human_choose_quote\", human_choose_quote)\n",
    "builder.add_node(\"accept_booking\", accept_booking) \n",
    "\n",
    "\n",
    "\n",
    "builder.add_edge(START, \"get_info\")\n",
    "# builder.add_edge(\"get_info\", \"ask_confirm\")\n",
    "builder.add_conditional_edges(\"get_info\", get_state ,[\"ask_confirm\", \"ask_info_empty\"])\n",
    "builder.add_edge(\"ask_info_empty\", \"human\")\n",
    "builder.add_edge(\"ask_confirm\", \"human_confirm\")\n",
    "builder.add_conditional_edges(\"human_confirm\", get_confirm_state,[\"get_quotes_booking\",\"cancel_book\", \"confirm_change\",\"perform_request\"])\n",
    "\n",
    "builder.add_edge(\"confirm_change\", \"human_request\")\n",
    "builder.add_conditional_edges(\"human_request\", get_change_state,[\"ask_request\", \"cancel_book\",\"perform_request\"])\n",
    "builder.add_edge(\"get_quotes_booking\", \"human_choose_quote\")\n",
    "builder.add_edge(\"human_choose_quote\", \"accept_booking\")\n",
    "\n",
    "builder.add_edge(\"ask_request\",\"human_ans\")\n",
    "builder.add_edge(\"human_ans\", \"perform_request\")\n",
    "builder.add_edge(\"ask_change\",\"human_ans_change\")\n",
    "builder.add_edge(\"accept_booking\", END)\n",
    "# builder.add_edge(\"call_model\", \"info\")\n",
    "# checkpointer = MemorySaver()\n",
    "# graph = builder.compile(checkpointer=checkpointer)\n",
    "subgraph = builder.compile()"
   ]
  },
  {
   "cell_type": "code",
   "execution_count": 196,
   "metadata": {},
   "outputs": [],
   "source": [
    "parent_graph = StateGraph(RouterState)\n",
    "parent_graph.add_node(router_node)\n",
    "parent_graph.add_node(\"call_model\", call_model)\n",
    "parent_graph.add_node(\"booking_graph\", subgraph)\n",
    "parent_graph.add_edge(START, \"router_node\")\n",
    "parent_graph.add_conditional_edges(\"router_node\", route_after_prediction)\n",
    "# parent_graph.add_edge(\"call_model\", END)\n",
    "# parent_graph.add_edge(\"booking_graph\", END)\n",
    "memory = MemorySaver()\n",
    "graph = parent_graph.compile(checkpointer=memory)"
   ]
  },
  {
   "cell_type": "code",
   "execution_count": 197,
   "metadata": {},
   "outputs": [
    {
     "data": {
      "image/png": "[encoded data removed]",
      "text/plain": [
       "<IPython.core.display.Image object>"
      ]
     },
     "metadata": {},
     "output_type": "display_data"
    }
   ],
   "source": [
    "from IPython.display import Image, display\n",
    "\n",
    "display(Image(graph.get_graph(xray=2).draw_mermaid_png()))"
   ]
  },
  {
   "cell_type": "code",
   "execution_count": 198,
   "metadata": {},
   "outputs": [
    {
     "ename": "SyntaxError",
     "evalue": "expected ':' (3440435761.py, line 1)",
     "output_type": "error",
     "traceback": [
      "\u001b[1;36m  Cell \u001b[1;32mIn[198], line 1\u001b[1;36m\u001b[0m\n\u001b[1;33m    try\u001b[0m\n\u001b[1;37m       ^\u001b[0m\n\u001b[1;31mSyntaxError\u001b[0m\u001b[1;31m:\u001b[0m expected ':'\n"
     ]
    }
   ],
   "source": [
    "try"
   ]
  },
  {
   "cell_type": "code",
   "execution_count": null,
   "metadata": {},
   "outputs": [
    {
     "name": "stdout",
     "output_type": "stream",
     "text": [
      "Đã thoát chatbot.\n"
     ]
    }
   ],
   "source": [
    "import uuid\n",
    "from langchain_core.messages import AIMessage, HumanMessage, ToolMessage\n",
    "\n",
    "config = {\"configurable\": {\"thread_id\": str(uuid.uuid4())}}\n",
    "\n",
    "while True:\n",
    "    user = input(\"Bạn: \")\n",
    "    if user.lower() == \"q\":\n",
    "        print(\"Đã thoát chatbot.\")\n",
    "        break\n",
    "    human_command = {\"messages\": user} \n",
    "    while True:  \n",
    "        last_output = None  \n",
    "        for output in graph.stream(human_command, config=config, stream_mode=\"updates\", subgraphs=True):\n",
    "            print(output)  \n",
    "            last_output = output\n",
    "        if isinstance(last_output, tuple) and isinstance(last_output[1], dict) and \"__interrupt__\" in last_output[1]:\n",
    "            user = input(\"Tiếp tục: \")  \n",
    "            human_command = Command(resume=user)\n",
    "        else:\n",
    "            break \n"
   ]
  },
  {
   "cell_type": "code",
   "execution_count": null,
   "metadata": {},
   "outputs": [],
   "source": []
  },
  {
   "cell_type": "code",
   "execution_count": null,
   "metadata": {},
   "outputs": [
    {
     "name": "stdout",
     "output_type": "stream",
     "text": [
      "{'router_node': {'route': 'other'}}\n",
      "{'call_model': {'messages': AIMessage(content='Hello! How can I assist you with your car booking today?', additional_kwargs={'refusal': None}, response_metadata={'token_usage': {'completion_tokens': 14, 'prompt_tokens': 63, 'total_tokens': 77, 'completion_tokens_details': {'accepted_prediction_tokens': 0, 'audio_tokens': 0, 'reasoning_tokens': 0, 'rejected_prediction_tokens': 0}, 'prompt_tokens_details': {'audio_tokens': 0, 'cached_tokens': 0}}, 'model_name': 'gpt-4o-mini-2024-07-18', 'system_fingerprint': 'fp_72ed7ab54c', 'finish_reason': 'stop', 'logprobs': None}, id='run-e2d17cd8-ca9b-42cc-a109-e3a5cf03a67b-0', usage_metadata={'input_tokens': 63, 'output_tokens': 14, 'total_tokens': 77, 'input_token_details': {'audio': 0, 'cache_read': 0}, 'output_token_details': {'audio': 0, 'reasoning': 0}})}}\n"
     ]
    }
   ],
   "source": [
    "import uuid\n",
    "from langchain_core.messages import AIMessage, HumanMessage, ToolMessage\n",
    "config = {\"configurable\": {\"thread_id\": str(uuid.uuid4())}}\n",
    "user = \"hi\"\n",
    "human_command = Command(update ={\"messages\":\"hi\" })\n",
    "for output in graph.stream(\n",
    "        human_command, config=config, stream_mode=\"updates\"\n",
    "    ):  \n",
    "        message = output\n",
    "        print(message)"
   ]
  },
  {
   "cell_type": "code",
   "execution_count": null,
   "metadata": {},
   "outputs": [
    {
     "name": "stdout",
     "output_type": "stream",
     "text": [
      "((), {'router_node': {'route': 'booking'}})\n",
      "(('booking_graph:d6c66283-7541-612c-6c6d-00e7740fd21d',), {'get_info': {'slot_empty': ['name', 'number_phone', 'pick_up_location', 'destination_location', 'pick_up_time'], 'booking_info': BookingCarDetails(name='', number_phone='', pick_up_location='', destination_location='', pick_up_time='')}})\n",
      "(('booking_graph:d6c66283-7541-612c-6c6d-00e7740fd21d',), {'ask_info_empty': {'messages': [{'role': 'ai', 'content': 'What is your name?'}]}})\n",
      "((), {'__interrupt__': (Interrupt(value='Ready for user input.', resumable=True, ns=['booking_graph:d6c66283-7541-612c-6c6d-00e7740fd21d', 'human:dbe45b1c-2b17-4fb3-d90e-bd670f5cf63a'], when='during'),)})\n"
     ]
    }
   ],
   "source": [
    "import uuid\n",
    "from langchain_core.messages import AIMessage, HumanMessage, ToolMessage\n",
    "config = {\"configurable\": {\"thread_id\": str(uuid.uuid4())}}\n",
    "user = \"i want to book a car\"\n",
    "for output in graph.stream(\n",
    "        {\"messages\": user}, config=config, stream_mode=\"updates\", subgraphs=True\n",
    "    ):  \n",
    "        message = output\n",
    "        print(message)"
   ]
  },
  {
   "cell_type": "code",
   "execution_count": null,
   "metadata": {},
   "outputs": [
    {
     "name": "stdout",
     "output_type": "stream",
     "text": [
      "{'router_node': {'route': 'other'}}\n",
      "{'call_model': {'messages': AIMessage(content='Hello! How can I assist you with your car booking today?', additional_kwargs={'refusal': None}, response_metadata={'token_usage': {'completion_tokens': 14, 'prompt_tokens': 58, 'total_tokens': 72, 'completion_tokens_details': {'accepted_prediction_tokens': 0, 'audio_tokens': 0, 'reasoning_tokens': 0, 'rejected_prediction_tokens': 0}, 'prompt_tokens_details': {'audio_tokens': 0, 'cached_tokens': 0}}, 'model_name': 'gpt-4o-mini-2024-07-18', 'system_fingerprint': 'fp_72ed7ab54c', 'finish_reason': 'stop', 'logprobs': None}, id='run-f43b36f8-47a0-446c-802c-8d34f8a0f52f-0', usage_metadata={'input_tokens': 58, 'output_tokens': 14, 'total_tokens': 72, 'input_token_details': {'audio': 0, 'cache_read': 0}, 'output_token_details': {'audio': 0, 'reasoning': 0}})}}\n"
     ]
    }
   ],
   "source": [
    "import uuid\n",
    "from langchain_core.messages import AIMessage, HumanMessage, ToolMessage\n",
    "config = {\"configurable\": {\"thread_id\": str(uuid.uuid4())}}\n",
    "user = \"hi\"\n",
    "for output in graph.stream(\n",
    "        {\"messages\": user}, config=config, stream_mode=\"updates\"\n",
    "    ):  \n",
    "        message = output\n",
    "        print(message)"
   ]
  },
  {
   "cell_type": "code",
   "execution_count": 199,
   "metadata": {},
   "outputs": [
    {
     "name": "stdout",
     "output_type": "stream",
     "text": [
      "192dbcb8-fe60-47b5-84cf-71a65a778c15\n"
     ]
    }
   ],
   "source": [
    "print(str(uuid.uuid4()))"
   ]
  },
  {
   "cell_type": "code",
   "execution_count": null,
   "metadata": {},
   "outputs": [
    {
     "name": "stdout",
     "output_type": "stream",
     "text": [
      "{'router_node': {'route': 'booking'}}\n",
      "[False]\n",
      "[False]\n",
      "{'get_info': {'slot_empty': [], 'booking_info': BookingCarDetails(name='Huy', number_phone='0917181880', pick_up_location='460 Đ. Trần Đại Nghĩa, Hoà Hải, Điện Bàn, Quảng Nam 550000, Vietnam', destination_location='271 Đ. Nguyễn Văn Linh, Vĩnh Trung, Hải Châu, Đà Nẵng 550000, Vietnam', pick_up_time='2025-02-15T09:00:00.000+07:00', flight_code='No request')}}\n",
      "name='Huy' number_phone='0917181880' pick_up_location='460 Đ. Trần Đại Nghĩa, Hoà Hải, Điện Bàn, Quảng Nam 550000, Vietnam' destination_location='271 Đ. Nguyễn Văn Linh, Vĩnh Trung, Hải Châu, Đà Nẵng 550000, Vietnam' pick_up_time='2025-02-15T09:00:00.000+07:00' flight_code='No request'\n",
      "{'ask_confirm': {'messages': [{'role': 'ai', 'content': 'Please confirm your ride details:\\n- Pickup Location: 460 Đ. Trần Đại Nghĩa, Hoà Hải, Điện Bàn, Quảng Nam 550000, Vietnam\\n- Destination: 271 Đ. Nguyễn Văn Linh, Vĩnh Trung, Hải Châu, Đà Nẵng 550000, Vietnam\\n- Pickup Time: 2025-02-15T09:00:00.000+07:00\\n- Name: Huy\\n- Contact Number: 0917181880\\n- Flight Code: No request\\n'}]}}\n",
      "{'__interrupt__': (Interrupt(value='Please confirm details booking.', resumable=True, ns=['booking_graph:34ec8532-6c22-9faf-4155-2cc203b28661', 'human_confirm:5ee35f9d-fd72-d246-a978-25e8ee119f02'], when='during'),)}\n"
     ]
    }
   ],
   "source": [
    "import uuid\n",
    "from langchain_core.messages import AIMessage, HumanMessage, ToolMessage\n",
    "config = {\"configurable\": {\"thread_id\": str(uuid.uuid4())}}\n",
    "user = \"i want to book a car to 271 Nguyen Van Linh, Da Nang from 460 Tran Dai Nghia, Da Nang at 9 tomorrow, my name is Huy and call me 0917181880 \"\n",
    "for output in graph.stream(\n",
    "        {\"messages\": user}, config=config, stream_mode=\"updates\", subgraphs=True\n",
    "    ):  \n",
    "        message = output\n",
    "        \n",
    "        if isinstance(output, tuple) and len(output) > 1:\n",
    "            data = output[1]\n",
    "            print(data)\n",
    "            for key, value in data.items():\n",
    "                if isinstance(value, dict) and \"booking_info\" in value:\n",
    "                    booking_info = value[\"booking_info\"]\n",
    "                    print(booking_info)  # In toàn bộ object\n",
    "        # print(message)\n",
    "        # if isinstance(message, tuple):\n",
    "        #     print(f\"Assistant: {message[1]}\")"
   ]
  },
  {
   "cell_type": "code",
   "execution_count": null,
   "metadata": {},
   "outputs": [
    {
     "name": "stdout",
     "output_type": "stream",
     "text": [
      "[False]\n",
      "(('booking_graph:34ad4376-546a-15d3-e333-09743fa61da3',), {'human_confirm': {'messages': [{'role': 'human', 'content': 'no '}]}})\n",
      "(('booking_graph:34ad4376-546a-15d3-e333-09743fa61da3',), {'confirm_change': {'messages': [{'role': 'ai', 'content': 'Do you want change booking infomation?'}]}})\n",
      "((), {'__interrupt__': (Interrupt(value='change details booking.', resumable=True, ns=['booking_graph:34ad4376-546a-15d3-e333-09743fa61da3', 'human_request:0669e1df-2abe-0313-ee77-6f302b2a2b49'], when='during'),)})\n"
     ]
    }
   ],
   "source": [
    "human_command = Command(resume =\"no \" )\n",
    "for output in graph.stream(\n",
    "        human_command, config=config, stream_mode=\"updates\", subgraphs=True\n",
    "    ):  \n",
    "        message = output\n",
    "        print(message)"
   ]
  },
  {
   "cell_type": "code",
   "execution_count": null,
   "metadata": {},
   "outputs": [
    {
     "name": "stdout",
     "output_type": "stream",
     "text": [
      "True\n",
      "True\n",
      "(('booking_graph:289e2bda-9a24-5b83-1a1e-481f1c2fd83f',), {'human_request': {'messages': [{'role': 'human', 'content': 'yes'}]}})\n",
      "(('booking_graph:289e2bda-9a24-5b83-1a1e-481f1c2fd83f',), {'ask_request': {'messages': [{'role': 'ai', 'content': 'What would you like to change?'}]}})\n",
      "((), {'__interrupt__': (Interrupt(value='Please answer.', resumable=True, ns=['booking_graph:289e2bda-9a24-5b83-1a1e-481f1c2fd83f', 'human_ans:ac9c1ced-761b-ea07-f814-a2fec416f5f4'], when='during'),)})\n"
     ]
    }
   ],
   "source": [
    "human_command = Command(resume = \"yes\" )\n",
    "for output in graph.stream(\n",
    "        human_command, config=config, stream_mode=\"updates\", subgraphs=True\n",
    "    ):  \n",
    "        message = output\n",
    "        print(message)"
   ]
  },
  {
   "cell_type": "code",
   "execution_count": null,
   "metadata": {},
   "outputs": [
    {
     "name": "stdout",
     "output_type": "stream",
     "text": [
      "[True]\n",
      "(('booking_graph:34ec8532-6c22-9faf-4155-2cc203b28661',), {'human_confirm': {'messages': [{'role': 'human', 'content': ' i want to change pick up to 271 Nguyen Van Linh Da Nang'}]}})\n",
      "(('booking_graph:34ec8532-6c22-9faf-4155-2cc203b28661',), {'perform_request': {'change_request': [], 'booking_info': BookingCarDetails(name='Huy', number_phone='0917181880', pick_up_location='Danang International Airport, Đ. Nguyễn Văn Linh, Hải Châu, Đà Nẵng 550000, Vietnam', destination_location='271 Đ. Nguyễn Văn Linh, Vĩnh Trung, Hải Châu, Đà Nẵng 550000, Vietnam', pick_up_time='20250215', flight_code='request')}})\n",
      "[False]\n",
      "[False]\n",
      "(('booking_graph:34ec8532-6c22-9faf-4155-2cc203b28661',), {'get_info': {'slot_empty': [], 'booking_info': BookingCarDetails(name='Huy', number_phone='0917181880', pick_up_location='271 Đ. Nguyễn Văn Linh, Vĩnh Trung, Hải Châu, Đà Nẵng 550000, Vietnam', destination_location='271 Đ. Nguyễn Văn Linh, Vĩnh Trung, Hải Châu, Đà Nẵng 550000, Vietnam', pick_up_time='20250215', flight_code='No request')}})\n",
      "(('booking_graph:34ec8532-6c22-9faf-4155-2cc203b28661',), {'ask_confirm': {'messages': [{'role': 'ai', 'content': 'Please confirm your ride details:\\n- Pickup Location: 271 Đ. Nguyễn Văn Linh, Vĩnh Trung, Hải Châu, Đà Nẵng 550000, Vietnam\\n- Destination: 271 Đ. Nguyễn Văn Linh, Vĩnh Trung, Hải Châu, Đà Nẵng 550000, Vietnam\\n- Pickup Time: 20250215\\n- Name: Huy\\n- Contact Number: 0917181880\\n- Flight Code: No request\\n'}]}})\n",
      "((), {'__interrupt__': (Interrupt(value='Please confirm details booking.', resumable=True, ns=['booking_graph:34ec8532-6c22-9faf-4155-2cc203b28661', 'human_confirm:3c719ec2-8a5c-fd44-087c-c3e79d02c273'], when='during'),)})\n"
     ]
    }
   ],
   "source": [
    "human_command = Command(resume = \" i want to change pick up to Danang Airport\" )\n",
    "for output in graph.stream(\n",
    "        human_command, config=config, stream_mode=\"updates\", subgraphs=True\n",
    "    ):  \n",
    "        message = output\n",
    "        print(message)\n",
    "        \n",
    "i want change pick up to 271 Nguyen Van Linh Da Nang\n"
   ]
  },
  {
   "cell_type": "code",
   "execution_count": null,
   "metadata": {},
   "outputs": [
    {
     "name": "stdout",
     "output_type": "stream",
     "text": [
      "[True]\n",
      "(('booking_graph:34ec8532-6c22-9faf-4155-2cc203b28661',), {'human': {'messages': [{'role': 'human', 'content': 'VN123'}]}})\n",
      "(('booking_graph:34ec8532-6c22-9faf-4155-2cc203b28661',), {'get_info': {'slot_empty': [], 'booking_info': BookingCarDetails(name='Huy', number_phone='0917181880', pick_up_location='Danang International Airport, Đ. Nguyễn Văn Linh, Hải Châu, Đà Nẵng 550000, Vietnam', destination_location='271 Đ. Nguyễn Văn Linh, Vĩnh Trung, Hải Châu, Đà Nẵng 550000, Vietnam', pick_up_time='20250215', flight_code='VN123')}})\n",
      "(('booking_graph:34ec8532-6c22-9faf-4155-2cc203b28661',), {'ask_confirm': {'messages': [{'role': 'ai', 'content': 'Please confirm your ride details:\\n- Pickup Location: Danang International Airport, Đ. Nguyễn Văn Linh, Hải Châu, Đà Nẵng 550000, Vietnam\\n- Destination: 271 Đ. Nguyễn Văn Linh, Vĩnh Trung, Hải Châu, Đà Nẵng 550000, Vietnam\\n- Pickup Time: 20250215\\n- Name: Huy\\n- Contact Number: 0917181880\\n- Flight Code: VN123\\n'}]}})\n",
      "((), {'__interrupt__': (Interrupt(value='Please confirm details booking.', resumable=True, ns=['booking_graph:34ec8532-6c22-9faf-4155-2cc203b28661', 'human_confirm:cfc2de94-36a3-68d7-e268-9fd0d9f811a2'], when='during'),)})\n"
     ]
    }
   ],
   "source": [
    "human_command = Command(resume = \"VN123\" )\n",
    "for output in graph.stream(\n",
    "        human_command, config=config, stream_mode=\"updates\", subgraphs=True\n",
    "    ):  \n",
    "        message = output\n",
    "        print(message)"
   ]
  },
  {
   "cell_type": "code",
   "execution_count": null,
   "metadata": {},
   "outputs": [
    {
     "name": "stdout",
     "output_type": "stream",
     "text": [
      "no i want to change name and pick up time\n",
      "(('booking_graph:289e2bda-9a24-5b83-1a1e-481f1c2fd83f',), {'human_confirm': {'messages': [{'role': 'human', 'content': 'no i want to change name and pick up time'}]}})\n",
      "(('booking_graph:289e2bda-9a24-5b83-1a1e-481f1c2fd83f',), {'perform_request': {'handle_request': 'name', 'change_request': [FieldChange(field_name='name', new_value='None'), FieldChange(field_name='pick_up_time', new_value='None')], 'booking_info': BookingCarDetails(name='Huy', number_phone='0917181880', pick_up_location='460 Đ. Trần Đại Nghĩa, Hoà Hải, Điện Bàn, Quảng Nam 550000, Vietnam', destination_location='271 Đ. Nguyễn Văn Linh, Vĩnh Trung, Hải Châu, Đà Nẵng 550000, Vietnam', pick_up_time='9 tomorrow')}})\n",
      "(('booking_graph:289e2bda-9a24-5b83-1a1e-481f1c2fd83f',), {'ask_change': {'messages': [{'role': 'ai', 'content': 'What would you like to change the name to?'}]}})\n",
      "((), {'__interrupt__': (Interrupt(value='Please answer.', resumable=True, ns=['booking_graph:289e2bda-9a24-5b83-1a1e-481f1c2fd83f', 'human_ans_change:0aa95084-1eef-51a9-9328-0df047fb01f0'], when='during'),)})\n"
     ]
    }
   ],
   "source": [
    "human_command = Command(resume= \"no i want to change name and pick up time\")\n",
    "for output in graph.stream(\n",
    "        human_command, config , stream_mode= \"updates\", subgraphs=True\n",
    "    ):  \n",
    "        message = output\n",
    "        print(message)"
   ]
  },
  {
   "cell_type": "code",
   "execution_count": null,
   "metadata": {},
   "outputs": [
    {
     "name": "stdout",
     "output_type": "stream",
     "text": [
      "[FieldChange(field_name='pick_up_time', new_value='None')]\n",
      "(('booking_graph:289e2bda-9a24-5b83-1a1e-481f1c2fd83f',), {'human_ans_change': {'handle_request': 'pick_up_time', 'change_request': [FieldChange(field_name='pick_up_time', new_value='None')], 'booking_info': BookingCarDetails(name='Khoa', number_phone='0917181880', pick_up_location='460 Đ. Trần Đại Nghĩa, Hoà Hải, Điện Bàn, Quảng Nam 550000, Vietnam', destination_location='271 Đ. Nguyễn Văn Linh, Vĩnh Trung, Hải Châu, Đà Nẵng 550000, Vietnam', pick_up_time='9 tomorrow')}})\n",
      "(('booking_graph:289e2bda-9a24-5b83-1a1e-481f1c2fd83f',), {'ask_change': {'messages': [{'role': 'ai', 'content': 'What would you like to change the pick up time to?'}]}})\n",
      "((), {'__interrupt__': (Interrupt(value='Please answer.', resumable=True, ns=['booking_graph:289e2bda-9a24-5b83-1a1e-481f1c2fd83f', 'human_ans_change:56c57def-78fb-7dea-d276-c83d9b478337'], when='during'),)})\n"
     ]
    }
   ],
   "source": [
    "\n",
    "human_command = Command(resume =\"Khoa\" )\n",
    "\n",
    "events = graph.stream(human_command,config, stream_mode=\"updates\", subgraphs=True)\n",
    "for event in events:\n",
    "        print(event)"
   ]
  },
  {
   "cell_type": "code",
   "execution_count": null,
   "metadata": {},
   "outputs": [
    {
     "name": "stdout",
     "output_type": "stream",
     "text": [
      "[]\n",
      "(('booking_graph:289e2bda-9a24-5b83-1a1e-481f1c2fd83f',), {'human_ans_change': {'booking_info': BookingCarDetails(name='Khoa', number_phone='0917181880', pick_up_location='460 Đ. Trần Đại Nghĩa, Hoà Hải, Điện Bàn, Quảng Nam 550000, Vietnam', destination_location='271 Đ. Nguyễn Văn Linh, Vĩnh Trung, Hải Châu, Đà Nẵng 550000, Vietnam', pick_up_time='now')}})\n",
      "(('booking_graph:289e2bda-9a24-5b83-1a1e-481f1c2fd83f',), {'ask_confirm': {'messages': [{'role': 'ai', 'content': 'Please confirm your ride details:\\n- Pickup Location: 460 Đ. Trần Đại Nghĩa, Hoà Hải, Điện Bàn, Quảng Nam 550000, Vietnam\\n- Destination: 271 Đ. Nguyễn Văn Linh, Vĩnh Trung, Hải Châu, Đà Nẵng 550000, Vietnam\\n- Pickup Time: now\\n- Name: Khoa\\n- Contact Number: 0917181880\\n'}]}})\n",
      "((), {'__interrupt__': (Interrupt(value='Please confirm details booking.', resumable=True, ns=['booking_graph:289e2bda-9a24-5b83-1a1e-481f1c2fd83f', 'human_confirm:f3554056-2781-c569-ee6a-355d989a3d51'], when='during'),)})\n"
     ]
    }
   ],
   "source": [
    "human_command = Command(resume =\"now\" )\n",
    "\n",
    "events = graph.stream(human_command,config, stream_mode=\"updates\", subgraphs=True)\n",
    "for event in events:\n",
    "        print(event)"
   ]
  },
  {
   "cell_type": "code",
   "execution_count": null,
   "metadata": {},
   "outputs": [
    {
     "name": "stdout",
     "output_type": "stream",
     "text": [
      "8d07c3f5-9086-429f-90a9-0f76b06f27f1\n",
      "(('booking_graph:cbe011ac-e6eb-376a-fdbd-649ec76c7681',), {'human_choose_quote': {'messages': [{'role': 'human', 'content': '8d07c3f5-9086-429f-90a9-0f76b06f27f1'}], 'quote_id': '8d07c3f5-9086-429f-90a9-0f76b06f27f1'}})\n",
      "{'error': 400, 'status': '{\"message\":\"The phone number is not valid according to the E.164 format.\",\"code\":\"VALIDATION_ERROR\",\"statusCode\":400,\"errorCode\":\"VALIDATION_ERROR\",\"data\":{\"statusCode\":400},\"traceId\":\"76148f27-e1d0-438d-86ab-f16ba898322b\"}'}\n",
      "(('booking_graph:cbe011ac-e6eb-376a-fdbd-649ec76c7681',), {'accept_booking': None})\n",
      "((), {'booking_graph': {'messages': [HumanMessage(content='i want to book a car to 271 Nguyen Van Linh, Da Nang from 460 Tran Dai Nghia, Da Nang at 9 tomorrow, my name is Huy ', additional_kwargs={}, response_metadata={}, id='b9ad91d0-6a5f-4ee6-90eb-f86c8e831092'), AIMessage(content='What is your phone number?', additional_kwargs={}, response_metadata={}, id='09811c06-3df7-4c1d-87f3-4b269478a508'), HumanMessage(content='0917181880', additional_kwargs={}, response_metadata={}, id='0ee033c9-f46c-4946-80f9-5de43ce1ada9'), AIMessage(content='Please confirm your ride details:\\n- Pickup Location: 460 Đ. Trần Đại Nghĩa, Hoà Hải, Điện Bàn, Quảng Nam 550000, Vietnam\\n- Destination: 271 Đ. Nguyễn Văn Linh, Vĩnh Trung, Hải Châu, Đà Nẵng 550000, Vietnam\\n- Pickup Time: 9 tomorrow\\n- Name: Huy\\n- Contact Number: 0917181880\\n', additional_kwargs={}, response_metadata={}, id='cf93c8f2-3fd8-4502-948c-a9ee750ccdde'), HumanMessage(content='ok', additional_kwargs={}, response_metadata={}, id='70848f39-60bf-4d03-b033-c63dbc0d3c07'), AIMessage(content='chooese Quotes', additional_kwargs={}, response_metadata={}, id='55e89635-1af1-4fe3-82dd-bdf40a6588da'), HumanMessage(content='8d07c3f5-9086-429f-90a9-0f76b06f27f1', additional_kwargs={}, response_metadata={}, id='dad9764b-2a58-4fc0-9d03-4647c23d789c')], 'quote_id': '8d07c3f5-9086-429f-90a9-0f76b06f27f1', 'booking_info': BookingCarDetails(name='Huy', number_phone='0917181880', pick_up_location='460 Đ. Trần Đại Nghĩa, Hoà Hải, Điện Bàn, Quảng Nam 550000, Vietnam', destination_location='271 Đ. Nguyễn Văn Linh, Vĩnh Trung, Hải Châu, Đà Nẵng 550000, Vietnam', pick_up_time='9 tomorrow'), 'slot_empty': []}})\n"
     ]
    }
   ],
   "source": [
    "\n",
    "human_command = Command(resume=\"8d07c3f5-9086-429f-90a9-0f76b06f27f1\")\n",
    "for output in graph.stream(\n",
    "        human_command, config , stream_mode= \"updates\", subgraphs=True\n",
    "    ):  \n",
    "        print(output)"
   ]
  },
  {
   "cell_type": "code",
   "execution_count": null,
   "metadata": {},
   "outputs": [
    {
     "name": "stdout",
     "output_type": "stream",
     "text": [
      "User (q/Q to quit): q\n",
      "AI: Byebye\n"
     ]
    }
   ],
   "source": [
    "import uuid\n",
    "from langchain_core.messages import AIMessage, HumanMessage, ToolMessage\n",
    "config = {\"configurable\": {\"thread_id\": str(uuid.uuid4())}}\n",
    "while True:\n",
    "    user = input(\"User (q/Q to quit): \")\n",
    "    print(f\"User (q/Q to quit): {user}\")\n",
    "    if user in {\"q\", \"Q\"}:\n",
    "        print(\"AI: Byebye\")\n",
    "        break\n",
    "    output = None\n",
    "    for output in graph.stream(\n",
    "        {\"messages\": user}, config=config, stream_mode=\"updates\"\n",
    "    ):  \n",
    "        print(output)\n",
    "        # last_message = next(iter(output.values()))[\"messages\"][-1]\n",
    "        # last_message.pretty_print()"
   ]
  },
  {
   "cell_type": "code",
   "execution_count": null,
   "metadata": {},
   "outputs": [
    {
     "ename": "SyntaxError",
     "evalue": "leading zeros in decimal integer literals are not permitted; use an 0o prefix for octal integers (3553203731.py, line 1)",
     "output_type": "error",
     "traceback": [
      "\u001b[1;36m  Cell \u001b[1;32mIn[129], line 1\u001b[1;36m\u001b[0m\n\u001b[1;33m    i want to book a car to 271 Nguyen Van Linh, Da Nang from 460 Tran Dai Nghia, Da Nang at 9 tomorrow, my name is Huy call me 0917181880\u001b[0m\n\u001b[1;37m                                                                                                                                ^\u001b[0m\n\u001b[1;31mSyntaxError\u001b[0m\u001b[1;31m:\u001b[0m leading zeros in decimal integer literals are not permitted; use an 0o prefix for octal integers\n"
     ]
    }
   ],
   "source": [
    "i want to book a car to 271 Nguyen Van Linh, Da Nang from 460 Tran Dai Nghia, Da Nang at 9 tomorrow, my name is Huy call me 0917181880"
   ]
  },
  {
   "cell_type": "code",
   "execution_count": null,
   "metadata": {},
   "outputs": [
    {
     "name": "stdout",
     "output_type": "stream",
     "text": [
      "\n",
      "--- Conversation Turn 1 ---\n",
      "\n",
      "User: {'messages': [{'role': 'user', 'content': 'I want to book a car from 271 Nguyen Van Linh to 466 NGuyen van linh da nang at now'}]}\n",
      "\n",
      "call_model: To book a car from 271 Nguyen Van Linh to 466 Nguyen Van Linh in Da Nang, you can use a ride-hailing app like Grab, Gojek, or a local taxi service. Here’s how you can do it:\n",
      "\n",
      "1. **Open the App**: Launch your preferred ride-hailing app on your smartphone.\n",
      "2. **Set Pickup Location**: Enter \"271 Nguyen Van Linh\" as your pickup location.\n",
      "3. **Set Drop-off Location**: Enter \"466 Nguyen Van Linh\" as your destination.\n",
      "4. **Choose Vehicle Type**: Select the type of vehicle you want (standard, premium, etc.).\n",
      "5. **Confirm Booking**: Review the fare estimate and confirm your booking.\n",
      "6. **Wait for Driver**: Once booked, wait for the driver to arrive at your location.\n",
      "\n",
      "If you prefer to call a local taxi service, you can find their contact number online or through a local directory. Make sure to provide them with the pickup and drop-off addresses clearly.\n",
      "\n",
      "Safe travels!\n",
      "\n",
      "--- Conversation Turn 2 ---\n",
      "\n",
      "User: Command(resume='name Huy.')\n",
      "\n",
      "\n",
      "--- Conversation Turn 3 ---\n",
      "\n",
      "User: Command(resume='0917181880')\n",
      "\n"
     ]
    }
   ],
   "source": [
    "# import uuid\n",
    "\n",
    "# thread_config = {\"configurable\": {\"thread_id\": uuid.uuid4()}}\n",
    "\n",
    "# inputs = [\n",
    "#     # 1st round of conversation,\n",
    "#     {\n",
    "#         \"messages\": [\n",
    "#             {\"role\": \"user\", \"content\": \"I want to book a car from 271 Nguyen Van Linh to 466 NGuyen van linh da nang at now\"}\n",
    "#         ]\n",
    "#     },\n",
    "#     # Since we're using `interrupt`, we'll need to resume using the Command primitive.\n",
    "#     # 2nd round of conversation,\n",
    "#     Command(\n",
    "#         resume=\"name Huy.\"\n",
    "#     ),\n",
    "#     # 3rd round of conversation,\n",
    "#     Command(\n",
    "#         resume=\"0917181880\"\n",
    "#     ),\n",
    "# ]\n",
    "\n",
    "# for idx, user_input in enumerate(inputs):\n",
    "#     print()\n",
    "#     print(f\"--- Conversation Turn {idx + 1} ---\")\n",
    "#     print()\n",
    "#     print(f\"User: {user_input}\")\n",
    "#     print()\n",
    "#     for update in graph.stream(\n",
    "#         user_input,\n",
    "#         config=thread_config,\n",
    "#         stream_mode=\"updates\",\n",
    "#     ):\n",
    "#         for node_id, value in update.items():\n",
    "#             if isinstance(value, dict) and value.get(\"messages\", []):\n",
    "#                 last_message = value[\"messages\"][-1]\n",
    "#                 if isinstance(last_message, dict) or last_message.type != \"ai\":\n",
    "#                     continue\n",
    "#                 print(f\"{node_id}: {last_message.content}\")"
   ]
  },
  {
   "cell_type": "code",
   "execution_count": null,
   "metadata": {},
   "outputs": [
    {
     "data": {
      "image/png": "[encoded data removed]",
      "text/plain": [
       "<IPython.core.display.Image object>"
      ]
     },
     "metadata": {},
     "output_type": "display_data"
    }
   ],
   "source": [
    "no i want to change pick up to Danang Airport"
   ]
  }
 ],
 "metadata": {
  "kernelspec": {
   "display_name": "env_langchain",
   "language": "python",
   "name": "python3"
  },
  "language_info": {
   "codemirror_mode": {
    "name": "ipython",
    "version": 3
   },
   "file_extension": ".py",
   "mimetype": "text/x-python",
   "name": "python",
   "nbconvert_exporter": "python",
   "pygments_lexer": "ipython3",
   "version": "3.12.8"
  }
 },
 "nbformat": 4,
 "nbformat_minor": 2
}
