{
 "cells": [
  {
   "cell_type": "code",
   "execution_count": null,
   "metadata": {},
   "outputs": [],
   "source": [
    "from datetime import date, datetime\n",
    "from typing import Optional, Union\n",
    "import sqlite3\n",
    "from API.booking import BookingAPI\n",
    "from API.geoCoding import GeoCodingAPI\n",
    "from API.getKey import OAuthClient\n",
    "from API.getQuotes import QuotesAPI\n",
    "from API.is_Airport import IsAirport\n",
    "from langchain_core.tools import tool\n",
    "# @tool \n",
    "# def action_ask_confirm_info():\n",
    "#     pass\n",
    "@tool \n",
    "def validate_pick_up_location(location: str):\n",
    "    geoCodingAPI = GeoCodingAPI()\n",
    "    geoCoding_pickup = geoCodingAPI.get_geocoding(location)\n",
    "    try:\n",
    "        if geoCoding_pickup[\"status\"] == \"OK\" :\n",
    "            return {\"pick_up_result\": geoCoding_pickup}\n",
    "        else:\n",
    "            return {\"pick_up_location\": None}\n",
    "    except Exception as e:\n",
    "        print(e)\n",
    "        return {\"pick_up_location\": None}\n",
    "    "
   ]
  },
  {
   "cell_type": "code",
   "execution_count": null,
   "metadata": {},
   "outputs": [],
   "source": []
  },
  {
   "cell_type": "code",
   "execution_count": 1,
   "metadata": {},
   "outputs": [],
   "source": [
    "class BookingForm :\n",
    "    def __init__(self):\n",
    "        self.required_slots = [\"name\",\"number-phone\",\"pickup_location\", \"destination_location\", \"pickup_time\"]\n",
    "        self.slots = {slot: None for slot in self.required_slots}\n",
    "\n",
    "    def get_next_slot(self):\n",
    "        for slot, value in self.slots.items():\n",
    "            if value is None: \n",
    "                return slot\n",
    "        return None \n",
    "\n",
    "    def handle_user_input(self, slot, user_input):\n",
    "        self.slots[slot] = user_input\n",
    "\n",
    "    def is_complete(self):\n",
    "        return all(value is not None for value in self.slots.values())\n",
    "\n",
    "    def run(self):\n",
    "        print(\"Welcome! I need some information to book your ride.\")\n",
    "\n",
    "        while not self.is_complete():\n",
    "            next_slot = self.get_next_slot()\n",
    "            if next_slot:\n",
    "                # Hỏi người dùng về slot tiếp theo\n",
    "                user_input = input(f\"Please provide your {next_slot.replace('_', ' ')}: \")\n",
    "                self.handle_user_input(next_slot, user_input)\n",
    "\n",
    "        print(\"Thank you! Here is the information you provided:\")\n",
    "        for slot, value in self.slots.items():\n",
    "            print(f\"{slot.replace('_', ' ').capitalize()}: {value}\")\n"
   ]
  },
  {
   "cell_type": "code",
   "execution_count": 2,
   "metadata": {},
   "outputs": [],
   "source": [
    "from typing import Annotated, Literal, Optional\n",
    "from typing_extensions import TypedDict\n",
    "from langgraph.graph.message import AnyMessage, add_messages\n",
    "\n",
    "def update_dialog_stack(left: list[str], right: Optional[str]) -> list[str]:\n",
    "    \"\"\"Push or pop the state.\"\"\"\n",
    "    if right is None:\n",
    "        return left\n",
    "    if right == \"pop\":\n",
    "        return left[:-1]\n",
    "    return left + [right]\n",
    "\n",
    "class State(TypedDict):\n",
    "    messages: Annotated[list[AnyMessage], add_messages]\n",
    "    user_info: str\n",
    "    dialog_state: Annotated[\n",
    "        list[\n",
    "            Literal[\n",
    "                \"assistant\",\n",
    "                \"book_car\",\n",
    "            ]\n",
    "        ],\n",
    "        update_dialog_stack,\n",
    "    ]"
   ]
  },
  {
   "cell_type": "code",
   "execution_count": 4,
   "metadata": {},
   "outputs": [],
   "source": [
    "from langchain_core.prompts import ChatPromptTemplate\n",
    "from langchain_core.runnables import Runnable, RunnableConfig\n",
    "\n",
    "from pydantic import BaseModel, Field"
   ]
  },
  {
   "cell_type": "code",
   "execution_count": null,
   "metadata": {},
   "outputs": [],
   "source": []
  },
  {
   "cell_type": "code",
   "execution_count": 3,
   "metadata": {},
   "outputs": [
    {
     "ename": "NameError",
     "evalue": "name 'BaseModel' is not defined",
     "output_type": "error",
     "traceback": [
      "\u001b[1;31m---------------------------------------------------------------------------\u001b[0m",
      "\u001b[1;31mNameError\u001b[0m                                 Traceback (most recent call last)",
      "Cell \u001b[1;32mIn[3], line 1\u001b[0m\n\u001b[1;32m----> 1\u001b[0m \u001b[38;5;28;01mclass\u001b[39;00m\u001b[38;5;250m \u001b[39m\u001b[38;5;21;01mToBookCarRental\u001b[39;00m(\u001b[43mBaseModel\u001b[49m):\n\u001b[0;32m      2\u001b[0m \u001b[38;5;250m    \u001b[39m\u001b[38;5;124;03m\"\"\"Transfers work to a specialized assistant to handle car rental bookings.\"\"\"\u001b[39;00m\n\u001b[0;32m      4\u001b[0m     location: \u001b[38;5;28mstr\u001b[39m \u001b[38;5;241m=\u001b[39m Field(\n\u001b[0;32m      5\u001b[0m         description\u001b[38;5;241m=\u001b[39m\u001b[38;5;124m\"\u001b[39m\u001b[38;5;124mThe location where the user wants to rent a car.\u001b[39m\u001b[38;5;124m\"\u001b[39m\n\u001b[0;32m      6\u001b[0m     )\n",
      "\u001b[1;31mNameError\u001b[0m: name 'BaseModel' is not defined"
     ]
    }
   ],
   "source": [
    "class ToBookCarRental(BaseModel):\n",
    "    \"\"\"Transfers work to a specialized assistant to handle car rental bookings.\"\"\"\n",
    "\n",
    "    location: str = Field(\n",
    "        description=\"The location where the user wants to rent a car.\"\n",
    "    )\n",
    "    start_date: str = Field(description=\"The start date of the car rental.\")\n",
    "    end_date: str = Field(description=\"The end date of the car rental.\")\n",
    "    request: str = Field(\n",
    "        description=\"Any additional information or requests from the user regarding the car rental.\"\n",
    "    )\n",
    "\n",
    "    class Config:\n",
    "        json_schema_extra = {\n",
    "            \"example\": {\n",
    "                \"location\": \"Basel\",\n",
    "                \"start_date\": \"2023-07-01\",\n",
    "                \"end_date\": \"2023-07-05\",\n",
    "                \"request\": \"I need a compact car with automatic transmission.\",\n",
    "            }\n",
    "        }"
   ]
  }
 ],
 "metadata": {
  "kernelspec": {
   "display_name": "env_langchain",
   "language": "python",
   "name": "python3"
  },
  "language_info": {
   "codemirror_mode": {
    "name": "ipython",
    "version": 3
   },
   "file_extension": ".py",
   "mimetype": "text/x-python",
   "name": "python",
   "nbconvert_exporter": "python",
   "pygments_lexer": "ipython3",
   "version": "3.10.16"
  }
 },
 "nbformat": 4,
 "nbformat_minor": 2
}
